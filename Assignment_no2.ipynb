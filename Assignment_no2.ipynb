{
 "cells": [
  {
   "cell_type": "markdown",
   "id": "dfec3304-8360-4701-a67b-5f8b3c1a7d42",
   "metadata": {},
   "source": [
    "##### 1. Create a package named ‘cricket’ which will contain modules named batsman and bowler. Create following functions in respective modules.\n",
    "##### Import the package and call all these functions in your program batsman: findaverage(runs,matches), strikerate(runs,balls)\n",
    "##### bowler: findavg(runs,wickets), economyrate(overs, runs)"
   ]
  },
  {
   "cell_type": "code",
   "execution_count": 1,
   "id": "e6816fe6-bc37-415e-bff5-37789ab9546a",
   "metadata": {},
   "outputs": [
    {
     "name": "stdout",
     "output_type": "stream",
     "text": [
      "Economy rate is = 9.166666666666666\n"
     ]
    }
   ],
   "source": [
    "import Bowler\n",
    "Bowler.economy_rate(55,6)"
   ]
  },
  {
   "cell_type": "code",
   "execution_count": 2,
   "id": "2e36da11-377a-4d73-b3d3-343c749e4a02",
   "metadata": {},
   "outputs": [
    {
     "name": "stdout",
     "output_type": "stream",
     "text": [
      "Average of batting is = 24.75\n",
      "Strike Rate is : 187.5\n"
     ]
    }
   ],
   "source": [
    "import Strike_Avg\n",
    "Strike_Avg.average(99,4)\n",
    "Strike_Avg.strike_rate(75,40)"
   ]
  },
  {
   "cell_type": "markdown",
   "id": "2d8f5b6c-6173-4955-8c53-c8f3de9c3e82",
   "metadata": {},
   "source": [
    "##### 2. Write a Python function to find whether the number if prime or not."
   ]
  },
  {
   "cell_type": "code",
   "execution_count": 3,
   "id": "6df824b0-a1b1-41cf-8292-95f1bd554944",
   "metadata": {},
   "outputs": [
    {
     "data": {
      "text/plain": [
       "'It is not prime number'"
      ]
     },
     "execution_count": 3,
     "metadata": {},
     "output_type": "execute_result"
    }
   ],
   "source": [
    "def isPrime(num):\n",
    "    if num <= 1:\n",
    "        return 'not prime'\n",
    "    \n",
    "    for i in range(2, int(num**0.5) + 1):\n",
    "        if num % i == 0:\n",
    "            return 'It is not prime number'\n",
    "        else:  \n",
    "            return 'It is prime number'\n",
    "isPrime(10)"
   ]
  },
  {
   "cell_type": "markdown",
   "id": "f7980c7d-a38f-4f33-bc25-c496ce84f964",
   "metadata": {},
   "source": [
    "##### 3.Write a function is_palindrome(string) that takes a string as input and returns true if the string reads the same backward as forward(e.g..,\"racecar\" is a paladrome)"
   ]
  },
  {
   "cell_type": "code",
   "execution_count": 4,
   "id": "89133b39-4181-4a9d-8bf3-6a28d11f17c3",
   "metadata": {},
   "outputs": [
    {
     "data": {
      "text/plain": [
       "'The string is a palindrome'"
      ]
     },
     "execution_count": 4,
     "metadata": {},
     "output_type": "execute_result"
    }
   ],
   "source": [
    "def is_palinrome(string):         \n",
    "    if(string == string[::-1]):    #Slicing \n",
    "        return 'The string is a palindrome'\n",
    "    else:\n",
    "        return 'This is not  palindrome'\n",
    "is_palinrome('wow')"
   ]
  },
  {
   "cell_type": "markdown",
   "id": "a21fe14b-31ec-475b-bef3-c6f286e4a15f",
   "metadata": {},
   "source": [
    "##### 4.Write a function reverse_list(data) that takes a list as input and returns a new list with the elements in reverse order\n",
    "##### (e.g..,, reverse_list([1, 2, 3])returns([3, 2, 1])."
   ]
  },
  {
   "cell_type": "code",
   "execution_count": 5,
   "id": "84e7611f-79b4-417a-8d4a-ce7e62f12ca6",
   "metadata": {},
   "outputs": [
    {
     "data": {
      "text/plain": [
       "[50, 45, 40, 35, 30, 25, 20, 15, 11]"
      ]
     },
     "execution_count": 5,
     "metadata": {},
     "output_type": "execute_result"
    }
   ],
   "source": [
    "def reverse_list(data):              \n",
    "    return data[::-1]                \n",
    "reverse_list([11,15,20,25,30,35,40,45,50])"
   ]
  },
  {
   "cell_type": "markdown",
   "id": "7f7cdb27-eae8-4523-a767-5e4020f3d6c6",
   "metadata": {},
   "source": [
    "##### 5.Write a function write_file(filename, content) that takes a filename and content as input and writes the content to the specified file."
   ]
  },
  {
   "cell_type": "code",
   "execution_count": 6,
   "id": "fb053950-a140-42db-92e1-f13a1be84021",
   "metadata": {},
   "outputs": [],
   "source": [
    "def write_file(filename, content):\n",
    "    with open(filename, 'w') as f:\n",
    "        f.write(content)\n",
    "write_file('Write.txt', 'I like Python Programming')"
   ]
  },
  {
   "cell_type": "markdown",
   "id": "db0393e7-5386-4bc2-9942-f406e8957358",
   "metadata": {},
   "source": [
    "##### 6.Write a function copy_file(source_filename, destination_filename) thattakes the source and destination filenames as input and copies the content of the source file to the destination file. Handle cases where the source file doesn't exist."
   ]
  },
  {
   "cell_type": "code",
   "execution_count": 7,
   "id": "e4fe8058-4363-47be-a9cb-fd8356a7da14",
   "metadata": {},
   "outputs": [],
   "source": [
    "def copy_file(source_filename, destination_filename):\n",
    "    with open(source_filename,'r') as f:\n",
    "        with open(destination_filename,'w') as fw:\n",
    "            content = f.read()\n",
    "            fw.write(content)\n",
    "copy_file('test1.txt','Test5.txt')"
   ]
  },
  {
   "cell_type": "markdown",
   "id": "df992cf0-dd0e-4fbe-9aef-d1029133e6ee",
   "metadata": {},
   "source": [
    "##### 7.Implement a function to calculate the dot product of two NumPy arrays."
   ]
  },
  {
   "cell_type": "code",
   "execution_count": 8,
   "id": "9ca4b343-5437-4b4c-b5e7-cf40eddcca76",
   "metadata": {},
   "outputs": [
    {
     "data": {
      "text/plain": [
       "5669"
      ]
     },
     "execution_count": 8,
     "metadata": {},
     "output_type": "execute_result"
    }
   ],
   "source": [
    "import numpy as np\n",
    "def calculate_dot_product(array1, array2):\n",
    "    return np.dot(array1, array2)\n",
    "    result = calculate_dot_product(array1, array2)\n",
    "    print('Dot product:', result)\n",
    "    \n",
    "calculate_dot_product(([99,77,50]),([11,40,30]))"
   ]
  },
  {
   "cell_type": "markdown",
   "id": "85f87b94-4c5e-4e1b-a2e8-d958c3f3af39",
   "metadata": {},
   "source": [
    "##### 8. Implement a GUI with a radio button selection for choosing a favorite color (e.g., red,green, blue). Change the background color of the window based on the selected radio button."
   ]
  },
  {
   "cell_type": "code",
   "execution_count": 9,
   "id": "63b65adf-d6ef-433b-89a0-eb525bc4bdf8",
   "metadata": {},
   "outputs": [],
   "source": [
    "import tkinter as tk\n",
    "top = tk.Tk()\n",
    "\n",
    "top.title(\"Change Background Color\")\n",
    "top.geometry('800x800')\n",
    "\n",
    "def change_bg_color():\n",
    "    selected_color = color_var.get()\n",
    "    if selected_color == 1:\n",
    "        top.config(bg='purple')\n",
    "    elif selected_color == 2:\n",
    "        top.config(bg='magenta')\n",
    "    elif selected_color == 3:\n",
    "        top.config(bg='pink')\n",
    "\n",
    "color_var = tk.IntVar()\n",
    "\n",
    "radio1 = tk.Radiobutton(top, text=\"purple\", variable=color_var, value=1, command=change_bg_color).place(x=150,y=100)\n",
    "radio2 = tk.Radiobutton(top, text=\"magenta\", variable=color_var, value=2, command=change_bg_color).place(x=300,y=100)\n",
    "radio3 = tk.Radiobutton(top, text=\"pink\", variable=color_var, value=3, command=change_bg_color).place(x=500,y=100)\n",
    "\n",
    "color_var.set(1)\n",
    "top.config(bg='purple')\n",
    "\n",
    "top.mainloop()"
   ]
  },
  {
   "cell_type": "markdown",
   "id": "568320ff-7c93-4fd6-a9de-5922b459fd66",
   "metadata": {},
   "source": [
    "##### 9. Design a currency converter GUI. Allow users to enter an amount and select thecurrencies they want to convert between (e.g., USD, EUR). Display the converted amount in the selected currency."
   ]
  },
  {
   "cell_type": "code",
   "execution_count": 10,
   "id": "772e5d17-18a1-48fc-9671-4f7b4cba9934",
   "metadata": {},
   "outputs": [],
   "source": [
    "import tkinter as tk\n",
    "from tkinter import ttk\n",
    "\n",
    "top = tk.Tk()\n",
    "top.title(\"Currency Converter\")\n",
    "top.geometry('800x900')\n",
    "\n",
    "def convert_currency():\n",
    "    conversion_rate = 0.85 \n",
    "    amount = float(amount_entry.get())\n",
    "    converted_amount = amount * conversion_rate\n",
    "    converted_amount_label.config(text=f\"Converted Amount: {converted_amount:.2f}\")\n",
    "\n",
    "tk.Label(top, text=\"Enter Amount:\",bg= 'Grey').place(x =150,y=150)\n",
    "amount_entry = tk.Entry(top)\n",
    "amount_entry.place(x=300, y =150)\n",
    "\n",
    "tk.Label(top, text=\"From Currency:\",bg= 'Pink').place(x = 150,y = 250)\n",
    "from_currency = ttk.Combobox(top, values=[\"USD\", \"EUR\"])\n",
    "from_currency.place(x = 300,y = 250)\n",
    "from_currency.set(\"USD\")\n",
    "\n",
    "tk.Label(top, text=\"To Currency:\",bg= 'Gray').place(x = 150 , y = 350)\n",
    "to_currency = ttk.Combobox(top, values=[\"USD\", \"EUR\"])\n",
    "to_currency.place(x = 300 , y = 350)\n",
    "to_currency.set(\"EUR\")\n",
    "\n",
    "convert_button = tk.Button(top, text=\"Convert\", command=convert_currency,bg ='Purple')\n",
    "convert_button.place(x = 150 , y = 500)\n",
    "\n",
    "converted_amount_label = tk.Label(top, text=\"Converted Amount:\", bg= 'Yellow')\n",
    "converted_amount_label.place(x = 300 , y = 500)\n",
    "\n",
    "top.mainloop()"
   ]
  },
  {
   "cell_type": "code",
   "execution_count": null,
   "id": "9ee3a5ca-5761-4f3a-b17d-dabeaaf5aa7d",
   "metadata": {},
   "outputs": [],
   "source": []
  }
 ],
 "metadata": {
  "kernelspec": {
   "display_name": "Python 3 (ipykernel)",
   "language": "python",
   "name": "python3"
  },
  "language_info": {
   "codemirror_mode": {
    "name": "ipython",
    "version": 3
   },
   "file_extension": ".py",
   "mimetype": "text/x-python",
   "name": "python",
   "nbconvert_exporter": "python",
   "pygments_lexer": "ipython3",
   "version": "3.11.7"
  }
 },
 "nbformat": 4,
 "nbformat_minor": 5
}
