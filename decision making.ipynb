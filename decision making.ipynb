{
 "cells": [
  {
   "cell_type": "code",
   "execution_count": 3,
   "id": "db899277-5bb2-4ede-92f0-5ce6bb8d5bdb",
   "metadata": {},
   "outputs": [
    {
     "name": "stdout",
     "output_type": "stream",
     "text": [
      "OK\n"
     ]
    }
   ],
   "source": [
    "# cheak the no greater than 50\n",
    "num = 80\n",
    "if num>50:\n",
    "  print('OK')"
   ]
  },
  {
   "cell_type": "code",
   "execution_count": 4,
   "id": "8d64167c-f3c9-48ea-a65c-8040772ce5ad",
   "metadata": {},
   "outputs": [
    {
     "name": "stdin",
     "output_type": "stream",
     "text": [
      "Enter the number 40\n"
     ]
    }
   ],
   "source": [
    "# cheak the no greater than 50\n",
    "num = int(input('Enter the number'))\n",
    "if num>50:\n",
    "  print('OK')"
   ]
  },
  {
   "cell_type": "code",
   "execution_count": 7,
   "id": "e23e9c28-0e0c-45cb-88d5-e0047a21d75d",
   "metadata": {},
   "outputs": [
    {
     "name": "stdin",
     "output_type": "stream",
     "text": [
      "Enter the number 2\n"
     ]
    },
    {
     "name": "stdout",
     "output_type": "stream",
     "text": [
      "Positive\n",
      "OK\n"
     ]
    }
   ],
   "source": [
    "# positive or negative\n",
    "num = int(input('Enter the number'))\n",
    "if num>0:\n",
    "  print('Positive')\n",
    "  print('OK')\n",
    "else:\n",
    "    print('Negative')\n",
    "    print('GoodBye!!!')"
   ]
  },
  {
   "cell_type": "code",
   "execution_count": 8,
   "id": "87e2e834-bf95-4d10-8596-d2b6e2b73c93",
   "metadata": {},
   "outputs": [
    {
     "name": "stdin",
     "output_type": "stream",
     "text": [
      "Enter the number 0\n"
     ]
    },
    {
     "name": "stdout",
     "output_type": "stream",
     "text": [
      "Negative\n",
      "GoodBye!!!\n"
     ]
    }
   ],
   "source": [
    "# positive or negative\n",
    "num = int(input('Enter the number'))\n",
    "if num>0:\n",
    "  print('Positive')\n",
    "  print('OK')\n",
    "else:\n",
    "    print('Negative')\n",
    "    print('GoodBye!!!')"
   ]
  },
  {
   "cell_type": "code",
   "execution_count": 10,
   "id": "992bdfd4-05b6-485f-9aa8-ce44b71e09be",
   "metadata": {},
   "outputs": [
    {
     "name": "stdin",
     "output_type": "stream",
     "text": [
      "Enter the number 0\n"
     ]
    },
    {
     "name": "stdout",
     "output_type": "stream",
     "text": [
      "Zero\n"
     ]
    }
   ],
   "source": [
    "num = int(input('Enter the number'))\n",
    "if num>0:\n",
    "  print('Positive')\n",
    "elif num == 0:\n",
    "  print('Zero')\n",
    "else:\n",
    "  print('Negative')\n",
    "  print('GoodBye!!!')"
   ]
  },
  {
   "cell_type": "code",
   "execution_count": 11,
   "id": "f29dfbfe-68e1-4ede-a8b8-24b760dfd366",
   "metadata": {},
   "outputs": [
    {
     "name": "stdin",
     "output_type": "stream",
     "text": [
      "Enter the number 5\n"
     ]
    },
    {
     "name": "stdout",
     "output_type": "stream",
     "text": [
      "no is odd\n"
     ]
    }
   ],
   "source": [
    "#cheak no odd or even\n",
    "num = int(input('Enter the number'))\n",
    "if num%2 == 0:\n",
    "    print('no is even')\n",
    "else:\n",
    "    print('no is odd')"
   ]
  },
  {
   "cell_type": "code",
   "execution_count": 12,
   "id": "c83573a1-63c6-440a-a2b1-31c05e48ee6b",
   "metadata": {},
   "outputs": [
    {
     "data": {
      "text/plain": [
       "1"
      ]
     },
     "execution_count": 12,
     "metadata": {},
     "output_type": "execute_result"
    }
   ],
   "source": [
    "int(True)"
   ]
  },
  {
   "cell_type": "code",
   "execution_count": 14,
   "id": "e444daa3-55b7-41f7-a603-187192d8f7f7",
   "metadata": {},
   "outputs": [
    {
     "data": {
      "text/plain": [
       "0"
      ]
     },
     "execution_count": 14,
     "metadata": {},
     "output_type": "execute_result"
    }
   ],
   "source": [
    "int(False)"
   ]
  },
  {
   "cell_type": "code",
   "execution_count": 15,
   "id": "088d0807-6a80-43de-9b31-a09a55d35600",
   "metadata": {},
   "outputs": [
    {
     "data": {
      "text/plain": [
       "2"
      ]
     },
     "execution_count": 15,
     "metadata": {},
     "output_type": "execute_result"
    }
   ],
   "source": [
    "True + True - False"
   ]
  },
  {
   "cell_type": "code",
   "execution_count": 17,
   "id": "02279c73-c252-4cf4-9108-550e4f86018d",
   "metadata": {},
   "outputs": [
    {
     "name": "stdout",
     "output_type": "stream",
     "text": [
      "*!*\n"
     ]
    }
   ],
   "source": [
    "a = 12\n",
    "if a:\n",
    "    print('*!*')"
   ]
  },
  {
   "cell_type": "code",
   "execution_count": 18,
   "id": "119854ad-9aa5-476c-95ca-52a514182bd3",
   "metadata": {},
   "outputs": [
    {
     "name": "stdin",
     "output_type": "stream",
     "text": [
      "Enter the number 100\n"
     ]
    },
    {
     "name": "stdout",
     "output_type": "stream",
     "text": [
      "Correct\n"
     ]
    }
   ],
   "source": [
    "# check if the no is between 50 and 150\n",
    "num = int(input('Enter the number'))\n",
    "if num>50:\n",
    "    if num<150:\n",
    "        print('Correct')\n",
    "    else:\n",
    "        print('Greater than 150')\n",
    "else:\n",
    "    print('incorrect')"
   ]
  },
  {
   "cell_type": "code",
   "execution_count": 19,
   "id": "c9204525-2571-48eb-8fc4-cc10d91a8da6",
   "metadata": {},
   "outputs": [
    {
     "name": "stdin",
     "output_type": "stream",
     "text": [
      "Enter the number 9\n"
     ]
    },
    {
     "name": "stdout",
     "output_type": "stream",
     "text": [
      "incorrect\n"
     ]
    }
   ],
   "source": [
    "num = int(input('Enter the number'))\n",
    "if num>50:\n",
    "    if num<150:\n",
    "        print('Correct')\n",
    "    else:\n",
    "        print('Greater than 150')\n",
    "else:\n",
    "    print('incorrect')"
   ]
  },
  {
   "cell_type": "code",
   "execution_count": 20,
   "id": "fb455e69-2b54-4409-8c6a-3810dc6db0d6",
   "metadata": {},
   "outputs": [
    {
     "name": "stdin",
     "output_type": "stream",
     "text": [
      "Enter the number 40\n"
     ]
    },
    {
     "name": "stdout",
     "output_type": "stream",
     "text": [
      "incorrect\n"
     ]
    }
   ],
   "source": [
    "num = int(input('Enter the number'))\n",
    "if num>50 and num<150:\n",
    "    print('Correct')\n",
    "else:\n",
    "    print('incorrect')"
   ]
  },
  {
   "cell_type": "code",
   "execution_count": 22,
   "id": "92329348-0434-42fc-9db8-07efe99961fc",
   "metadata": {},
   "outputs": [
    {
     "name": "stdin",
     "output_type": "stream",
     "text": [
      "Enter the number 200\n",
      "Enter the number 100\n"
     ]
    },
    {
     "name": "stdout",
     "output_type": "stream",
     "text": [
      "Profit\n"
     ]
    }
   ],
   "source": [
    "#*** read selling cost and purchase cost\n",
    "# find profit or loss and how much\n",
    "sellingcost=int(input('Enter the number'))\n",
    "purchasecost=int(input('Enter the number'))\n",
    "if sellingcost>purchasecost:\n",
    "   print('Profit')\n",
    "else:\n",
    "    print('loss')"
   ]
  },
  {
   "cell_type": "code",
   "execution_count": 23,
   "id": "1e260880-aa98-4185-a4d0-b215a4272209",
   "metadata": {},
   "outputs": [
    {
     "name": "stdin",
     "output_type": "stream",
     "text": [
      "Enter the number 200\n",
      "Enter the number 100\n"
     ]
    },
    {
     "name": "stdout",
     "output_type": "stream",
     "text": [
      "Profit: 100\n"
     ]
    }
   ],
   "source": [
    "# read selling cost and purchase cost\n",
    "# find profit or loss and how much\n",
    "sellingcost=int(input('Enter the number'))\n",
    "purchasecost=int(input('Enter the number'))\n",
    "if sellingcost>purchasecost:\n",
    "   print('Profit:', sellingcost-purchasecost)\n",
    "else:\n",
    "    print('loss:', purchasecost-sellingcost)"
   ]
  },
  {
   "cell_type": "code",
   "execution_count": 24,
   "id": "258a13a4-3a88-46a0-b91f-9b40fcddb5c3",
   "metadata": {},
   "outputs": [
    {
     "name": "stdin",
     "output_type": "stream",
     "text": [
      "Enter the number 10\n",
      "Enter the number 20\n",
      "Enter the number 30\n"
     ]
    },
    {
     "name": "stdout",
     "output_type": "stream",
     "text": [
      "num1 is greater\n"
     ]
    }
   ],
   "source": [
    "# *****find the largest of 3 no's\n",
    "#'and''or' not allowed\n",
    "num1 = int(input('Enter the number'))\n",
    "num2 = int(input('Enter the number'))\n",
    "num3 = int(input('Enter the number'))\n",
    "if num1>num2:\n",
    "    if num1>num3:\n",
    "        print('num1 is greater')\n",
    "    else:\n",
    "        print('num3 is greater')\n",
    "else:\n",
    "    print('num2 is greater')"
   ]
  },
  {
   "cell_type": "code",
   "execution_count": 28,
   "id": "85fcf34a-7046-443e-ba77-358fff2b5656",
   "metadata": {},
   "outputs": [
    {
     "name": "stdin",
     "output_type": "stream",
     "text": [
      "Enter the number 10\n",
      "Enter the number 20\n",
      "Enter the number 30\n"
     ]
    },
    {
     "name": "stdout",
     "output_type": "stream",
     "text": [
      "largest is num3 30\n"
     ]
    }
   ],
   "source": [
    "num1 = int(input('Enter the number'))\n",
    "num2 = int(input('Enter the number'))\n",
    "num3 = int(input('Enter the number'))\n",
    "if num1>num2:\n",
    "    if num1>num3:\n",
    "        print('largest is num1', num1)\n",
    "    else:\n",
    "        print('largest is num3', num3)\n",
    "else:\n",
    "    if num2>num3:\n",
    "        print('largest is num2', num2)\n",
    "    else:\n",
    "        print('largest is num3', num3)"
   ]
  },
  {
   "cell_type": "code",
   "execution_count": 36,
   "id": "b383f6de-a817-4ae8-979e-76a6bb99874c",
   "metadata": {},
   "outputs": [
    {
     "name": "stdin",
     "output_type": "stream",
     "text": [
      "Enter the number 2020\n"
     ]
    },
    {
     "name": "stdout",
     "output_type": "stream",
     "text": [
      "year is leap\n"
     ]
    }
   ],
   "source": [
    "#2020==> leap year\n",
    "#2018==> not leap\n",
    "#2000==> leap year\n",
    "#1800==> century year(It is divide by 400)\n",
    "year = int(input('Enter the number'))\n",
    "if year%4 == 0:\n",
    "    print('year is leap')\n",
    "elif year%400 == 0:\n",
    "    print('year is leap')\n",
    "else:\n",
    "    print('year is not leap')"
   ]
  },
  {
   "cell_type": "code",
   "execution_count": 37,
   "id": "ad47177c-2b01-478a-9ae8-9421c3d61756",
   "metadata": {},
   "outputs": [
    {
     "name": "stdin",
     "output_type": "stream",
     "text": [
      "Enter the number 2018\n"
     ]
    },
    {
     "name": "stdout",
     "output_type": "stream",
     "text": [
      "year is not leap\n"
     ]
    }
   ],
   "source": [
    "year = int(input('Enter the number'))\n",
    "if year%4 == 0:\n",
    "    print('year is leap')\n",
    "elif year%400 == 0:\n",
    "    print('year is leap')\n",
    "else:\n",
    "    print('year is not leap')"
   ]
  },
  {
   "cell_type": "code",
   "execution_count": 38,
   "id": "351c47d8-8b2d-4213-8329-375d54466629",
   "metadata": {},
   "outputs": [
    {
     "name": "stdin",
     "output_type": "stream",
     "text": [
      "Enter the number 2000\n"
     ]
    },
    {
     "name": "stdout",
     "output_type": "stream",
     "text": [
      "year is leap\n"
     ]
    }
   ],
   "source": [
    "year = int(input('Enter the number'))\n",
    "if year%4 == 0:\n",
    "    print('year is leap')\n",
    "elif year%400 == 0:\n",
    "    print('year is leap')\n",
    "else:\n",
    "    print('year is not leap')"
   ]
  },
  {
   "cell_type": "code",
   "execution_count": 39,
   "id": "58fd786c-cc69-4172-b377-595dec0da204",
   "metadata": {},
   "outputs": [
    {
     "name": "stdin",
     "output_type": "stream",
     "text": [
      "Enter the number 1800\n"
     ]
    },
    {
     "name": "stdout",
     "output_type": "stream",
     "text": [
      "year is leap\n"
     ]
    }
   ],
   "source": [
    "year = int(input('Enter the number'))\n",
    "if year%4 == 0:\n",
    "    print('year is leap')\n",
    "elif year%400 == 0:\n",
    "    print('year is leap')\n",
    "else:\n",
    "    print('year is not leap')"
   ]
  },
  {
   "cell_type": "code",
   "execution_count": 40,
   "id": "2f06a188-519c-4894-b733-96250aa5ccca",
   "metadata": {},
   "outputs": [
    {
     "name": "stdin",
     "output_type": "stream",
     "text": [
      "Enter the number 2000\n"
     ]
    },
    {
     "name": "stdout",
     "output_type": "stream",
     "text": [
      "leap century year\n"
     ]
    }
   ],
   "source": [
    "#########OR##########\n",
    "year = int(input('Enter the number'))\n",
    "if year%4 == 0:\n",
    "  if year%100 == 0:\n",
    "      if year%400 == 0:\n",
    "          print('leap century year')\n",
    "      else:\n",
    "          print('century but not leap')\n",
    "  else:\n",
    "      print('leap year')\n",
    "else:\n",
    "    print('year is not leap')\n",
    "    "
   ]
  },
  {
   "cell_type": "code",
   "execution_count": 1,
   "id": "f68b2a56-965b-4767-92ca-581152bc7c7a",
   "metadata": {},
   "outputs": [
    {
     "name": "stdin",
     "output_type": "stream",
     "text": [
      "enter the marks physics 40\n",
      "enter the marks chemistry 40\n",
      "enter the marks biology 40\n",
      "enter the marks maths 40\n",
      "enter the marks computer 40\n"
     ]
    },
    {
     "name": "stdout",
     "output_type": "stream",
     "text": [
      "168.0 %\n",
      "Grade A\n"
     ]
    }
   ],
   "source": [
    "# GRADE \n",
    "Phy=int(input('enter the marks physics'))\n",
    "che= int(input('enter the marks chemistry'))\n",
    "Bio= int(input('enter the marks biology'))\n",
    "Maths= int(input('enter the marks maths'))\n",
    "Comp= int(input('enter the marks computer'))\n",
    "\n",
    "percent=Phy + che + Bio + Maths + Comp*100/500\n",
    "print(percent, '%')\n",
    "if percent>=90:\n",
    "    print('Grade A')\n",
    "elif percent>=80:\n",
    "     print('Grade B')\n",
    "elif percent>=70:\n",
    "     print('Grade C')\n",
    "elif percent>=60:\n",
    "     print('Grade D')\n",
    "elif percent>=40:\n",
    "    print('Grade E')\n",
    "else:\n",
    "    print('Fail')"
   ]
  },
  {
   "cell_type": "code",
   "execution_count": 2,
   "id": "87bcbe44-e7f1-4d9c-91cb-9163e56822b7",
   "metadata": {},
   "outputs": [
    {
     "name": "stdin",
     "output_type": "stream",
     "text": [
      "Enter the number 5\n"
     ]
    },
    {
     "name": "stdout",
     "output_type": "stream",
     "text": [
      "MENU\n",
      "1.Square\n",
      "2.Cube\n",
      "3.check +ve or -ve\n"
     ]
    },
    {
     "name": "stdin",
     "output_type": "stream",
     "text": [
      "Enter the choise 2\n"
     ]
    },
    {
     "name": "stdout",
     "output_type": "stream",
     "text": [
      "Cube is 125\n"
     ]
    }
   ],
   "source": [
    "# take no's and display its opeartions\n",
    "num = int(input('Enter the number'))\n",
    "print(\"MENU\\n1.Square\\n2.Cube\\n3.check +ve or -ve\")\n",
    "choise = int(input('Enter the choise'))\n",
    "if choise == 1:\n",
    "    print('square is' , num*num)\n",
    "elif choise == 2:\n",
    "    print('Cube is' , num**3)\n",
    "elif choise == 3:\n",
    "    if num>0:\n",
    "        print('Negative')\n",
    "    else:\n",
    "        print('Positive')\n",
    "else:\n",
    "    ('OOPS !!!!')"
   ]
  },
  {
   "cell_type": "code",
   "execution_count": 7,
   "id": "898b7640-7611-4417-acbb-3b7a5e4c5fd1",
   "metadata": {},
   "outputs": [
    {
     "name": "stdin",
     "output_type": "stream",
     "text": [
      "Enter the number 4\n",
      "Enter the number 4\n"
     ]
    },
    {
     "name": "stdout",
     "output_type": "stream",
     "text": [
      "MENU\n",
      "1.Addition\n",
      "2.floor_div\n",
      "3.check with\n"
     ]
    },
    {
     "name": "stdin",
     "output_type": "stream",
     "text": [
      "Enter the choise 2\n"
     ]
    },
    {
     "name": "stdout",
     "output_type": "stream",
     "text": [
      "Floor Div is 1\n"
     ]
    }
   ],
   "source": [
    "num1= int(input('Enter the number'))\n",
    "num2= int(input('Enter the number'))\n",
    "print(\"MENU\\n1.Addition\\n2.floor_div\\n3.check with\")\n",
    "choise = int(input('Enter the choise'))\n",
    "if choise == 1:\n",
    "    print('Addition is' , num1+num2)\n",
    "elif choise == 2:\n",
    "    print('Floor Div is' , num1//num2)\n",
    "elif choise == 3:\n",
    "    if num<0:\n",
    "        print('Negative')\n",
    "    else:\n",
    "        print('Positive')\n",
    "else:\n",
    "    ('OOPS !!!!')"
   ]
  },
  {
   "cell_type": "code",
   "execution_count": null,
   "id": "33883dc6-3205-43d9-92ce-d0543d0b255d",
   "metadata": {},
   "outputs": [],
   "source": []
  }
 ],
 "metadata": {
  "kernelspec": {
   "display_name": "Python 3 (ipykernel)",
   "language": "python",
   "name": "python3"
  },
  "language_info": {
   "codemirror_mode": {
    "name": "ipython",
    "version": 3
   },
   "file_extension": ".py",
   "mimetype": "text/x-python",
   "name": "python",
   "nbconvert_exporter": "python",
   "pygments_lexer": "ipython3",
   "version": "3.11.7"
  }
 },
 "nbformat": 4,
 "nbformat_minor": 5
}
