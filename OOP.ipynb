{
 "cells": [
  {
   "cell_type": "markdown",
   "id": "ac323197-2079-44fe-bb54-62693103a0a3",
   "metadata": {},
   "source": [
    "# class and Object"
   ]
  },
  {
   "cell_type": "markdown",
   "id": "9f5d2165-411c-45bb-922c-0f4822ff2852",
   "metadata": {},
   "source": [
    "#Class Creation"
   ]
  },
  {
   "cell_type": "code",
   "execution_count": 1,
   "id": "315a2c9b-6b41-49d3-bf12-d85764886d51",
   "metadata": {},
   "outputs": [],
   "source": [
    "class Employee():\n",
    "    pass"
   ]
  },
  {
   "cell_type": "markdown",
   "id": "f9c9c089-84dc-45d8-9a90-65d3afd91476",
   "metadata": {},
   "source": [
    "#Instance of Employee"
   ]
  },
  {
   "cell_type": "code",
   "execution_count": 2,
   "id": "866111b5-d309-470f-ad21-8065a7a73b97",
   "metadata": {},
   "outputs": [],
   "source": [
    "emp1 = Employee()\n",
    "emp2 = Employee()"
   ]
  },
  {
   "cell_type": "markdown",
   "id": "3d6d7c67-f249-4368-bac8-a6f32e9600d6",
   "metadata": {},
   "source": [
    "#Stored Diff Location"
   ]
  },
  {
   "cell_type": "code",
   "execution_count": 8,
   "id": "04417373-5dce-42c8-86be-535c9e9b9a16",
   "metadata": {},
   "outputs": [
    {
     "name": "stdout",
     "output_type": "stream",
     "text": [
      "<__main__.Employee object at 0x000001CF7B731590>\n",
      "<__main__.Employee object at 0x000001CF7B7322D0>\n"
     ]
    }
   ],
   "source": [
    "print(emp1)\n",
    "print(emp2)"
   ]
  },
  {
   "cell_type": "markdown",
   "id": "7ad7fd36-c6b0-482d-8dae-f279be9ccccb",
   "metadata": {},
   "source": [
    "#Instance Variable"
   ]
  },
  {
   "cell_type": "code",
   "execution_count": 10,
   "id": "8213f5b1-4c3e-43f8-bc7d-3633bbffe7e8",
   "metadata": {},
   "outputs": [],
   "source": [
    "emp1.first = 'Priya'\n",
    "emp1.last = 'Shastri'\n",
    "emp1.salary = '80000' "
   ]
  },
  {
   "cell_type": "code",
   "execution_count": 11,
   "id": "c1eb1ac1-99d6-41a4-8fbf-8734315825e7",
   "metadata": {},
   "outputs": [],
   "source": [
    "emp1.first = 'Riya'\n",
    "emp1.last = 'More'\n",
    "emp1.salary = '80000' "
   ]
  },
  {
   "cell_type": "markdown",
   "id": "0da28ae6-b847-466a-b530-b681aa5cf692",
   "metadata": {},
   "source": [
    "#Accessing variable"
   ]
  },
  {
   "cell_type": "code",
   "execution_count": 56,
   "id": "14869d67-0642-4abf-aded-0c49f40664b5",
   "metadata": {},
   "outputs": [
    {
     "name": "stdout",
     "output_type": "stream",
     "text": [
      "Rushi\n"
     ]
    }
   ],
   "source": [
    "print(emp1.first)"
   ]
  },
  {
   "cell_type": "code",
   "execution_count": 57,
   "id": "0e29016b-c324-4d73-8382-881c637326e0",
   "metadata": {},
   "outputs": [
    {
     "name": "stdout",
     "output_type": "stream",
     "text": [
      "85000\n"
     ]
    }
   ],
   "source": [
    "print(emp2.salary)"
   ]
  },
  {
   "cell_type": "markdown",
   "id": "16dbe9e0-3b1b-466d-8ec7-383740f7cc30",
   "metadata": {},
   "source": [
    "# Init constructor"
   ]
  },
  {
   "cell_type": "markdown",
   "id": "9c6c453a-9cd9-4415-bb00-ae860773b58e",
   "metadata": {},
   "source": [
    "#Self This Keyward"
   ]
  },
  {
   "cell_type": "code",
   "execution_count": 15,
   "id": "20b69568-3b8c-46ff-a2ff-ff1dbcc62325",
   "metadata": {},
   "outputs": [],
   "source": [
    "class Employee():\n",
    "    def __init__ (self,first,last,salary):\n",
    "        self.first = first\n",
    "        self.last = last\n",
    "        self.salary = salary"
   ]
  },
  {
   "cell_type": "code",
   "execution_count": 16,
   "id": "3e1b4d8b-0dbb-47f9-bbd2-d8bfe8972040",
   "metadata": {},
   "outputs": [],
   "source": [
    "emp1 = Employee('Rushi','More',80000)\n",
    "emp2 = Employee('Shashi','Shinde',85000)"
   ]
  },
  {
   "cell_type": "code",
   "execution_count": 17,
   "id": "8f4a3846-af5a-478b-a186-0ecf90e8e6b4",
   "metadata": {},
   "outputs": [
    {
     "data": {
      "text/plain": [
       "'Rushi'"
      ]
     },
     "execution_count": 17,
     "metadata": {},
     "output_type": "execute_result"
    }
   ],
   "source": [
    "emp1.first"
   ]
  },
  {
   "cell_type": "code",
   "execution_count": 28,
   "id": "5a0df9b6-4aa5-415a-af6e-ceebf208813b",
   "metadata": {},
   "outputs": [],
   "source": [
    "class Employee():\n",
    "    def __init__ (self,first,last,salary):\n",
    "        self.first = first\n",
    "        self.last = last\n",
    "        self.salary = salary\n",
    "    def show(self):\n",
    "        print(self.first + ' ' + 'OK')"
   ]
  },
  {
   "cell_type": "code",
   "execution_count": 29,
   "id": "d21f0d64-a811-4376-a826-4a0d557232f7",
   "metadata": {},
   "outputs": [
    {
     "name": "stdout",
     "output_type": "stream",
     "text": [
      "Rushi OK\n"
     ]
    }
   ],
   "source": [
    "emp1 = Employee('Rushi','More',80000)\n",
    "emp1.show()"
   ]
  },
  {
   "cell_type": "markdown",
   "id": "17c5bbbc-5c10-4761-b267-a27767df3e4e",
   "metadata": {},
   "source": [
    "# Encapsulation"
   ]
  },
  {
   "cell_type": "markdown",
   "id": "2f82e0d5-7f09-45da-8d82-755cf7071c67",
   "metadata": {},
   "source": [
    "#Private Variable"
   ]
  },
  {
   "cell_type": "code",
   "execution_count": 24,
   "id": "2a93ce76-f879-4dcf-a806-4df7d0c5845d",
   "metadata": {},
   "outputs": [],
   "source": [
    "class Employee():\n",
    "    def __init__ (self,first,last,salary):\n",
    "        self.first = first\n",
    "        self.last = last\n",
    "        self.salary = salary"
   ]
  },
  {
   "cell_type": "code",
   "execution_count": 30,
   "id": "2e886e2c-62f6-46a7-a3b1-d9d80cc8061f",
   "metadata": {},
   "outputs": [],
   "source": [
    "emp3 = Employee('Anvi','Kadam',45000)\n",
    "emp4 = Employee('Tanvi','More',55000)"
   ]
  },
  {
   "cell_type": "code",
   "execution_count": 31,
   "id": "55d54e99-aa74-4f52-94e8-132eaada3c08",
   "metadata": {},
   "outputs": [
    {
     "data": {
      "text/plain": [
       "'Anvi'"
      ]
     },
     "execution_count": 31,
     "metadata": {},
     "output_type": "execute_result"
    }
   ],
   "source": [
    "emp3.first"
   ]
  },
  {
   "cell_type": "code",
   "execution_count": 32,
   "id": "a4697324-d11c-4706-af06-8ba1395588c5",
   "metadata": {},
   "outputs": [
    {
     "data": {
      "text/plain": [
       "'Kadam'"
      ]
     },
     "execution_count": 32,
     "metadata": {},
     "output_type": "execute_result"
    }
   ],
   "source": [
    "emp3.last"
   ]
  },
  {
   "cell_type": "code",
   "execution_count": 33,
   "id": "7b4022f0-da26-4655-8136-9c910b2af4aa",
   "metadata": {},
   "outputs": [
    {
     "data": {
      "text/plain": [
       "'Tanvi'"
      ]
     },
     "execution_count": 33,
     "metadata": {},
     "output_type": "execute_result"
    }
   ],
   "source": [
    "emp4.first"
   ]
  },
  {
   "cell_type": "code",
   "execution_count": 34,
   "id": "eed000e8-b17e-481e-b485-8ed3e28c9ab3",
   "metadata": {},
   "outputs": [
    {
     "data": {
      "text/plain": [
       "45000"
      ]
     },
     "execution_count": 34,
     "metadata": {},
     "output_type": "execute_result"
    }
   ],
   "source": [
    "emp3.salary"
   ]
  },
  {
   "cell_type": "code",
   "execution_count": 42,
   "id": "946b8fca-1776-4f0c-9296-217963f225a3",
   "metadata": {},
   "outputs": [],
   "source": [
    "class Employee():\n",
    "    def __init__ (self,first,last,salary):\n",
    "        self.first = first\n",
    "        self.last = last\n",
    "        self.__salary = salary\n",
    "    def display(self):\n",
    "        print('Salary is:',self.__salary)"
   ]
  },
  {
   "cell_type": "code",
   "execution_count": 43,
   "id": "df2b7cc9-eb14-4999-9cb3-e5e2d637e571",
   "metadata": {},
   "outputs": [
    {
     "name": "stdout",
     "output_type": "stream",
     "text": [
      "Salary is: 45000\n"
     ]
    }
   ],
   "source": [
    "emp3 = Employee('Anvi','Kadam',45000)\n",
    "emp3.display()"
   ]
  },
  {
   "cell_type": "markdown",
   "id": "bfbd9c7f-4fa7-4937-bcc3-d690b5c5080e",
   "metadata": {},
   "source": [
    "# Inheitance"
   ]
  },
  {
   "cell_type": "code",
   "execution_count": 53,
   "id": "49a72253-c475-4717-840e-4660fbef4798",
   "metadata": {},
   "outputs": [],
   "source": [
    "class Employee2(Employee):\n",
    "    pass"
   ]
  },
  {
   "cell_type": "code",
   "execution_count": 54,
   "id": "b6390349-2b41-4d5f-a542-1aa0bebba90a",
   "metadata": {},
   "outputs": [],
   "source": [
    "emp5 = Employee2('Aniket','Rana',50000)"
   ]
  },
  {
   "cell_type": "code",
   "execution_count": 55,
   "id": "a779a38a-3559-42ed-9805-3d7a977413fe",
   "metadata": {},
   "outputs": [
    {
     "name": "stdout",
     "output_type": "stream",
     "text": [
      "Salary is: 50000\n"
     ]
    }
   ],
   "source": [
    "emp5.display()"
   ]
  },
  {
   "cell_type": "markdown",
   "id": "2c5b6083-4467-45d9-8dba-60ccec6d75e4",
   "metadata": {},
   "source": [
    "'''create a class called person take in name,age,hobby...(make default parameters also)\n",
    "create multiple object objects Create a methods to display all info'''"
   ]
  },
  {
   "cell_type": "code",
   "execution_count": 52,
   "id": "1386b2c4-a2b4-41da-881a-b31dfefd6a36",
   "metadata": {},
   "outputs": [],
   "source": [
    "class person():\n",
    "    def __init__ (self,n,a = 22):\n",
    "        self.name = n\n",
    "        self.age = a\n",
    "    def info(self):\n",
    "        print('Name:', self.name,'Age:',self.age)"
   ]
  },
  {
   "cell_type": "code",
   "execution_count": 59,
   "id": "48e499b9-0430-4d08-8446-e2eb670b0ae0",
   "metadata": {},
   "outputs": [],
   "source": [
    "p2 = person('Neha')"
   ]
  },
  {
   "cell_type": "code",
   "execution_count": 60,
   "id": "4ac8a5f6-a917-4804-aafb-fe6ea901cb15",
   "metadata": {},
   "outputs": [
    {
     "name": "stdout",
     "output_type": "stream",
     "text": [
      "Name: Neha Age: 22\n"
     ]
    }
   ],
   "source": [
    "p2.info()"
   ]
  },
  {
   "cell_type": "code",
   "execution_count": null,
   "id": "bced187e-c3c1-4244-b5be-08a25550f317",
   "metadata": {},
   "outputs": [],
   "source": []
  }
 ],
 "metadata": {
  "kernelspec": {
   "display_name": "Python 3 (ipykernel)",
   "language": "python",
   "name": "python3"
  },
  "language_info": {
   "codemirror_mode": {
    "name": "ipython",
    "version": 3
   },
   "file_extension": ".py",
   "mimetype": "text/x-python",
   "name": "python",
   "nbconvert_exporter": "python",
   "pygments_lexer": "ipython3",
   "version": "3.11.7"
  }
 },
 "nbformat": 4,
 "nbformat_minor": 5
}
