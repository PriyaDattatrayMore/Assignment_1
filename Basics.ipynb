{
 "cells": [
  {
   "cell_type": "code",
   "execution_count": 1,
   "id": "61db7462-8e64-479a-857d-769c829459c6",
   "metadata": {},
   "outputs": [
    {
     "name": "stdout",
     "output_type": "stream",
     "text": [
      "hello world\n"
     ]
    }
   ],
   "source": [
    "print('hello world')"
   ]
  },
  {
   "cell_type": "code",
   "execution_count": 2,
   "id": "2d2df0b0-e99f-4739-b339-dafe711aeafe",
   "metadata": {},
   "outputs": [],
   "source": [
    "num = 34"
   ]
  },
  {
   "cell_type": "code",
   "execution_count": 3,
   "id": "8836c038-364e-4a0a-8ade-9806098c163e",
   "metadata": {},
   "outputs": [
    {
     "name": "stdout",
     "output_type": "stream",
     "text": [
      "34\n"
     ]
    }
   ],
   "source": [
    "print(num)"
   ]
  },
  {
   "cell_type": "code",
   "execution_count": 5,
   "id": "6d15f2f9-de5f-48e9-b2e5-7e3428f1a10b",
   "metadata": {},
   "outputs": [],
   "source": [
    "rate_of_interest = 50"
   ]
  },
  {
   "cell_type": "code",
   "execution_count": 6,
   "id": "2a97bea3-f6d5-484d-b82e-046766903dd9",
   "metadata": {},
   "outputs": [
    {
     "data": {
      "text/plain": [
       "50"
      ]
     },
     "execution_count": 6,
     "metadata": {},
     "output_type": "execute_result"
    }
   ],
   "source": [
    "rate_of_interest"
   ]
  },
  {
   "cell_type": "code",
   "execution_count": 7,
   "id": "706f1cd8-05c7-4744-ada2-c2fe3375824b",
   "metadata": {},
   "outputs": [],
   "source": [
    "num1 = 50.50"
   ]
  },
  {
   "cell_type": "code",
   "execution_count": 8,
   "id": "9444cd8d-349c-4e7a-989b-b29d0cb3f414",
   "metadata": {},
   "outputs": [
    {
     "data": {
      "text/plain": [
       "50.5"
      ]
     },
     "execution_count": 8,
     "metadata": {},
     "output_type": "execute_result"
    }
   ],
   "source": [
    "num1"
   ]
  },
  {
   "cell_type": "code",
   "execution_count": 9,
   "id": "d54c02f0-1467-4059-a679-fafdbf25e046",
   "metadata": {},
   "outputs": [],
   "source": [
    "num2='Priya'"
   ]
  },
  {
   "cell_type": "code",
   "execution_count": 10,
   "id": "402c3538-5f4e-40f0-815e-d518a873abc8",
   "metadata": {},
   "outputs": [
    {
     "data": {
      "text/plain": [
       "'Priya'"
      ]
     },
     "execution_count": 10,
     "metadata": {},
     "output_type": "execute_result"
    }
   ],
   "source": [
    "num2"
   ]
  },
  {
   "cell_type": "code",
   "execution_count": 11,
   "id": "08ae1ada-fdcf-4a71-8caf-f2d2671dd6e9",
   "metadata": {},
   "outputs": [
    {
     "name": "stdout",
     "output_type": "stream",
     "text": [
      "Priya\n"
     ]
    }
   ],
   "source": [
    "print(num2)"
   ]
  },
  {
   "cell_type": "code",
   "execution_count": 12,
   "id": "b7d11404-3cdc-499b-ab89-fea186ebabf4",
   "metadata": {},
   "outputs": [],
   "source": [
    "num1 = 34\n",
    "num2 = 56.70\n",
    "num3 = 'Priya'"
   ]
  },
  {
   "cell_type": "code",
   "execution_count": 13,
   "id": "1ccb05f6-72bb-49f2-b21f-04fe9e06d76f",
   "metadata": {},
   "outputs": [
    {
     "data": {
      "text/plain": [
       "int"
      ]
     },
     "execution_count": 13,
     "metadata": {},
     "output_type": "execute_result"
    }
   ],
   "source": [
    "type(num1)"
   ]
  },
  {
   "cell_type": "code",
   "execution_count": 14,
   "id": "02528628-014b-4998-b119-8995217348a0",
   "metadata": {},
   "outputs": [
    {
     "data": {
      "text/plain": [
       "float"
      ]
     },
     "execution_count": 14,
     "metadata": {},
     "output_type": "execute_result"
    }
   ],
   "source": [
    "type(num2)"
   ]
  },
  {
   "cell_type": "code",
   "execution_count": 15,
   "id": "66b6c2ce-e1fe-4803-a558-d5a508621af3",
   "metadata": {},
   "outputs": [
    {
     "data": {
      "text/plain": [
       "str"
      ]
     },
     "execution_count": 15,
     "metadata": {},
     "output_type": "execute_result"
    }
   ],
   "source": [
    "type(num3)"
   ]
  },
  {
   "cell_type": "code",
   "execution_count": 18,
   "id": "cf8fa286-76ae-4c13-9e3c-8393b9c37a11",
   "metadata": {},
   "outputs": [
    {
     "data": {
      "text/plain": [
       "34"
      ]
     },
     "execution_count": 18,
     "metadata": {},
     "output_type": "execute_result"
    }
   ],
   "source": [
    "num1"
   ]
  },
  {
   "cell_type": "code",
   "execution_count": 19,
   "id": "9ce0c615-bd49-4c34-beec-a219e2a985da",
   "metadata": {},
   "outputs": [
    {
     "data": {
      "text/plain": [
       "94"
      ]
     },
     "execution_count": 19,
     "metadata": {},
     "output_type": "execute_result"
    }
   ],
   "source": [
    "num1 + 60"
   ]
  },
  {
   "cell_type": "code",
   "execution_count": 20,
   "id": "210b07db-d7e4-4734-a067-04008c0da837",
   "metadata": {},
   "outputs": [
    {
     "name": "stdout",
     "output_type": "stream",
     "text": [
      "94\n"
     ]
    }
   ],
   "source": [
    "num1 = num1 + 60\n",
    "print(num1)"
   ]
  },
  {
   "cell_type": "code",
   "execution_count": 21,
   "id": "3c92da19-58f7-4706-aa76-d587980ed828",
   "metadata": {},
   "outputs": [
    {
     "data": {
      "text/plain": [
       "246641181115674737572879729341852535845472679757957754711192657811148368546919174892110514866890661477499569337982885118937606860303163841070295398866533607809337852636197147315418929700392210651462724440708238178309894185203135792833848980162110753995902211626781494555216499024596716764902905744552108703670952535150525584801258802660812558084288017019479915631022570801002600528952445860747026702812407505259499851902779696981336334270791833799249293419903723739814800148096510712657333600844001944025174923762462743966499744099328929215674401276706442416675497711018975607489895414956665559258785226987261082702619240200148253830815546451425440080451512540457184681742016177"
      ]
     },
     "execution_count": 21,
     "metadata": {},
     "output_type": "execute_result"
    }
   ],
   "source": [
    "num = 321553 ** 123\n",
    "num"
   ]
  },
  {
   "cell_type": "code",
   "execution_count": 22,
   "id": "2814e4d7-2d09-4c9b-ad58-e79676d27849",
   "metadata": {},
   "outputs": [],
   "source": [
    "# FLOAT DATATYPE"
   ]
  },
  {
   "cell_type": "code",
   "execution_count": 23,
   "id": "a9c54f34-c5fd-4965-ab02-fe11f1047064",
   "metadata": {},
   "outputs": [],
   "source": [
    "num2 = 55.33"
   ]
  },
  {
   "cell_type": "code",
   "execution_count": 25,
   "id": "b2e4e9fe-a9ee-4643-aa6d-735cb3f10bf6",
   "metadata": {},
   "outputs": [],
   "source": [
    "y = 56e3"
   ]
  },
  {
   "cell_type": "code",
   "execution_count": 26,
   "id": "6807932e-14a0-4df8-afcc-4a30aa912d64",
   "metadata": {},
   "outputs": [
    {
     "data": {
      "text/plain": [
       "56000.0"
      ]
     },
     "execution_count": 26,
     "metadata": {},
     "output_type": "execute_result"
    }
   ],
   "source": [
    "y"
   ]
  },
  {
   "cell_type": "code",
   "execution_count": 27,
   "id": "72029c2d-6656-4997-aca1-1b2d1ab15d69",
   "metadata": {},
   "outputs": [],
   "source": [
    "z = 49e-2"
   ]
  },
  {
   "cell_type": "code",
   "execution_count": 28,
   "id": "086516e5-1cc2-4ac7-9943-1b4f91cfd863",
   "metadata": {},
   "outputs": [
    {
     "data": {
      "text/plain": [
       "0.49"
      ]
     },
     "execution_count": 28,
     "metadata": {},
     "output_type": "execute_result"
    }
   ],
   "source": [
    "z"
   ]
  },
  {
   "cell_type": "code",
   "execution_count": 29,
   "id": "2a31ff03-3970-42b3-8dca-e4d2d0e89e68",
   "metadata": {},
   "outputs": [],
   "source": [
    "# STRING DATATYPE"
   ]
  },
  {
   "cell_type": "code",
   "execution_count": 30,
   "id": "9e84d2eb-12a9-403b-a105-39f519a76397",
   "metadata": {},
   "outputs": [
    {
     "name": "stdout",
     "output_type": "stream",
     "text": [
      "Priya\n"
     ]
    }
   ],
   "source": [
    "name = 'Priya'\n",
    "print(name)"
   ]
  },
  {
   "cell_type": "code",
   "execution_count": 31,
   "id": "fc764adf-ffe0-4776-bdf0-53d2386fad5d",
   "metadata": {},
   "outputs": [
    {
     "name": "stdout",
     "output_type": "stream",
     "text": [
      "I like Python Programming\n"
     ]
    }
   ],
   "source": [
    "sent = 'I like Python Programming'\n",
    "print (sent)"
   ]
  },
  {
   "cell_type": "code",
   "execution_count": 32,
   "id": "3745cc47-cd58-4677-9842-3c5895f79dce",
   "metadata": {},
   "outputs": [
    {
     "name": "stdout",
     "output_type": "stream",
     "text": [
      "I like \"Python\" Programming\n"
     ]
    }
   ],
   "source": [
    "sent = 'I like \"Python\" Programming'\n",
    "print (sent)"
   ]
  },
  {
   "cell_type": "code",
   "execution_count": 33,
   "id": "b4481e7c-726a-4124-8a88-8feb278c5377",
   "metadata": {},
   "outputs": [
    {
     "name": "stdout",
     "output_type": "stream",
     "text": [
      "I like 'Python' Programming\n"
     ]
    }
   ],
   "source": [
    "sent = \"I like 'Python' Programming\"\n",
    "print (sent)"
   ]
  },
  {
   "cell_type": "code",
   "execution_count": 34,
   "id": "73e8e574-1e88-4486-b71d-2d5f1d76fa36",
   "metadata": {},
   "outputs": [],
   "source": [
    "# multiple assignment"
   ]
  },
  {
   "cell_type": "code",
   "execution_count": 35,
   "id": "56b61754-81f8-4fe7-9623-4d50a7517d64",
   "metadata": {},
   "outputs": [],
   "source": [
    "num1, num2, num3 = 12, 23.44, 'Priya'"
   ]
  },
  {
   "cell_type": "code",
   "execution_count": 36,
   "id": "38a837d5-f14a-460b-bea7-a038ae440e0d",
   "metadata": {},
   "outputs": [
    {
     "data": {
      "text/plain": [
       "12"
      ]
     },
     "execution_count": 36,
     "metadata": {},
     "output_type": "execute_result"
    }
   ],
   "source": [
    "num1"
   ]
  },
  {
   "cell_type": "code",
   "execution_count": 37,
   "id": "f76806c0-a867-43a5-8007-a1b5952b6aab",
   "metadata": {},
   "outputs": [
    {
     "data": {
      "text/plain": [
       "23.44"
      ]
     },
     "execution_count": 37,
     "metadata": {},
     "output_type": "execute_result"
    }
   ],
   "source": [
    "num2"
   ]
  },
  {
   "cell_type": "code",
   "execution_count": 38,
   "id": "e9b85562-04c3-422f-afd5-36de815e42f0",
   "metadata": {},
   "outputs": [
    {
     "data": {
      "text/plain": [
       "'Priya'"
      ]
     },
     "execution_count": 38,
     "metadata": {},
     "output_type": "execute_result"
    }
   ],
   "source": [
    "num3"
   ]
  },
  {
   "cell_type": "code",
   "execution_count": 40,
   "id": "f484fba6-84eb-4c4b-ad8c-2793cc4b05ca",
   "metadata": {},
   "outputs": [
    {
     "name": "stdout",
     "output_type": "stream",
     "text": [
      "12 Priya 23.44\n"
     ]
    }
   ],
   "source": [
    "print(num1, num3, num2)"
   ]
  },
  {
   "cell_type": "code",
   "execution_count": 41,
   "id": "cf94136d-38fb-40b7-8290-adad7eeb3511",
   "metadata": {},
   "outputs": [
    {
     "name": "stdout",
     "output_type": "stream",
     "text": [
      "75\n"
     ]
    }
   ],
   "source": [
    "num1 = 45\n",
    "num2 = 30\n",
    "result = num1 + num2\n",
    "print(result)"
   ]
  },
  {
   "cell_type": "code",
   "execution_count": 42,
   "id": "6173aa01-d7c8-479c-acf5-b7fd17a5e589",
   "metadata": {},
   "outputs": [
    {
     "name": "stdout",
     "output_type": "stream",
     "text": [
      "75\n"
     ]
    }
   ],
   "source": [
    "num1 = 45; num2 = 30; result = num1 + num2\n",
    "print(result)"
   ]
  },
  {
   "cell_type": "code",
   "execution_count": 43,
   "id": "81b93b4b-ebe8-466f-8236-fc3cd91f88fb",
   "metadata": {},
   "outputs": [],
   "source": [
    "## STRING OPERATIONS"
   ]
  },
  {
   "cell_type": "code",
   "execution_count": 44,
   "id": "53cd087b-01f2-405e-a821-0b91189b9243",
   "metadata": {},
   "outputs": [],
   "source": [
    "name = 'Priya'"
   ]
  },
  {
   "cell_type": "code",
   "execution_count": 45,
   "id": "4984f2f6-cfa2-4940-a381-124e5ddb9990",
   "metadata": {},
   "outputs": [
    {
     "data": {
      "text/plain": [
       "'priya'"
      ]
     },
     "execution_count": 45,
     "metadata": {},
     "output_type": "execute_result"
    }
   ],
   "source": [
    "name.lower()"
   ]
  },
  {
   "cell_type": "code",
   "execution_count": 46,
   "id": "62d01908-7726-4e56-926b-93255da7edf5",
   "metadata": {},
   "outputs": [
    {
     "data": {
      "text/plain": [
       "'PRIYA'"
      ]
     },
     "execution_count": 46,
     "metadata": {},
     "output_type": "execute_result"
    }
   ],
   "source": [
    "name.upper()"
   ]
  },
  {
   "cell_type": "code",
   "execution_count": 47,
   "id": "370c0753-0f57-4351-9957-54e217cf37c5",
   "metadata": {},
   "outputs": [
    {
     "data": {
      "text/plain": [
       "'pRIYA'"
      ]
     },
     "execution_count": 47,
     "metadata": {},
     "output_type": "execute_result"
    }
   ],
   "source": [
    "name.swapcase()"
   ]
  },
  {
   "cell_type": "code",
   "execution_count": 48,
   "id": "560cca4b-e30e-47f8-99f5-11e7cf66c933",
   "metadata": {},
   "outputs": [
    {
     "data": {
      "text/plain": [
       "5"
      ]
     },
     "execution_count": 48,
     "metadata": {},
     "output_type": "execute_result"
    }
   ],
   "source": [
    "len(name)"
   ]
  },
  {
   "cell_type": "code",
   "execution_count": 49,
   "id": "9cdc66ad-b9bb-4073-a2a5-69f08a2dd81b",
   "metadata": {},
   "outputs": [
    {
     "data": {
      "text/plain": [
       "'Priya'"
      ]
     },
     "execution_count": 49,
     "metadata": {},
     "output_type": "execute_result"
    }
   ],
   "source": [
    "name"
   ]
  },
  {
   "cell_type": "code",
   "execution_count": 50,
   "id": "76c63d5d-718d-48a0-9fef-c2d54ab51280",
   "metadata": {},
   "outputs": [
    {
     "data": {
      "text/plain": [
       "False"
      ]
     },
     "execution_count": 50,
     "metadata": {},
     "output_type": "execute_result"
    }
   ],
   "source": [
    "name.isupper()"
   ]
  },
  {
   "cell_type": "code",
   "execution_count": 51,
   "id": "c3ca383f-748f-4dee-a013-59b8eeefc2cb",
   "metadata": {},
   "outputs": [
    {
     "data": {
      "text/plain": [
       "False"
      ]
     },
     "execution_count": 51,
     "metadata": {},
     "output_type": "execute_result"
    }
   ],
   "source": [
    "name.islower()"
   ]
  },
  {
   "cell_type": "code",
   "execution_count": 52,
   "id": "8e4016e0-5250-49df-b213-210bf58714fd",
   "metadata": {},
   "outputs": [
    {
     "data": {
      "text/plain": [
       "True"
      ]
     },
     "execution_count": 52,
     "metadata": {},
     "output_type": "execute_result"
    }
   ],
   "source": [
    "name.istitle()"
   ]
  },
  {
   "cell_type": "code",
   "execution_count": 53,
   "id": "54e53d81-e5fa-4f81-bbd8-299315e14fe0",
   "metadata": {},
   "outputs": [],
   "source": [
    "n1 = 'ajay'"
   ]
  },
  {
   "cell_type": "code",
   "execution_count": 55,
   "id": "bacd9437-d6ac-4a8c-ac41-aea0a9674f84",
   "metadata": {},
   "outputs": [
    {
     "data": {
      "text/plain": [
       "'AJAY'"
      ]
     },
     "execution_count": 55,
     "metadata": {},
     "output_type": "execute_result"
    }
   ],
   "source": [
    "n1.upper()"
   ]
  },
  {
   "cell_type": "code",
   "execution_count": 56,
   "id": "6596ee95-dd69-4e2f-b93c-c11efc9fdef2",
   "metadata": {},
   "outputs": [
    {
     "data": {
      "text/plain": [
       "'Ajay'"
      ]
     },
     "execution_count": 56,
     "metadata": {},
     "output_type": "execute_result"
    }
   ],
   "source": [
    "n1.title()"
   ]
  },
  {
   "cell_type": "code",
   "execution_count": 57,
   "id": "5bde74e9-77ee-4efa-b520-055d741ade68",
   "metadata": {},
   "outputs": [],
   "source": [
    "a = '23'"
   ]
  },
  {
   "cell_type": "code",
   "execution_count": 58,
   "id": "314b9f8b-a8cb-4afb-970b-c0e5990600b7",
   "metadata": {},
   "outputs": [
    {
     "data": {
      "text/plain": [
       "str"
      ]
     },
     "execution_count": 58,
     "metadata": {},
     "output_type": "execute_result"
    }
   ],
   "source": [
    "type(a)"
   ]
  },
  {
   "cell_type": "code",
   "execution_count": 59,
   "id": "2820a725-2e1d-427d-8dfd-3ffbb48e3c6a",
   "metadata": {},
   "outputs": [],
   "source": [
    "data1 = 'Priya'\n",
    "data2 = '5545'\n",
    "data3 = 'A72'"
   ]
  },
  {
   "cell_type": "code",
   "execution_count": 60,
   "id": "46026286-f4f3-4d91-b1ab-54b0464e43ab",
   "metadata": {},
   "outputs": [
    {
     "data": {
      "text/plain": [
       "True"
      ]
     },
     "execution_count": 60,
     "metadata": {},
     "output_type": "execute_result"
    }
   ],
   "source": [
    "data1.isalpha()"
   ]
  },
  {
   "cell_type": "code",
   "execution_count": 61,
   "id": "57fd9ff5-7a43-47c5-92d6-bc0a2c5571c9",
   "metadata": {},
   "outputs": [
    {
     "data": {
      "text/plain": [
       "False"
      ]
     },
     "execution_count": 61,
     "metadata": {},
     "output_type": "execute_result"
    }
   ],
   "source": [
    "data2.isalpha()"
   ]
  },
  {
   "cell_type": "code",
   "execution_count": 62,
   "id": "b9a77da2-d750-41b4-885b-89df1a6f3f10",
   "metadata": {},
   "outputs": [
    {
     "data": {
      "text/plain": [
       "False"
      ]
     },
     "execution_count": 62,
     "metadata": {},
     "output_type": "execute_result"
    }
   ],
   "source": [
    "data3.isalpha()"
   ]
  },
  {
   "cell_type": "code",
   "execution_count": 63,
   "id": "06182dd1-1694-4032-82a6-e22bc3cf2dd9",
   "metadata": {},
   "outputs": [
    {
     "data": {
      "text/plain": [
       "False"
      ]
     },
     "execution_count": 63,
     "metadata": {},
     "output_type": "execute_result"
    }
   ],
   "source": [
    "data1.isdigit()"
   ]
  },
  {
   "cell_type": "code",
   "execution_count": 64,
   "id": "d40fdad6-13dd-4298-9c0d-a95365d23e61",
   "metadata": {},
   "outputs": [
    {
     "data": {
      "text/plain": [
       "True"
      ]
     },
     "execution_count": 64,
     "metadata": {},
     "output_type": "execute_result"
    }
   ],
   "source": [
    "data2.isdigit()"
   ]
  },
  {
   "cell_type": "code",
   "execution_count": 65,
   "id": "a11f400d-b4f3-4cb2-b44e-73eca0baf2e3",
   "metadata": {},
   "outputs": [
    {
     "data": {
      "text/plain": [
       "False"
      ]
     },
     "execution_count": 65,
     "metadata": {},
     "output_type": "execute_result"
    }
   ],
   "source": [
    "data3.isdigit()"
   ]
  },
  {
   "cell_type": "code",
   "execution_count": 67,
   "id": "882a0b83-7f10-4282-b702-d0af6ddd210b",
   "metadata": {},
   "outputs": [
    {
     "data": {
      "text/plain": [
       "True"
      ]
     },
     "execution_count": 67,
     "metadata": {},
     "output_type": "execute_result"
    }
   ],
   "source": [
    "data1.isalnum()"
   ]
  },
  {
   "cell_type": "code",
   "execution_count": 68,
   "id": "68364383-4582-42f0-b9ba-408491997acb",
   "metadata": {},
   "outputs": [
    {
     "data": {
      "text/plain": [
       "True"
      ]
     },
     "execution_count": 68,
     "metadata": {},
     "output_type": "execute_result"
    }
   ],
   "source": [
    "data2.isalnum()"
   ]
  },
  {
   "cell_type": "code",
   "execution_count": 69,
   "id": "702da181-332e-4c66-b953-c8a17b8fe588",
   "metadata": {},
   "outputs": [
    {
     "data": {
      "text/plain": [
       "True"
      ]
     },
     "execution_count": 69,
     "metadata": {},
     "output_type": "execute_result"
    }
   ],
   "source": [
    "data3.isalnum()"
   ]
  },
  {
   "cell_type": "code",
   "execution_count": 73,
   "id": "71f957a0-3d18-4324-9a92-400fe786cd46",
   "metadata": {},
   "outputs": [],
   "source": [
    "data = ' Priya '"
   ]
  },
  {
   "cell_type": "code",
   "execution_count": 74,
   "id": "13f92c76-6229-48f7-a153-1365529d051d",
   "metadata": {},
   "outputs": [
    {
     "name": "stdout",
     "output_type": "stream",
     "text": [
      " Priya \n"
     ]
    }
   ],
   "source": [
    "print(data)"
   ]
  },
  {
   "cell_type": "code",
   "execution_count": 75,
   "id": "0e2f6f8e-f2e8-46cc-a943-65be8ed16999",
   "metadata": {},
   "outputs": [
    {
     "data": {
      "text/plain": [
       "'Priya '"
      ]
     },
     "execution_count": 75,
     "metadata": {},
     "output_type": "execute_result"
    }
   ],
   "source": [
    "data.lstrip()"
   ]
  },
  {
   "cell_type": "code",
   "execution_count": 76,
   "id": "63397aa2-f36c-454c-be7a-9bd0a32bbd74",
   "metadata": {},
   "outputs": [
    {
     "data": {
      "text/plain": [
       "' Priya'"
      ]
     },
     "execution_count": 76,
     "metadata": {},
     "output_type": "execute_result"
    }
   ],
   "source": [
    "data.rstrip()"
   ]
  },
  {
   "cell_type": "code",
   "execution_count": 77,
   "id": "4c6eb2a9-1c91-4b6f-84fb-3bd067f40c98",
   "metadata": {},
   "outputs": [
    {
     "data": {
      "text/plain": [
       "'Priya'"
      ]
     },
     "execution_count": 77,
     "metadata": {},
     "output_type": "execute_result"
    }
   ],
   "source": [
    "data = data.strip()\n",
    "data"
   ]
  },
  {
   "cell_type": "code",
   "execution_count": 78,
   "id": "f83a88c1-db34-42e4-a5b4-f5c04321e9e1",
   "metadata": {},
   "outputs": [
    {
     "data": {
      "text/plain": [
       "'Priya'"
      ]
     },
     "execution_count": 78,
     "metadata": {},
     "output_type": "execute_result"
    }
   ],
   "source": [
    "data"
   ]
  },
  {
   "cell_type": "code",
   "execution_count": 79,
   "id": "b8351e3d-1033-4f17-aa41-cdfda4c9691e",
   "metadata": {},
   "outputs": [
    {
     "data": {
      "text/plain": [
       "True"
      ]
     },
     "execution_count": 79,
     "metadata": {},
     "output_type": "execute_result"
    }
   ],
   "source": [
    "data.startswith('P')"
   ]
  },
  {
   "cell_type": "code",
   "execution_count": 80,
   "id": "3e6de20e-0e49-4c9b-9fe0-b0cc78d82b66",
   "metadata": {},
   "outputs": [
    {
     "data": {
      "text/plain": [
       "False"
      ]
     },
     "execution_count": 80,
     "metadata": {},
     "output_type": "execute_result"
    }
   ],
   "source": [
    "data.startswith('Pa')"
   ]
  },
  {
   "cell_type": "code",
   "execution_count": 81,
   "id": "00adc0b6-fbb6-4eef-9843-097470062cfa",
   "metadata": {},
   "outputs": [
    {
     "data": {
      "text/plain": [
       "True"
      ]
     },
     "execution_count": 81,
     "metadata": {},
     "output_type": "execute_result"
    }
   ],
   "source": [
    "data.endswith('a')"
   ]
  },
  {
   "cell_type": "code",
   "execution_count": 82,
   "id": "cc182d3c-8cf2-4599-a531-6f19a0953ae1",
   "metadata": {},
   "outputs": [
    {
     "data": {
      "text/plain": [
       "'Rriya'"
      ]
     },
     "execution_count": 82,
     "metadata": {},
     "output_type": "execute_result"
    }
   ],
   "source": [
    "data.replace('P','R')"
   ]
  },
  {
   "cell_type": "code",
   "execution_count": 83,
   "id": "4139d2b6-b2af-41a8-af63-0b092958339b",
   "metadata": {},
   "outputs": [
    {
     "data": {
      "text/plain": [
       "'Priya'"
      ]
     },
     "execution_count": 83,
     "metadata": {},
     "output_type": "execute_result"
    }
   ],
   "source": [
    "data"
   ]
  },
  {
   "cell_type": "code",
   "execution_count": 84,
   "id": "ecd5396b-8c29-4389-bfe9-c7a44079774b",
   "metadata": {},
   "outputs": [
    {
     "data": {
      "text/plain": [
       "2"
      ]
     },
     "execution_count": 84,
     "metadata": {},
     "output_type": "execute_result"
    }
   ],
   "source": [
    "data.find('i')"
   ]
  },
  {
   "cell_type": "code",
   "execution_count": 85,
   "id": "5ca480c0-ec31-438a-a097-cfcdee736b99",
   "metadata": {},
   "outputs": [
    {
     "data": {
      "text/plain": [
       "['__add__',\n",
       " '__class__',\n",
       " '__contains__',\n",
       " '__delattr__',\n",
       " '__dir__',\n",
       " '__doc__',\n",
       " '__eq__',\n",
       " '__format__',\n",
       " '__ge__',\n",
       " '__getattribute__',\n",
       " '__getitem__',\n",
       " '__getnewargs__',\n",
       " '__getstate__',\n",
       " '__gt__',\n",
       " '__hash__',\n",
       " '__init__',\n",
       " '__init_subclass__',\n",
       " '__iter__',\n",
       " '__le__',\n",
       " '__len__',\n",
       " '__lt__',\n",
       " '__mod__',\n",
       " '__mul__',\n",
       " '__ne__',\n",
       " '__new__',\n",
       " '__reduce__',\n",
       " '__reduce_ex__',\n",
       " '__repr__',\n",
       " '__rmod__',\n",
       " '__rmul__',\n",
       " '__setattr__',\n",
       " '__sizeof__',\n",
       " '__str__',\n",
       " '__subclasshook__',\n",
       " 'capitalize',\n",
       " 'casefold',\n",
       " 'center',\n",
       " 'count',\n",
       " 'encode',\n",
       " 'endswith',\n",
       " 'expandtabs',\n",
       " 'find',\n",
       " 'format',\n",
       " 'format_map',\n",
       " 'index',\n",
       " 'isalnum',\n",
       " 'isalpha',\n",
       " 'isascii',\n",
       " 'isdecimal',\n",
       " 'isdigit',\n",
       " 'isidentifier',\n",
       " 'islower',\n",
       " 'isnumeric',\n",
       " 'isprintable',\n",
       " 'isspace',\n",
       " 'istitle',\n",
       " 'isupper',\n",
       " 'join',\n",
       " 'ljust',\n",
       " 'lower',\n",
       " 'lstrip',\n",
       " 'maketrans',\n",
       " 'partition',\n",
       " 'removeprefix',\n",
       " 'removesuffix',\n",
       " 'replace',\n",
       " 'rfind',\n",
       " 'rindex',\n",
       " 'rjust',\n",
       " 'rpartition',\n",
       " 'rsplit',\n",
       " 'rstrip',\n",
       " 'split',\n",
       " 'splitlines',\n",
       " 'startswith',\n",
       " 'strip',\n",
       " 'swapcase',\n",
       " 'title',\n",
       " 'translate',\n",
       " 'upper',\n",
       " 'zfill']"
      ]
     },
     "execution_count": 85,
     "metadata": {},
     "output_type": "execute_result"
    }
   ],
   "source": [
    "dir(data)"
   ]
  },
  {
   "cell_type": "code",
   "execution_count": 86,
   "id": "fb7d55b4-8db9-46cd-8690-e50ebcb197a3",
   "metadata": {},
   "outputs": [
    {
     "name": "stdout",
     "output_type": "stream",
     "text": [
      "Help on built-in function isdecimal:\n",
      "\n",
      "isdecimal() method of builtins.str instance\n",
      "    Return True if the string is a decimal string, False otherwise.\n",
      "    \n",
      "    A string is a decimal string if all characters in the string are decimal and\n",
      "    there is at least one character in the string.\n",
      "\n"
     ]
    }
   ],
   "source": [
    "help(data.isdecimal)"
   ]
  },
  {
   "cell_type": "code",
   "execution_count": 87,
   "id": "4315eb44-c270-498a-b632-13034af9d7e6",
   "metadata": {},
   "outputs": [
    {
     "name": "stdout",
     "output_type": "stream",
     "text": [
      "Help on class str in module builtins:\n",
      "\n",
      "class str(object)\n",
      " |  str(object='') -> str\n",
      " |  str(bytes_or_buffer[, encoding[, errors]]) -> str\n",
      " |  \n",
      " |  Create a new string object from the given object. If encoding or\n",
      " |  errors is specified, then the object must expose a data buffer\n",
      " |  that will be decoded using the given encoding and error handler.\n",
      " |  Otherwise, returns the result of object.__str__() (if defined)\n",
      " |  or repr(object).\n",
      " |  encoding defaults to sys.getdefaultencoding().\n",
      " |  errors defaults to 'strict'.\n",
      " |  \n",
      " |  Methods defined here:\n",
      " |  \n",
      " |  __add__(self, value, /)\n",
      " |      Return self+value.\n",
      " |  \n",
      " |  __contains__(self, key, /)\n",
      " |      Return key in self.\n",
      " |  \n",
      " |  __eq__(self, value, /)\n",
      " |      Return self==value.\n",
      " |  \n",
      " |  __format__(self, format_spec, /)\n",
      " |      Return a formatted version of the string as described by format_spec.\n",
      " |  \n",
      " |  __ge__(self, value, /)\n",
      " |      Return self>=value.\n",
      " |  \n",
      " |  __getattribute__(self, name, /)\n",
      " |      Return getattr(self, name).\n",
      " |  \n",
      " |  __getitem__(self, key, /)\n",
      " |      Return self[key].\n",
      " |  \n",
      " |  __getnewargs__(...)\n",
      " |  \n",
      " |  __gt__(self, value, /)\n",
      " |      Return self>value.\n",
      " |  \n",
      " |  __hash__(self, /)\n",
      " |      Return hash(self).\n",
      " |  \n",
      " |  __iter__(self, /)\n",
      " |      Implement iter(self).\n",
      " |  \n",
      " |  __le__(self, value, /)\n",
      " |      Return self<=value.\n",
      " |  \n",
      " |  __len__(self, /)\n",
      " |      Return len(self).\n",
      " |  \n",
      " |  __lt__(self, value, /)\n",
      " |      Return self<value.\n",
      " |  \n",
      " |  __mod__(self, value, /)\n",
      " |      Return self%value.\n",
      " |  \n",
      " |  __mul__(self, value, /)\n",
      " |      Return self*value.\n",
      " |  \n",
      " |  __ne__(self, value, /)\n",
      " |      Return self!=value.\n",
      " |  \n",
      " |  __repr__(self, /)\n",
      " |      Return repr(self).\n",
      " |  \n",
      " |  __rmod__(self, value, /)\n",
      " |      Return value%self.\n",
      " |  \n",
      " |  __rmul__(self, value, /)\n",
      " |      Return value*self.\n",
      " |  \n",
      " |  __sizeof__(self, /)\n",
      " |      Return the size of the string in memory, in bytes.\n",
      " |  \n",
      " |  __str__(self, /)\n",
      " |      Return str(self).\n",
      " |  \n",
      " |  capitalize(self, /)\n",
      " |      Return a capitalized version of the string.\n",
      " |      \n",
      " |      More specifically, make the first character have upper case and the rest lower\n",
      " |      case.\n",
      " |  \n",
      " |  casefold(self, /)\n",
      " |      Return a version of the string suitable for caseless comparisons.\n",
      " |  \n",
      " |  center(self, width, fillchar=' ', /)\n",
      " |      Return a centered string of length width.\n",
      " |      \n",
      " |      Padding is done using the specified fill character (default is a space).\n",
      " |  \n",
      " |  count(...)\n",
      " |      S.count(sub[, start[, end]]) -> int\n",
      " |      \n",
      " |      Return the number of non-overlapping occurrences of substring sub in\n",
      " |      string S[start:end].  Optional arguments start and end are\n",
      " |      interpreted as in slice notation.\n",
      " |  \n",
      " |  encode(self, /, encoding='utf-8', errors='strict')\n",
      " |      Encode the string using the codec registered for encoding.\n",
      " |      \n",
      " |      encoding\n",
      " |        The encoding in which to encode the string.\n",
      " |      errors\n",
      " |        The error handling scheme to use for encoding errors.\n",
      " |        The default is 'strict' meaning that encoding errors raise a\n",
      " |        UnicodeEncodeError.  Other possible values are 'ignore', 'replace' and\n",
      " |        'xmlcharrefreplace' as well as any other name registered with\n",
      " |        codecs.register_error that can handle UnicodeEncodeErrors.\n",
      " |  \n",
      " |  endswith(...)\n",
      " |      S.endswith(suffix[, start[, end]]) -> bool\n",
      " |      \n",
      " |      Return True if S ends with the specified suffix, False otherwise.\n",
      " |      With optional start, test S beginning at that position.\n",
      " |      With optional end, stop comparing S at that position.\n",
      " |      suffix can also be a tuple of strings to try.\n",
      " |  \n",
      " |  expandtabs(self, /, tabsize=8)\n",
      " |      Return a copy where all tab characters are expanded using spaces.\n",
      " |      \n",
      " |      If tabsize is not given, a tab size of 8 characters is assumed.\n",
      " |  \n",
      " |  find(...)\n",
      " |      S.find(sub[, start[, end]]) -> int\n",
      " |      \n",
      " |      Return the lowest index in S where substring sub is found,\n",
      " |      such that sub is contained within S[start:end].  Optional\n",
      " |      arguments start and end are interpreted as in slice notation.\n",
      " |      \n",
      " |      Return -1 on failure.\n",
      " |  \n",
      " |  format(...)\n",
      " |      S.format(*args, **kwargs) -> str\n",
      " |      \n",
      " |      Return a formatted version of S, using substitutions from args and kwargs.\n",
      " |      The substitutions are identified by braces ('{' and '}').\n",
      " |  \n",
      " |  format_map(...)\n",
      " |      S.format_map(mapping) -> str\n",
      " |      \n",
      " |      Return a formatted version of S, using substitutions from mapping.\n",
      " |      The substitutions are identified by braces ('{' and '}').\n",
      " |  \n",
      " |  index(...)\n",
      " |      S.index(sub[, start[, end]]) -> int\n",
      " |      \n",
      " |      Return the lowest index in S where substring sub is found,\n",
      " |      such that sub is contained within S[start:end].  Optional\n",
      " |      arguments start and end are interpreted as in slice notation.\n",
      " |      \n",
      " |      Raises ValueError when the substring is not found.\n",
      " |  \n",
      " |  isalnum(self, /)\n",
      " |      Return True if the string is an alpha-numeric string, False otherwise.\n",
      " |      \n",
      " |      A string is alpha-numeric if all characters in the string are alpha-numeric and\n",
      " |      there is at least one character in the string.\n",
      " |  \n",
      " |  isalpha(self, /)\n",
      " |      Return True if the string is an alphabetic string, False otherwise.\n",
      " |      \n",
      " |      A string is alphabetic if all characters in the string are alphabetic and there\n",
      " |      is at least one character in the string.\n",
      " |  \n",
      " |  isascii(self, /)\n",
      " |      Return True if all characters in the string are ASCII, False otherwise.\n",
      " |      \n",
      " |      ASCII characters have code points in the range U+0000-U+007F.\n",
      " |      Empty string is ASCII too.\n",
      " |  \n",
      " |  isdecimal(self, /)\n",
      " |      Return True if the string is a decimal string, False otherwise.\n",
      " |      \n",
      " |      A string is a decimal string if all characters in the string are decimal and\n",
      " |      there is at least one character in the string.\n",
      " |  \n",
      " |  isdigit(self, /)\n",
      " |      Return True if the string is a digit string, False otherwise.\n",
      " |      \n",
      " |      A string is a digit string if all characters in the string are digits and there\n",
      " |      is at least one character in the string.\n",
      " |  \n",
      " |  isidentifier(self, /)\n",
      " |      Return True if the string is a valid Python identifier, False otherwise.\n",
      " |      \n",
      " |      Call keyword.iskeyword(s) to test whether string s is a reserved identifier,\n",
      " |      such as \"def\" or \"class\".\n",
      " |  \n",
      " |  islower(self, /)\n",
      " |      Return True if the string is a lowercase string, False otherwise.\n",
      " |      \n",
      " |      A string is lowercase if all cased characters in the string are lowercase and\n",
      " |      there is at least one cased character in the string.\n",
      " |  \n",
      " |  isnumeric(self, /)\n",
      " |      Return True if the string is a numeric string, False otherwise.\n",
      " |      \n",
      " |      A string is numeric if all characters in the string are numeric and there is at\n",
      " |      least one character in the string.\n",
      " |  \n",
      " |  isprintable(self, /)\n",
      " |      Return True if the string is printable, False otherwise.\n",
      " |      \n",
      " |      A string is printable if all of its characters are considered printable in\n",
      " |      repr() or if it is empty.\n",
      " |  \n",
      " |  isspace(self, /)\n",
      " |      Return True if the string is a whitespace string, False otherwise.\n",
      " |      \n",
      " |      A string is whitespace if all characters in the string are whitespace and there\n",
      " |      is at least one character in the string.\n",
      " |  \n",
      " |  istitle(self, /)\n",
      " |      Return True if the string is a title-cased string, False otherwise.\n",
      " |      \n",
      " |      In a title-cased string, upper- and title-case characters may only\n",
      " |      follow uncased characters and lowercase characters only cased ones.\n",
      " |  \n",
      " |  isupper(self, /)\n",
      " |      Return True if the string is an uppercase string, False otherwise.\n",
      " |      \n",
      " |      A string is uppercase if all cased characters in the string are uppercase and\n",
      " |      there is at least one cased character in the string.\n",
      " |  \n",
      " |  join(self, iterable, /)\n",
      " |      Concatenate any number of strings.\n",
      " |      \n",
      " |      The string whose method is called is inserted in between each given string.\n",
      " |      The result is returned as a new string.\n",
      " |      \n",
      " |      Example: '.'.join(['ab', 'pq', 'rs']) -> 'ab.pq.rs'\n",
      " |  \n",
      " |  ljust(self, width, fillchar=' ', /)\n",
      " |      Return a left-justified string of length width.\n",
      " |      \n",
      " |      Padding is done using the specified fill character (default is a space).\n",
      " |  \n",
      " |  lower(self, /)\n",
      " |      Return a copy of the string converted to lowercase.\n",
      " |  \n",
      " |  lstrip(self, chars=None, /)\n",
      " |      Return a copy of the string with leading whitespace removed.\n",
      " |      \n",
      " |      If chars is given and not None, remove characters in chars instead.\n",
      " |  \n",
      " |  partition(self, sep, /)\n",
      " |      Partition the string into three parts using the given separator.\n",
      " |      \n",
      " |      This will search for the separator in the string.  If the separator is found,\n",
      " |      returns a 3-tuple containing the part before the separator, the separator\n",
      " |      itself, and the part after it.\n",
      " |      \n",
      " |      If the separator is not found, returns a 3-tuple containing the original string\n",
      " |      and two empty strings.\n",
      " |  \n",
      " |  removeprefix(self, prefix, /)\n",
      " |      Return a str with the given prefix string removed if present.\n",
      " |      \n",
      " |      If the string starts with the prefix string, return string[len(prefix):].\n",
      " |      Otherwise, return a copy of the original string.\n",
      " |  \n",
      " |  removesuffix(self, suffix, /)\n",
      " |      Return a str with the given suffix string removed if present.\n",
      " |      \n",
      " |      If the string ends with the suffix string and that suffix is not empty,\n",
      " |      return string[:-len(suffix)]. Otherwise, return a copy of the original\n",
      " |      string.\n",
      " |  \n",
      " |  replace(self, old, new, count=-1, /)\n",
      " |      Return a copy with all occurrences of substring old replaced by new.\n",
      " |      \n",
      " |        count\n",
      " |          Maximum number of occurrences to replace.\n",
      " |          -1 (the default value) means replace all occurrences.\n",
      " |      \n",
      " |      If the optional argument count is given, only the first count occurrences are\n",
      " |      replaced.\n",
      " |  \n",
      " |  rfind(...)\n",
      " |      S.rfind(sub[, start[, end]]) -> int\n",
      " |      \n",
      " |      Return the highest index in S where substring sub is found,\n",
      " |      such that sub is contained within S[start:end].  Optional\n",
      " |      arguments start and end are interpreted as in slice notation.\n",
      " |      \n",
      " |      Return -1 on failure.\n",
      " |  \n",
      " |  rindex(...)\n",
      " |      S.rindex(sub[, start[, end]]) -> int\n",
      " |      \n",
      " |      Return the highest index in S where substring sub is found,\n",
      " |      such that sub is contained within S[start:end].  Optional\n",
      " |      arguments start and end are interpreted as in slice notation.\n",
      " |      \n",
      " |      Raises ValueError when the substring is not found.\n",
      " |  \n",
      " |  rjust(self, width, fillchar=' ', /)\n",
      " |      Return a right-justified string of length width.\n",
      " |      \n",
      " |      Padding is done using the specified fill character (default is a space).\n",
      " |  \n",
      " |  rpartition(self, sep, /)\n",
      " |      Partition the string into three parts using the given separator.\n",
      " |      \n",
      " |      This will search for the separator in the string, starting at the end. If\n",
      " |      the separator is found, returns a 3-tuple containing the part before the\n",
      " |      separator, the separator itself, and the part after it.\n",
      " |      \n",
      " |      If the separator is not found, returns a 3-tuple containing two empty strings\n",
      " |      and the original string.\n",
      " |  \n",
      " |  rsplit(self, /, sep=None, maxsplit=-1)\n",
      " |      Return a list of the substrings in the string, using sep as the separator string.\n",
      " |      \n",
      " |        sep\n",
      " |          The separator used to split the string.\n",
      " |      \n",
      " |          When set to None (the default value), will split on any whitespace\n",
      " |          character (including \\n \\r \\t \\f and spaces) and will discard\n",
      " |          empty strings from the result.\n",
      " |        maxsplit\n",
      " |          Maximum number of splits (starting from the left).\n",
      " |          -1 (the default value) means no limit.\n",
      " |      \n",
      " |      Splitting starts at the end of the string and works to the front.\n",
      " |  \n",
      " |  rstrip(self, chars=None, /)\n",
      " |      Return a copy of the string with trailing whitespace removed.\n",
      " |      \n",
      " |      If chars is given and not None, remove characters in chars instead.\n",
      " |  \n",
      " |  split(self, /, sep=None, maxsplit=-1)\n",
      " |      Return a list of the substrings in the string, using sep as the separator string.\n",
      " |      \n",
      " |        sep\n",
      " |          The separator used to split the string.\n",
      " |      \n",
      " |          When set to None (the default value), will split on any whitespace\n",
      " |          character (including \\n \\r \\t \\f and spaces) and will discard\n",
      " |          empty strings from the result.\n",
      " |        maxsplit\n",
      " |          Maximum number of splits (starting from the left).\n",
      " |          -1 (the default value) means no limit.\n",
      " |      \n",
      " |      Note, str.split() is mainly useful for data that has been intentionally\n",
      " |      delimited.  With natural text that includes punctuation, consider using\n",
      " |      the regular expression module.\n",
      " |  \n",
      " |  splitlines(self, /, keepends=False)\n",
      " |      Return a list of the lines in the string, breaking at line boundaries.\n",
      " |      \n",
      " |      Line breaks are not included in the resulting list unless keepends is given and\n",
      " |      true.\n",
      " |  \n",
      " |  startswith(...)\n",
      " |      S.startswith(prefix[, start[, end]]) -> bool\n",
      " |      \n",
      " |      Return True if S starts with the specified prefix, False otherwise.\n",
      " |      With optional start, test S beginning at that position.\n",
      " |      With optional end, stop comparing S at that position.\n",
      " |      prefix can also be a tuple of strings to try.\n",
      " |  \n",
      " |  strip(self, chars=None, /)\n",
      " |      Return a copy of the string with leading and trailing whitespace removed.\n",
      " |      \n",
      " |      If chars is given and not None, remove characters in chars instead.\n",
      " |  \n",
      " |  swapcase(self, /)\n",
      " |      Convert uppercase characters to lowercase and lowercase characters to uppercase.\n",
      " |  \n",
      " |  title(self, /)\n",
      " |      Return a version of the string where each word is titlecased.\n",
      " |      \n",
      " |      More specifically, words start with uppercased characters and all remaining\n",
      " |      cased characters have lower case.\n",
      " |  \n",
      " |  translate(self, table, /)\n",
      " |      Replace each character in the string using the given translation table.\n",
      " |      \n",
      " |        table\n",
      " |          Translation table, which must be a mapping of Unicode ordinals to\n",
      " |          Unicode ordinals, strings, or None.\n",
      " |      \n",
      " |      The table must implement lookup/indexing via __getitem__, for instance a\n",
      " |      dictionary or list.  If this operation raises LookupError, the character is\n",
      " |      left untouched.  Characters mapped to None are deleted.\n",
      " |  \n",
      " |  upper(self, /)\n",
      " |      Return a copy of the string converted to uppercase.\n",
      " |  \n",
      " |  zfill(self, width, /)\n",
      " |      Pad a numeric string with zeros on the left, to fill a field of the given width.\n",
      " |      \n",
      " |      The string is never truncated.\n",
      " |  \n",
      " |  ----------------------------------------------------------------------\n",
      " |  Static methods defined here:\n",
      " |  \n",
      " |  __new__(*args, **kwargs) from builtins.type\n",
      " |      Create and return a new object.  See help(type) for accurate signature.\n",
      " |  \n",
      " |  maketrans(...)\n",
      " |      Return a translation table usable for str.translate().\n",
      " |      \n",
      " |      If there is only one argument, it must be a dictionary mapping Unicode\n",
      " |      ordinals (integers) or characters to Unicode ordinals, strings or None.\n",
      " |      Character keys will be then converted to ordinals.\n",
      " |      If there are two arguments, they must be strings of equal length, and\n",
      " |      in the resulting dictionary, each character in x will be mapped to the\n",
      " |      character at the same position in y. If there is a third argument, it\n",
      " |      must be a string, whose characters will be mapped to None in the result.\n",
      "\n"
     ]
    }
   ],
   "source": [
    "help(str)"
   ]
  },
  {
   "cell_type": "code",
   "execution_count": 88,
   "id": "a809f438-0344-48ab-845b-4531b3e74ccb",
   "metadata": {},
   "outputs": [],
   "source": [
    "# STRING CONCATENATION"
   ]
  },
  {
   "cell_type": "code",
   "execution_count": 89,
   "id": "9704a12c-34db-47e0-905e-7ee73a4e527a",
   "metadata": {},
   "outputs": [],
   "source": [
    "name1 = 'Hello'\n",
    "name2 = 'world'"
   ]
  },
  {
   "cell_type": "code",
   "execution_count": 90,
   "id": "cc5923e3-d38e-4d11-9b1a-067a02a09eab",
   "metadata": {},
   "outputs": [],
   "source": [
    "result = name1 + name2"
   ]
  },
  {
   "cell_type": "code",
   "execution_count": 91,
   "id": "908f2d58-39cd-409d-854a-f24b96e0ecf6",
   "metadata": {},
   "outputs": [
    {
     "name": "stdout",
     "output_type": "stream",
     "text": [
      "Helloworld\n"
     ]
    }
   ],
   "source": [
    "print(result)"
   ]
  },
  {
   "cell_type": "code",
   "execution_count": 92,
   "id": "a559ca7f-1a06-4fe8-85c5-bdcd5a8e7208",
   "metadata": {},
   "outputs": [],
   "source": [
    "# STRING REPEATATION"
   ]
  },
  {
   "cell_type": "code",
   "execution_count": 93,
   "id": "e0548b4a-dd88-4c93-ae22-0e0e94fe0c71",
   "metadata": {},
   "outputs": [
    {
     "data": {
      "text/plain": [
       "'HelloHelloHello'"
      ]
     },
     "execution_count": 93,
     "metadata": {},
     "output_type": "execute_result"
    }
   ],
   "source": [
    "name1 * 3"
   ]
  },
  {
   "cell_type": "code",
   "execution_count": 94,
   "id": "5886c442-4311-4b52-b702-e80090b2a480",
   "metadata": {},
   "outputs": [],
   "source": [
    "# ESCAPE SEQUENCE"
   ]
  },
  {
   "cell_type": "code",
   "execution_count": 95,
   "id": "5a227857-6277-4667-ba2c-6a51dfff6c21",
   "metadata": {},
   "outputs": [
    {
     "name": "stdout",
     "output_type": "stream",
     "text": [
      "Hello World\n"
     ]
    }
   ],
   "source": [
    "print('Hello World')"
   ]
  },
  {
   "cell_type": "code",
   "execution_count": 96,
   "id": "0226a253-9328-409c-8dd4-3140856e8a75",
   "metadata": {},
   "outputs": [
    {
     "name": "stdout",
     "output_type": "stream",
     "text": [
      "Hello\n",
      "World\n"
     ]
    }
   ],
   "source": [
    "print('Hello\\nWorld')"
   ]
  },
  {
   "cell_type": "code",
   "execution_count": 97,
   "id": "26399c69-8b49-480a-af5b-78dee363176d",
   "metadata": {},
   "outputs": [
    {
     "name": "stdout",
     "output_type": "stream",
     "text": [
      "Hello\tWorld\n"
     ]
    }
   ],
   "source": [
    "print('Hello\\tWorld')"
   ]
  },
  {
   "cell_type": "code",
   "execution_count": 98,
   "id": "3d73bf22-33b6-4c81-90fa-c1b4bf9cb948",
   "metadata": {},
   "outputs": [
    {
     "name": "stdout",
     "output_type": "stream",
     "text": [
      "Hello'World\n"
     ]
    }
   ],
   "source": [
    "print('Hello\\'World') "
   ]
  },
  {
   "cell_type": "code",
   "execution_count": 99,
   "id": "1307d9bb-acf0-46cd-8f6d-e9bf34e5d573",
   "metadata": {},
   "outputs": [],
   "source": [
    "# DOC STRING "
   ]
  },
  {
   "cell_type": "code",
   "execution_count": 100,
   "id": "e9b00749-28d3-4b22-9217-c0c153efe961",
   "metadata": {},
   "outputs": [
    {
     "name": "stdout",
     "output_type": "stream",
     "text": [
      "this is first line \n",
      "this is 2nd line\n",
      "this is 3rd line\n"
     ]
    }
   ],
   "source": [
    "print('''this is first line \n",
    "this is 2nd line\n",
    "this is 3rd line''')"
   ]
  },
  {
   "cell_type": "code",
   "execution_count": 101,
   "id": "e6c24497-ebf2-44de-9c4f-36bc61db54be",
   "metadata": {},
   "outputs": [],
   "source": [
    "# ASCII"
   ]
  },
  {
   "cell_type": "code",
   "execution_count": 102,
   "id": "1eac7754-881b-47f5-bcd9-e495e97e5a29",
   "metadata": {},
   "outputs": [
    {
     "data": {
      "text/plain": [
       "65"
      ]
     },
     "execution_count": 102,
     "metadata": {},
     "output_type": "execute_result"
    }
   ],
   "source": [
    "ord('A')"
   ]
  },
  {
   "cell_type": "code",
   "execution_count": 103,
   "id": "5f8cb1fa-0a3b-4e5c-ba1e-ca5fd91e87af",
   "metadata": {},
   "outputs": [
    {
     "data": {
      "text/plain": [
       "97"
      ]
     },
     "execution_count": 103,
     "metadata": {},
     "output_type": "execute_result"
    }
   ],
   "source": [
    "ord('a')"
   ]
  },
  {
   "cell_type": "code",
   "execution_count": 104,
   "id": "9e5ab6dd-f1cb-429f-9de8-4b8896405644",
   "metadata": {},
   "outputs": [
    {
     "data": {
      "text/plain": [
       "35"
      ]
     },
     "execution_count": 104,
     "metadata": {},
     "output_type": "execute_result"
    }
   ],
   "source": [
    "ord('#')"
   ]
  },
  {
   "cell_type": "code",
   "execution_count": 105,
   "id": "44d91041-9aad-46d5-8f6c-0302b495ab76",
   "metadata": {},
   "outputs": [
    {
     "data": {
      "text/plain": [
       "'-'"
      ]
     },
     "execution_count": 105,
     "metadata": {},
     "output_type": "execute_result"
    }
   ],
   "source": [
    "chr(45)"
   ]
  },
  {
   "cell_type": "code",
   "execution_count": 106,
   "id": "41c8c327-4966-45fd-838f-835b818ed95f",
   "metadata": {},
   "outputs": [
    {
     "data": {
      "text/plain": [
       "'a'"
      ]
     },
     "execution_count": 106,
     "metadata": {},
     "output_type": "execute_result"
    }
   ],
   "source": [
    "chr(97)"
   ]
  },
  {
   "cell_type": "code",
   "execution_count": 107,
   "id": "aa0a1a3c-844d-44ec-b374-dd4d556ade3c",
   "metadata": {},
   "outputs": [
    {
     "data": {
      "text/plain": [
       "'²'"
      ]
     },
     "execution_count": 107,
     "metadata": {},
     "output_type": "execute_result"
    }
   ],
   "source": [
    "chr(178)"
   ]
  },
  {
   "cell_type": "code",
   "execution_count": 109,
   "id": "f25ba7ca-4423-449c-87e6-52841daa01ec",
   "metadata": {},
   "outputs": [
    {
     "data": {
      "text/plain": [
       "'x²'"
      ]
     },
     "execution_count": 109,
     "metadata": {},
     "output_type": "execute_result"
    }
   ],
   "source": [
    "'x' + chr(178)"
   ]
  },
  {
   "cell_type": "code",
   "execution_count": 110,
   "id": "0fe52c18-9357-4602-98f7-7eda0e2e6d0f",
   "metadata": {},
   "outputs": [],
   "source": [
    "# PRINT FUNCTION"
   ]
  },
  {
   "cell_type": "code",
   "execution_count": 111,
   "id": "296788c7-3c37-4421-a7bd-4b6222f4c1f5",
   "metadata": {},
   "outputs": [],
   "source": [
    "name = 'Priya'\n",
    "marks = 78.23"
   ]
  },
  {
   "cell_type": "code",
   "execution_count": 113,
   "id": "5bcbeb73-9996-4a00-8973-aa16add23f5a",
   "metadata": {},
   "outputs": [
    {
     "name": "stdout",
     "output_type": "stream",
     "text": [
      "my name is Priya and marks is 78.23\n"
     ]
    }
   ],
   "source": [
    "# my name is Riya and marks are 78.23\n",
    "print('my name is', name, 'and marks is', marks)"
   ]
  },
  {
   "cell_type": "code",
   "execution_count": 114,
   "id": "98d670e3-8b5e-417a-ab91-4095bf7a6cc2",
   "metadata": {},
   "outputs": [],
   "source": [
    "# FORMATTED PRINT"
   ]
  },
  {
   "cell_type": "code",
   "execution_count": 117,
   "id": "ace31209-5eca-4657-9578-34754bd3b96a",
   "metadata": {},
   "outputs": [
    {
     "name": "stdout",
     "output_type": "stream",
     "text": [
      "my name is Priya and marks are 78.230\n"
     ]
    }
   ],
   "source": [
    "print('my name is %s and marks are %.3f' %(name, marks))"
   ]
  },
  {
   "cell_type": "code",
   "execution_count": 118,
   "id": "09b3055c-4230-471d-94ab-091b1584b465",
   "metadata": {},
   "outputs": [],
   "source": [
    "city = 'pune'"
   ]
  },
  {
   "cell_type": "code",
   "execution_count": 119,
   "id": "cec869ad-8fe2-4dd4-836e-af97b1b366a8",
   "metadata": {},
   "outputs": [
    {
     "name": "stdout",
     "output_type": "stream",
     "text": [
      "Priya 78.23 pune\n"
     ]
    }
   ],
   "source": [
    "print(name, marks, city)"
   ]
  },
  {
   "cell_type": "code",
   "execution_count": 120,
   "id": "de992cab-b4ee-4653-8bb7-bb5c105eedd1",
   "metadata": {},
   "outputs": [
    {
     "name": "stdout",
     "output_type": "stream",
     "text": [
      "Priya\n",
      "78.23\n",
      "pune\n"
     ]
    }
   ],
   "source": [
    "print(name, marks, city, sep = '\\n')"
   ]
  },
  {
   "cell_type": "code",
   "execution_count": 121,
   "id": "23de0c29-fb63-4e4a-9821-60a008509484",
   "metadata": {},
   "outputs": [
    {
     "name": "stdout",
     "output_type": "stream",
     "text": [
      "Priya\t78.23\tpune\n"
     ]
    }
   ],
   "source": [
    "print(name, marks, city, sep = '\\t')"
   ]
  },
  {
   "cell_type": "code",
   "execution_count": 124,
   "id": "3c8d6f1e-5d8a-40ba-b013-0bc2722d824c",
   "metadata": {},
   "outputs": [
    {
     "name": "stdout",
     "output_type": "stream",
     "text": [
      "Priya*78.23*pune\n"
     ]
    }
   ],
   "source": [
    "print(name, marks, city, sep = '*')"
   ]
  },
  {
   "cell_type": "code",
   "execution_count": 125,
   "id": "41e01a14-9bba-412b-9337-667cb5cf1b06",
   "metadata": {},
   "outputs": [
    {
     "name": "stdout",
     "output_type": "stream",
     "text": [
      "Priya 78.23 pune*"
     ]
    }
   ],
   "source": [
    "print(name, marks, city, end = '*')"
   ]
  },
  {
   "cell_type": "code",
   "execution_count": 126,
   "id": "64dda35b-cbea-4886-883c-54dc022a54bc",
   "metadata": {},
   "outputs": [],
   "source": [
    "#### OPERATORS ###"
   ]
  },
  {
   "cell_type": "code",
   "execution_count": 127,
   "id": "023f4b71-4b4f-4aa4-a23b-693c1a5c5419",
   "metadata": {},
   "outputs": [],
   "source": [
    "# Arithmetic "
   ]
  },
  {
   "cell_type": "code",
   "execution_count": 128,
   "id": "3cf7f77b-bebc-4909-8c16-220ec955abf9",
   "metadata": {},
   "outputs": [],
   "source": [
    "num1 = 12\n",
    "num2 = 5"
   ]
  },
  {
   "cell_type": "code",
   "execution_count": 129,
   "id": "ec908a45-68e4-4ce1-bedb-4c67495ae30f",
   "metadata": {},
   "outputs": [
    {
     "data": {
      "text/plain": [
       "17"
      ]
     },
     "execution_count": 129,
     "metadata": {},
     "output_type": "execute_result"
    }
   ],
   "source": [
    "num1 + num2"
   ]
  },
  {
   "cell_type": "code",
   "execution_count": 130,
   "id": "182c63e0-90f6-46c2-8edf-62c8a6c2bfb4",
   "metadata": {},
   "outputs": [
    {
     "data": {
      "text/plain": [
       "7"
      ]
     },
     "execution_count": 130,
     "metadata": {},
     "output_type": "execute_result"
    }
   ],
   "source": [
    "num1 - num2"
   ]
  },
  {
   "cell_type": "code",
   "execution_count": 131,
   "id": "df4b6380-1e9b-47dc-b880-2f098c1c5135",
   "metadata": {},
   "outputs": [
    {
     "data": {
      "text/plain": [
       "60"
      ]
     },
     "execution_count": 131,
     "metadata": {},
     "output_type": "execute_result"
    }
   ],
   "source": [
    "num1 * num2"
   ]
  },
  {
   "cell_type": "code",
   "execution_count": 132,
   "id": "0dafd49f-40f8-4906-a2dd-c69272d6af63",
   "metadata": {},
   "outputs": [
    {
     "data": {
      "text/plain": [
       "2.4"
      ]
     },
     "execution_count": 132,
     "metadata": {},
     "output_type": "execute_result"
    }
   ],
   "source": [
    "num1 / num2"
   ]
  },
  {
   "cell_type": "code",
   "execution_count": 133,
   "id": "c3b671fb-2371-469b-8dfd-31cdb3fa1aa0",
   "metadata": {},
   "outputs": [
    {
     "data": {
      "text/plain": [
       "248832"
      ]
     },
     "execution_count": 133,
     "metadata": {},
     "output_type": "execute_result"
    }
   ],
   "source": [
    "num1 ** num2"
   ]
  },
  {
   "cell_type": "code",
   "execution_count": 134,
   "id": "6c597d4e-05dd-4efe-a6b1-1d1eea061687",
   "metadata": {},
   "outputs": [
    {
     "data": {
      "text/plain": [
       "2"
      ]
     },
     "execution_count": 134,
     "metadata": {},
     "output_type": "execute_result"
    }
   ],
   "source": [
    "num1 // num2"
   ]
  },
  {
   "cell_type": "code",
   "execution_count": 135,
   "id": "12f6f592-26a8-486d-8905-672d843e56da",
   "metadata": {},
   "outputs": [
    {
     "data": {
      "text/plain": [
       "2"
      ]
     },
     "execution_count": 135,
     "metadata": {},
     "output_type": "execute_result"
    }
   ],
   "source": [
    "num1 % num2"
   ]
  },
  {
   "cell_type": "code",
   "execution_count": 136,
   "id": "3266fc0f-d2b5-4ca5-922f-e528207eac69",
   "metadata": {},
   "outputs": [],
   "source": [
    "# Relational"
   ]
  },
  {
   "cell_type": "code",
   "execution_count": 137,
   "id": "04b4aec4-4a95-4e14-9d10-8c9360de6661",
   "metadata": {},
   "outputs": [
    {
     "data": {
      "text/plain": [
       "True"
      ]
     },
     "execution_count": 137,
     "metadata": {},
     "output_type": "execute_result"
    }
   ],
   "source": [
    "num1 > num2"
   ]
  },
  {
   "cell_type": "code",
   "execution_count": 138,
   "id": "77c187de-021f-4b84-b25a-67558a9a1cd9",
   "metadata": {},
   "outputs": [
    {
     "data": {
      "text/plain": [
       "False"
      ]
     },
     "execution_count": 138,
     "metadata": {},
     "output_type": "execute_result"
    }
   ],
   "source": [
    "num1 <= num2"
   ]
  },
  {
   "cell_type": "code",
   "execution_count": 139,
   "id": "9fc57136-6a15-471d-9ef1-24da3ae8313b",
   "metadata": {},
   "outputs": [
    {
     "data": {
      "text/plain": [
       "True"
      ]
     },
     "execution_count": 139,
     "metadata": {},
     "output_type": "execute_result"
    }
   ],
   "source": [
    "num1 != num2"
   ]
  },
  {
   "cell_type": "code",
   "execution_count": 140,
   "id": "ca2a3044-cf7c-4bb9-9af9-c5474dbc69ed",
   "metadata": {},
   "outputs": [
    {
     "data": {
      "text/plain": [
       "False"
      ]
     },
     "execution_count": 140,
     "metadata": {},
     "output_type": "execute_result"
    }
   ],
   "source": [
    "num1 <= num2"
   ]
  },
  {
   "cell_type": "code",
   "execution_count": 141,
   "id": "8ff5cca3-1b78-4d93-98e3-2aa551d840ca",
   "metadata": {},
   "outputs": [],
   "source": [
    "# logical "
   ]
  },
  {
   "cell_type": "code",
   "execution_count": 142,
   "id": "946de5f3-abc2-46f6-9333-d7bb52142d3e",
   "metadata": {},
   "outputs": [
    {
     "data": {
      "text/plain": [
       "True"
      ]
     },
     "execution_count": 142,
     "metadata": {},
     "output_type": "execute_result"
    }
   ],
   "source": [
    "num1 > num2 and num1 > 0"
   ]
  },
  {
   "cell_type": "code",
   "execution_count": 143,
   "id": "44eac926-b067-49d0-8e99-aee417341537",
   "metadata": {},
   "outputs": [
    {
     "data": {
      "text/plain": [
       "True"
      ]
     },
     "execution_count": 143,
     "metadata": {},
     "output_type": "execute_result"
    }
   ],
   "source": [
    "num1 > num2 or num1 > 1000"
   ]
  },
  {
   "cell_type": "code",
   "execution_count": 144,
   "id": "664c17f6-4722-4193-a40f-4ddf873641ce",
   "metadata": {},
   "outputs": [
    {
     "data": {
      "text/plain": [
       "False"
      ]
     },
     "execution_count": 144,
     "metadata": {},
     "output_type": "execute_result"
    }
   ],
   "source": [
    "num1 > num2 and num1 > 1000"
   ]
  },
  {
   "cell_type": "code",
   "execution_count": 145,
   "id": "b2910c7a-4294-46d0-8ce1-044592321e85",
   "metadata": {},
   "outputs": [],
   "source": [
    "# assignment"
   ]
  },
  {
   "cell_type": "code",
   "execution_count": 146,
   "id": "da2b661c-091a-4e66-9286-e065294ffd0f",
   "metadata": {},
   "outputs": [],
   "source": [
    "num = 20"
   ]
  },
  {
   "cell_type": "code",
   "execution_count": 147,
   "id": "4db37aa1-da24-4659-b731-b0a280474ec4",
   "metadata": {},
   "outputs": [
    {
     "data": {
      "text/plain": [
       "20"
      ]
     },
     "execution_count": 147,
     "metadata": {},
     "output_type": "execute_result"
    }
   ],
   "source": [
    "num"
   ]
  },
  {
   "cell_type": "code",
   "execution_count": 148,
   "id": "c3e9dbca-3099-41c4-b9d7-a5f95adbbd31",
   "metadata": {},
   "outputs": [],
   "source": [
    "num += 10 # num = num + 10"
   ]
  },
  {
   "cell_type": "code",
   "execution_count": 149,
   "id": "90aee2ba-9887-47d4-b66b-d722fc462737",
   "metadata": {},
   "outputs": [
    {
     "data": {
      "text/plain": [
       "30"
      ]
     },
     "execution_count": 149,
     "metadata": {},
     "output_type": "execute_result"
    }
   ],
   "source": [
    "num"
   ]
  },
  {
   "cell_type": "code",
   "execution_count": 150,
   "id": "3fb3af23-f989-4aed-a9a8-c53aa7a572a9",
   "metadata": {},
   "outputs": [],
   "source": [
    "# membership"
   ]
  },
  {
   "cell_type": "code",
   "execution_count": 151,
   "id": "ea828513-c640-4ecd-b4da-3492ef81c8d0",
   "metadata": {},
   "outputs": [
    {
     "data": {
      "text/plain": [
       "'Priya'"
      ]
     },
     "execution_count": 151,
     "metadata": {},
     "output_type": "execute_result"
    }
   ],
   "source": [
    "name"
   ]
  },
  {
   "cell_type": "code",
   "execution_count": 152,
   "id": "4fdb489e-cad9-472d-aa4c-a149eeea8ac3",
   "metadata": {},
   "outputs": [
    {
     "data": {
      "text/plain": [
       "True"
      ]
     },
     "execution_count": 152,
     "metadata": {},
     "output_type": "execute_result"
    }
   ],
   "source": [
    "'i' in name"
   ]
  },
  {
   "cell_type": "code",
   "execution_count": 153,
   "id": "0dd32203-1d2d-4db5-9bb5-ceb98dad89cc",
   "metadata": {},
   "outputs": [
    {
     "data": {
      "text/plain": [
       "False"
      ]
     },
     "execution_count": 153,
     "metadata": {},
     "output_type": "execute_result"
    }
   ],
   "source": [
    "'I' in name"
   ]
  },
  {
   "cell_type": "code",
   "execution_count": 154,
   "id": "1a107a8c-2969-40d0-aaf2-4ef05de447e9",
   "metadata": {},
   "outputs": [
    {
     "data": {
      "text/plain": [
       "False"
      ]
     },
     "execution_count": 154,
     "metadata": {},
     "output_type": "execute_result"
    }
   ],
   "source": [
    "'i' not in name"
   ]
  },
  {
   "cell_type": "code",
   "execution_count": 155,
   "id": "1fb64533-a004-441a-91bb-d13eda63c5ea",
   "metadata": {},
   "outputs": [],
   "source": [
    "# type casting"
   ]
  },
  {
   "cell_type": "code",
   "execution_count": 156,
   "id": "61033304-36c2-43fb-866d-83a4a79e319c",
   "metadata": {},
   "outputs": [],
   "source": [
    "name = 'Priya'\n",
    "data = '1234'\n",
    "num = 34\n",
    "num1 = 50.53"
   ]
  },
  {
   "cell_type": "code",
   "execution_count": 157,
   "id": "769684bd-ddc1-457e-b484-b157b466b02b",
   "metadata": {},
   "outputs": [
    {
     "data": {
      "text/plain": [
       "1234"
      ]
     },
     "execution_count": 157,
     "metadata": {},
     "output_type": "execute_result"
    }
   ],
   "source": [
    "int(data)"
   ]
  },
  {
   "cell_type": "code",
   "execution_count": 158,
   "id": "338dc1de-508d-48b5-adc9-0582c14fcc6e",
   "metadata": {},
   "outputs": [
    {
     "data": {
      "text/plain": [
       "34.0"
      ]
     },
     "execution_count": 158,
     "metadata": {},
     "output_type": "execute_result"
    }
   ],
   "source": [
    "float(num)"
   ]
  },
  {
   "cell_type": "code",
   "execution_count": 159,
   "id": "4d494b7d-e755-44d1-becf-bd477ea972f8",
   "metadata": {},
   "outputs": [
    {
     "data": {
      "text/plain": [
       "50"
      ]
     },
     "execution_count": 159,
     "metadata": {},
     "output_type": "execute_result"
    }
   ],
   "source": [
    "int(num1)"
   ]
  },
  {
   "cell_type": "code",
   "execution_count": 160,
   "id": "7ad40de6-d0d2-44e7-940d-97da6e09bc02",
   "metadata": {},
   "outputs": [
    {
     "data": {
      "text/plain": [
       "'50.53'"
      ]
     },
     "execution_count": 160,
     "metadata": {},
     "output_type": "execute_result"
    }
   ],
   "source": [
    "str(num1)"
   ]
  },
  {
   "cell_type": "code",
   "execution_count": 161,
   "id": "c13543ec-324f-4d42-9fe7-42dc28d7acec",
   "metadata": {},
   "outputs": [],
   "source": [
    "name='Aditya'\n",
    "data=72"
   ]
  },
  {
   "cell_type": "code",
   "execution_count": 162,
   "id": "89afabd6-4dcc-43eb-b7bd-0b95c939d252",
   "metadata": {},
   "outputs": [],
   "source": [
    "passward = name + str(data)"
   ]
  },
  {
   "cell_type": "code",
   "execution_count": 163,
   "id": "62c5d3dd-fea4-4a3f-8e28-cea98f6ee75b",
   "metadata": {},
   "outputs": [
    {
     "data": {
      "text/plain": [
       "'Aditya72'"
      ]
     },
     "execution_count": 163,
     "metadata": {},
     "output_type": "execute_result"
    }
   ],
   "source": [
    "passward"
   ]
  },
  {
   "cell_type": "code",
   "execution_count": 164,
   "id": "d1151ace-0a7e-4995-895e-5820b773d2aa",
   "metadata": {},
   "outputs": [],
   "source": [
    "# User input"
   ]
  },
  {
   "cell_type": "code",
   "execution_count": 166,
   "id": "388c98d9-af93-4d2b-af56-b2afb8a44c5b",
   "metadata": {},
   "outputs": [
    {
     "name": "stdin",
     "output_type": "stream",
     "text": [
      "Enter the 1st number 60\n",
      "Enter the 2nd number 40\n"
     ]
    },
    {
     "name": "stdout",
     "output_type": "stream",
     "text": [
      "Addition is: 100\n"
     ]
    }
   ],
   "source": [
    "num1 = int (input('Enter the 1st number'))\n",
    "num2 = int (input('Enter the 2nd number'))\n",
    "result = num1 + num2\n",
    "print('Addition is:',result)"
   ]
  },
  {
   "cell_type": "code",
   "execution_count": null,
   "id": "7228054c-b3dd-47c8-ae25-95f50eeb77ca",
   "metadata": {},
   "outputs": [],
   "source": []
  }
 ],
 "metadata": {
  "kernelspec": {
   "display_name": "Python 3 (ipykernel)",
   "language": "python",
   "name": "python3"
  },
  "language_info": {
   "codemirror_mode": {
    "name": "ipython",
    "version": 3
   },
   "file_extension": ".py",
   "mimetype": "text/x-python",
   "name": "python",
   "nbconvert_exporter": "python",
   "pygments_lexer": "ipython3",
   "version": "3.11.7"
  }
 },
 "nbformat": 4,
 "nbformat_minor": 5
}
