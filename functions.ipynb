{
 "cells": [
  {
   "cell_type": "markdown",
   "id": "0bc480c5-35b1-4009-b14d-1c3b555a4efe",
   "metadata": {},
   "source": [
    "# function defination"
   ]
  },
  {
   "cell_type": "code",
   "execution_count": 1,
   "id": "53fbbb84-2792-474a-abfd-2917f39f79e4",
   "metadata": {},
   "outputs": [],
   "source": [
    "def show():\n",
    "    print('Hello')\n",
    "    print('Welcome')\n",
    "    print('khana kha k jana')"
   ]
  },
  {
   "cell_type": "code",
   "execution_count": 2,
   "id": "4a10bc88-770e-4cc8-ad9f-7bbaabc4745c",
   "metadata": {},
   "outputs": [
    {
     "name": "stdout",
     "output_type": "stream",
     "text": [
      "Hello\n",
      "Welcome\n",
      "khana kha k jana\n"
     ]
    }
   ],
   "source": [
    "show()"
   ]
  },
  {
   "cell_type": "code",
   "execution_count": 3,
   "id": "ab3d060c-657a-4dca-a409-d77eec44a240",
   "metadata": {},
   "outputs": [
    {
     "name": "stdout",
     "output_type": "stream",
     "text": [
      "Hello\n",
      "Welcome\n",
      "khana kha k jana\n",
      "Hello\n",
      "Welcome\n",
      "khana kha k jana\n",
      "Hello\n",
      "Welcome\n",
      "khana kha k jana\n"
     ]
    }
   ],
   "source": [
    "show()\n",
    "show()\n",
    "show()"
   ]
  },
  {
   "cell_type": "markdown",
   "id": "d2a5e4c0-bdb4-44c1-a566-38d59827a778",
   "metadata": {},
   "source": [
    "# Parameterized function"
   ]
  },
  {
   "cell_type": "code",
   "execution_count": 4,
   "id": "168fd6b9-7f7d-4178-b684-43a0c22f2cb8",
   "metadata": {},
   "outputs": [],
   "source": [
    "def square(a):\n",
    "    result = a*a\n",
    "    print('square is', result)"
   ]
  },
  {
   "cell_type": "code",
   "execution_count": 5,
   "id": "83d5e9d8-222b-4b9c-863c-1b441b471762",
   "metadata": {},
   "outputs": [
    {
     "name": "stdout",
     "output_type": "stream",
     "text": [
      "square is 25\n"
     ]
    }
   ],
   "source": [
    "square(5)"
   ]
  },
  {
   "cell_type": "markdown",
   "id": "d9811abb-24f4-4683-a49e-a1191f395075",
   "metadata": {},
   "source": [
    "# multiParameterized function"
   ]
  },
  {
   "cell_type": "code",
   "execution_count": 9,
   "id": "9a807c83-ec79-49bc-9d10-79509df2cb7c",
   "metadata": {},
   "outputs": [],
   "source": [
    "def large(x,y):\n",
    "    if x>y:\n",
    "        print('largest is',x)\n",
    "    elif x == y:\n",
    "        print('Equals')\n",
    "    else:\n",
    "        print('largest is',y)"
   ]
  },
  {
   "cell_type": "code",
   "execution_count": 7,
   "id": "f76439e3-2858-4e83-8b9d-d79fe51fced1",
   "metadata": {},
   "outputs": [
    {
     "name": "stdout",
     "output_type": "stream",
     "text": [
      "largest is 12\n"
     ]
    }
   ],
   "source": [
    "large(12,10)"
   ]
  },
  {
   "cell_type": "code",
   "execution_count": 10,
   "id": "3070d1a1-2136-40ef-b7ca-6f345bdf66e4",
   "metadata": {},
   "outputs": [
    {
     "name": "stdout",
     "output_type": "stream",
     "text": [
      "Equals\n"
     ]
    }
   ],
   "source": [
    "large(10,10)"
   ]
  },
  {
   "cell_type": "code",
   "execution_count": 11,
   "id": "ad1ac125-39b6-4c0f-aab8-335f6a61f2f1",
   "metadata": {},
   "outputs": [],
   "source": [
    "# functions which will accept a value and will prints n no of times"
   ]
  },
  {
   "cell_type": "code",
   "execution_count": 13,
   "id": "7942f9b9-d7a5-49b7-8d0c-38866f74e905",
   "metadata": {},
   "outputs": [],
   "source": [
    "def values(name,count):\n",
    "  for i in range(count):\n",
    "    print(name)     "
   ]
  },
  {
   "cell_type": "code",
   "execution_count": 15,
   "id": "2921ca5a-3bdc-4159-ac26-db1fac7d2023",
   "metadata": {},
   "outputs": [
    {
     "name": "stdout",
     "output_type": "stream",
     "text": [
      "Pune\n",
      "Pune\n",
      "Pune\n",
      "Pune\n",
      "Pune\n"
     ]
    }
   ],
   "source": [
    "values('Pune',5)"
   ]
  },
  {
   "cell_type": "code",
   "execution_count": 16,
   "id": "b69abbaf-b5a2-490c-873c-ecfcbb96723b",
   "metadata": {},
   "outputs": [],
   "source": [
    "# create function for factorial"
   ]
  },
  {
   "cell_type": "code",
   "execution_count": 34,
   "id": "8df1e4e9-6d30-44a9-806c-2a977bddd55e",
   "metadata": {},
   "outputs": [],
   "source": [
    "def facto(n):\n",
    "    fact = 1\n",
    "    for i in range(1, n + 1):\n",
    "        fact = fact * i\n",
    "    print('factorial is:', fact)   "
   ]
  },
  {
   "cell_type": "code",
   "execution_count": 109,
   "id": "7549245f-db5b-4f75-9595-378117805428",
   "metadata": {},
   "outputs": [
    {
     "name": "stdout",
     "output_type": "stream",
     "text": [
      "factorial is: 6\n"
     ]
    }
   ],
   "source": [
    "facto(3)"
   ]
  },
  {
   "cell_type": "code",
   "execution_count": 29,
   "id": "83e65564-5b68-4ad2-a0a1-57b9dc00e94c",
   "metadata": {},
   "outputs": [],
   "source": [
    "# function returning value"
   ]
  },
  {
   "cell_type": "code",
   "execution_count": 30,
   "id": "54c23cf8-17a0-4749-9aca-a186c7b3bcd0",
   "metadata": {},
   "outputs": [],
   "source": [
    "def square(n):\n",
    "    result = n*n\n",
    "    return result"
   ]
  },
  {
   "cell_type": "code",
   "execution_count": 31,
   "id": "31477561-29be-4378-83b5-40f9de4dd451",
   "metadata": {},
   "outputs": [
    {
     "data": {
      "text/plain": [
       "100"
      ]
     },
     "execution_count": 31,
     "metadata": {},
     "output_type": "execute_result"
    }
   ],
   "source": [
    "square(10)"
   ]
  },
  {
   "cell_type": "markdown",
   "id": "2b731849-72f5-46f8-92c7-e631eb35359f",
   "metadata": {},
   "source": [
    "# difference between print and return"
   ]
  },
  {
   "cell_type": "code",
   "execution_count": 49,
   "id": "033e7986-3efc-4c58-8af2-53e050bbeeda",
   "metadata": {},
   "outputs": [
    {
     "name": "stdout",
     "output_type": "stream",
     "text": [
      "17\n",
      "17\n",
      "addition None\n"
     ]
    }
   ],
   "source": [
    "def add(x,y):\n",
    "    result = x + y\n",
    "    print(result)\n",
    "add(12,5)\n",
    "\n",
    "op = add(12,5)\n",
    "\n",
    "print('addition', op)"
   ]
  },
  {
   "cell_type": "code",
   "execution_count": 48,
   "id": "291af136-b68a-4ab4-9e5d-7ad2be377352",
   "metadata": {},
   "outputs": [
    {
     "name": "stdout",
     "output_type": "stream",
     "text": [
      "addition 12\n"
     ]
    }
   ],
   "source": [
    "def add(x,y):\n",
    "    result=x+y\n",
    "    return result\n",
    "add(5,7)\n",
    "op = add(5,7)\n",
    "print('addition', op)"
   ]
  },
  {
   "cell_type": "code",
   "execution_count": 44,
   "id": "a3c041a1-62ee-4f41-a6f2-fefaa2bf01a3",
   "metadata": {},
   "outputs": [],
   "source": [
    "def large(x,y):\n",
    "    if x>y:\n",
    "        return x\n",
    "    elif x == y:\n",
    "        return 'equal'\n",
    "    else:\n",
    "        return y"
   ]
  },
  {
   "cell_type": "code",
   "execution_count": 46,
   "id": "d2e70292-690b-410c-b3cc-57e2b4e7a4ae",
   "metadata": {},
   "outputs": [
    {
     "data": {
      "text/plain": [
       "'equal'"
      ]
     },
     "execution_count": 46,
     "metadata": {},
     "output_type": "execute_result"
    }
   ],
   "source": [
    "large(10,10)"
   ]
  },
  {
   "cell_type": "code",
   "execution_count": 2,
   "id": "089b0d92-7c8a-4fb2-8aca-1f05e421116c",
   "metadata": {},
   "outputs": [
    {
     "name": "stdout",
     "output_type": "stream",
     "text": [
      "120.0\n"
     ]
    }
   ],
   "source": [
    "import math\n",
    "\n",
    "n = 10\n",
    "r = 3\n",
    "\n",
    "# ncr = n! / (r!(n - r)!)\n",
    "ncr = math.factorial(n) / (math.factorial(r) * math.factorial(n - r))\n",
    "print(ncr)"
   ]
  },
  {
   "cell_type": "code",
   "execution_count": 54,
   "id": "a92833db-7fc8-46bc-b30e-c133453e538f",
   "metadata": {},
   "outputs": [],
   "source": [
    "def calc(n):\n",
    "    sq = n * n\n",
    "    cu = n**3\n",
    "    return sq,cu"
   ]
  },
  {
   "cell_type": "code",
   "execution_count": 56,
   "id": "fee0517b-408e-4d73-a847-6e94afbbf50e",
   "metadata": {},
   "outputs": [
    {
     "data": {
      "text/plain": [
       "(9, 27)"
      ]
     },
     "execution_count": 56,
     "metadata": {},
     "output_type": "execute_result"
    }
   ],
   "source": [
    "calc(3)"
   ]
  },
  {
   "cell_type": "code",
   "execution_count": 59,
   "id": "7fccdf4b-b920-435a-b86d-69e72a87f3f0",
   "metadata": {},
   "outputs": [
    {
     "name": "stdout",
     "output_type": "stream",
     "text": [
      "x 25\n",
      "y 125\n"
     ]
    }
   ],
   "source": [
    "x,y = calc(5)\n",
    "\n",
    "print('x', x)\n",
    "print('y', y)"
   ]
  },
  {
   "cell_type": "code",
   "execution_count": 58,
   "id": "d2fbe76e-275d-467e-babd-9cecb90c7fda",
   "metadata": {},
   "outputs": [
    {
     "name": "stdin",
     "output_type": "stream",
     "text": [
      "Enter the number 13\n"
     ]
    },
    {
     "name": "stdout",
     "output_type": "stream",
     "text": [
      "x 169\n",
      "y 2197\n"
     ]
    }
   ],
   "source": [
    "num = int(input('Enter the number'))\n",
    "x,y = calc(num)\n",
    "\n",
    "print('x', x)\n",
    "print('y', y)"
   ]
  },
  {
   "cell_type": "markdown",
   "id": "de5ac9cc-86aa-4846-8ad2-38572ef4f482",
   "metadata": {},
   "source": [
    "# Default perameters"
   ]
  },
  {
   "cell_type": "code",
   "execution_count": 60,
   "id": "2619a3e4-0cc7-4864-a22d-550e95667b4e",
   "metadata": {},
   "outputs": [],
   "source": [
    "def add3(a,b,c):\n",
    "    result = a + b + c\n",
    "    return result"
   ]
  },
  {
   "cell_type": "code",
   "execution_count": 62,
   "id": "a5f79179-a3e0-4647-8931-270867e6e8d4",
   "metadata": {},
   "outputs": [
    {
     "data": {
      "text/plain": [
       "18"
      ]
     },
     "execution_count": 62,
     "metadata": {},
     "output_type": "execute_result"
    }
   ],
   "source": [
    "add3(5,6,7)"
   ]
  },
  {
   "cell_type": "code",
   "execution_count": 63,
   "id": "03aaf5e8-435e-4791-93ca-95be00f3245a",
   "metadata": {},
   "outputs": [],
   "source": [
    "def add3(a = 10,b = 5,c = 20):\n",
    "    result = a + b + c\n",
    "    return result"
   ]
  },
  {
   "cell_type": "code",
   "execution_count": 64,
   "id": "1a82c34e-2a67-43fa-b653-a70cf63cc16a",
   "metadata": {},
   "outputs": [
    {
     "data": {
      "text/plain": [
       "35"
      ]
     },
     "execution_count": 64,
     "metadata": {},
     "output_type": "execute_result"
    }
   ],
   "source": [
    "add3()"
   ]
  },
  {
   "cell_type": "code",
   "execution_count": 65,
   "id": "aad07621-7057-46ca-97ba-3b5182b54cce",
   "metadata": {},
   "outputs": [],
   "source": [
    "def add3(a = 10,b = 5,c = 20):\n",
    "    result = a + b + c\n",
    "    return result"
   ]
  },
  {
   "cell_type": "code",
   "execution_count": 66,
   "id": "a3790f78-b7fa-4ac2-a837-fba3edaab783",
   "metadata": {},
   "outputs": [
    {
     "data": {
      "text/plain": [
       "80"
      ]
     },
     "execution_count": 66,
     "metadata": {},
     "output_type": "execute_result"
    }
   ],
   "source": [
    "add3(10,50)"
   ]
  },
  {
   "cell_type": "code",
   "execution_count": 67,
   "id": "878816b4-3e7a-4de1-86c1-62a8593b7f62",
   "metadata": {},
   "outputs": [
    {
     "data": {
      "text/plain": [
       "65"
      ]
     },
     "execution_count": 67,
     "metadata": {},
     "output_type": "execute_result"
    }
   ],
   "source": [
    "add3(a = 10,c = 50)"
   ]
  },
  {
   "cell_type": "code",
   "execution_count": 69,
   "id": "2577d3fd-f2b5-4ebc-87d0-db226415e311",
   "metadata": {},
   "outputs": [],
   "source": [
    "def add3(b,a = 10,c = 20):\n",
    "    result = a + b + c\n",
    "    return result"
   ]
  },
  {
   "cell_type": "code",
   "execution_count": 72,
   "id": "64dc7f59-f1d4-443a-b3f2-8140c30a30dd",
   "metadata": {},
   "outputs": [
    {
     "data": {
      "text/plain": [
       "34"
      ]
     },
     "execution_count": 72,
     "metadata": {},
     "output_type": "execute_result"
    }
   ],
   "source": [
    "add3(4)"
   ]
  },
  {
   "cell_type": "markdown",
   "id": "bf4de7a6-03be-4b8a-9322-d043422506af",
   "metadata": {},
   "source": [
    "# Dynamic or variable length"
   ]
  },
  {
   "cell_type": "code",
   "execution_count": 76,
   "id": "ae8995bc-315d-42ef-be2d-88109684fcb2",
   "metadata": {},
   "outputs": [],
   "source": [
    "def disp(*args):\n",
    "    for i in args:\n",
    "        print(i)"
   ]
  },
  {
   "cell_type": "code",
   "execution_count": 77,
   "id": "47e44436-b27d-4950-bffc-f7b4bbf362fb",
   "metadata": {},
   "outputs": [
    {
     "name": "stdout",
     "output_type": "stream",
     "text": [
      "2\n",
      "3\n",
      "4\n",
      "5\n",
      "6\n",
      "7\n",
      "8\n"
     ]
    }
   ],
   "source": [
    "disp(2,3,4,5,6,7,8)"
   ]
  },
  {
   "cell_type": "markdown",
   "id": "51d67fdb-6726-415a-817b-9fd2cbc3aebc",
   "metadata": {},
   "source": [
    "# lamda functions"
   ]
  },
  {
   "cell_type": "code",
   "execution_count": 78,
   "id": "a069af4f-a68a-4aec-b36d-2ddf420ab3dd",
   "metadata": {},
   "outputs": [],
   "source": [
    "# formula==>fun_name = lambda args: result_expression\n",
    "squ = lambda x: x*x"
   ]
  },
  {
   "cell_type": "code",
   "execution_count": 79,
   "id": "5e4b372a-e04b-4110-af59-1688934638a4",
   "metadata": {},
   "outputs": [
    {
     "data": {
      "text/plain": [
       "25"
      ]
     },
     "execution_count": 79,
     "metadata": {},
     "output_type": "execute_result"
    }
   ],
   "source": [
    "squ(5)"
   ]
  },
  {
   "cell_type": "code",
   "execution_count": 80,
   "id": "54045e94-d9e1-4fb1-ba7f-c5a84a8a8d50",
   "metadata": {},
   "outputs": [],
   "source": [
    "mul = lambda x,y: x*y"
   ]
  },
  {
   "cell_type": "code",
   "execution_count": 81,
   "id": "224b0800-73d6-428b-8cf5-9ff38fdfe6c1",
   "metadata": {},
   "outputs": [
    {
     "data": {
      "text/plain": [
       "100"
      ]
     },
     "execution_count": 81,
     "metadata": {},
     "output_type": "execute_result"
    }
   ],
   "source": [
    "mul(10,10)"
   ]
  },
  {
   "cell_type": "markdown",
   "id": "ea951115-2b2c-4d7a-95a5-90a17d5a76c1",
   "metadata": {},
   "source": [
    "# filter"
   ]
  },
  {
   "cell_type": "code",
   "execution_count": 82,
   "id": "e2d4dfd7-e948-4431-b7de-294b6acbced8",
   "metadata": {},
   "outputs": [],
   "source": [
    "num = [23,34,45,56,67,78,89]"
   ]
  },
  {
   "cell_type": "code",
   "execution_count": 83,
   "id": "d944ef92-2f7a-488c-8ae7-0e753f26021e",
   "metadata": {},
   "outputs": [],
   "source": [
    "new = filter(lambda x: x>30, num)"
   ]
  },
  {
   "cell_type": "code",
   "execution_count": 86,
   "id": "f2f339cb-c0f2-4f0e-b6cd-5e97e3e1ff09",
   "metadata": {},
   "outputs": [
    {
     "data": {
      "text/plain": [
       "<filter at 0x1c02698ae60>"
      ]
     },
     "execution_count": 86,
     "metadata": {},
     "output_type": "execute_result"
    }
   ],
   "source": [
    "new # location save in Disk "
   ]
  },
  {
   "cell_type": "code",
   "execution_count": 85,
   "id": "bf31d41e-16be-4457-849a-6c9fb595b487",
   "metadata": {},
   "outputs": [
    {
     "data": {
      "text/plain": [
       "[34, 45, 56, 67, 78, 89]"
      ]
     },
     "execution_count": 85,
     "metadata": {},
     "output_type": "execute_result"
    }
   ],
   "source": [
    "list(new)"
   ]
  },
  {
   "cell_type": "markdown",
   "id": "f3a46561-e785-4f70-a2b4-87b4e69ae12e",
   "metadata": {},
   "source": [
    "# map"
   ]
  },
  {
   "cell_type": "code",
   "execution_count": 88,
   "id": "90271dba-fc43-4290-8e34-6c15ac7fd699",
   "metadata": {},
   "outputs": [
    {
     "data": {
      "text/plain": [
       "[11.5, 17.0, 22.5, 28.0, 33.5, 39.0, 44.5]"
      ]
     },
     "execution_count": 88,
     "metadata": {},
     "output_type": "execute_result"
    }
   ],
   "source": [
    "new = map(lambda x: x/2, num)\n",
    "list(new)"
   ]
  },
  {
   "cell_type": "code",
   "execution_count": 90,
   "id": "d9a131f3-d71a-426c-9a9a-5c7cc10057a4",
   "metadata": {},
   "outputs": [
    {
     "data": {
      "text/plain": [
       "[False, True, True, True, True, True, True]"
      ]
     },
     "execution_count": 90,
     "metadata": {},
     "output_type": "execute_result"
    }
   ],
   "source": [
    "new = map(lambda x: x>30, num)\n",
    "list(new)"
   ]
  },
  {
   "cell_type": "markdown",
   "id": "c692d7d0-4b56-4c03-a960-d5b23ba225e1",
   "metadata": {},
   "source": [
    "# Modules"
   ]
  },
  {
   "cell_type": "code",
   "execution_count": 91,
   "id": "850bdd88-5b4d-42df-a21a-4ebbfbad4ed4",
   "metadata": {},
   "outputs": [],
   "source": [
    "import math"
   ]
  },
  {
   "cell_type": "code",
   "execution_count": 92,
   "id": "6dfc46ca-28eb-44b0-926a-844ab99c5452",
   "metadata": {},
   "outputs": [
    {
     "name": "stdout",
     "output_type": "stream",
     "text": [
      "Help on built-in module math:\n",
      "\n",
      "NAME\n",
      "    math\n",
      "\n",
      "DESCRIPTION\n",
      "    This module provides access to the mathematical functions\n",
      "    defined by the C standard.\n",
      "\n",
      "FUNCTIONS\n",
      "    acos(x, /)\n",
      "        Return the arc cosine (measured in radians) of x.\n",
      "        \n",
      "        The result is between 0 and pi.\n",
      "    \n",
      "    acosh(x, /)\n",
      "        Return the inverse hyperbolic cosine of x.\n",
      "    \n",
      "    asin(x, /)\n",
      "        Return the arc sine (measured in radians) of x.\n",
      "        \n",
      "        The result is between -pi/2 and pi/2.\n",
      "    \n",
      "    asinh(x, /)\n",
      "        Return the inverse hyperbolic sine of x.\n",
      "    \n",
      "    atan(x, /)\n",
      "        Return the arc tangent (measured in radians) of x.\n",
      "        \n",
      "        The result is between -pi/2 and pi/2.\n",
      "    \n",
      "    atan2(y, x, /)\n",
      "        Return the arc tangent (measured in radians) of y/x.\n",
      "        \n",
      "        Unlike atan(y/x), the signs of both x and y are considered.\n",
      "    \n",
      "    atanh(x, /)\n",
      "        Return the inverse hyperbolic tangent of x.\n",
      "    \n",
      "    cbrt(x, /)\n",
      "        Return the cube root of x.\n",
      "    \n",
      "    ceil(x, /)\n",
      "        Return the ceiling of x as an Integral.\n",
      "        \n",
      "        This is the smallest integer >= x.\n",
      "    \n",
      "    comb(n, k, /)\n",
      "        Number of ways to choose k items from n items without repetition and without order.\n",
      "        \n",
      "        Evaluates to n! / (k! * (n - k)!) when k <= n and evaluates\n",
      "        to zero when k > n.\n",
      "        \n",
      "        Also called the binomial coefficient because it is equivalent\n",
      "        to the coefficient of k-th term in polynomial expansion of the\n",
      "        expression (1 + x)**n.\n",
      "        \n",
      "        Raises TypeError if either of the arguments are not integers.\n",
      "        Raises ValueError if either of the arguments are negative.\n",
      "    \n",
      "    copysign(x, y, /)\n",
      "        Return a float with the magnitude (absolute value) of x but the sign of y.\n",
      "        \n",
      "        On platforms that support signed zeros, copysign(1.0, -0.0)\n",
      "        returns -1.0.\n",
      "    \n",
      "    cos(x, /)\n",
      "        Return the cosine of x (measured in radians).\n",
      "    \n",
      "    cosh(x, /)\n",
      "        Return the hyperbolic cosine of x.\n",
      "    \n",
      "    degrees(x, /)\n",
      "        Convert angle x from radians to degrees.\n",
      "    \n",
      "    dist(p, q, /)\n",
      "        Return the Euclidean distance between two points p and q.\n",
      "        \n",
      "        The points should be specified as sequences (or iterables) of\n",
      "        coordinates.  Both inputs must have the same dimension.\n",
      "        \n",
      "        Roughly equivalent to:\n",
      "            sqrt(sum((px - qx) ** 2.0 for px, qx in zip(p, q)))\n",
      "    \n",
      "    erf(x, /)\n",
      "        Error function at x.\n",
      "    \n",
      "    erfc(x, /)\n",
      "        Complementary error function at x.\n",
      "    \n",
      "    exp(x, /)\n",
      "        Return e raised to the power of x.\n",
      "    \n",
      "    exp2(x, /)\n",
      "        Return 2 raised to the power of x.\n",
      "    \n",
      "    expm1(x, /)\n",
      "        Return exp(x)-1.\n",
      "        \n",
      "        This function avoids the loss of precision involved in the direct evaluation of exp(x)-1 for small x.\n",
      "    \n",
      "    fabs(x, /)\n",
      "        Return the absolute value of the float x.\n",
      "    \n",
      "    factorial(n, /)\n",
      "        Find n!.\n",
      "        \n",
      "        Raise a ValueError if x is negative or non-integral.\n",
      "    \n",
      "    floor(x, /)\n",
      "        Return the floor of x as an Integral.\n",
      "        \n",
      "        This is the largest integer <= x.\n",
      "    \n",
      "    fmod(x, y, /)\n",
      "        Return fmod(x, y), according to platform C.\n",
      "        \n",
      "        x % y may differ.\n",
      "    \n",
      "    frexp(x, /)\n",
      "        Return the mantissa and exponent of x, as pair (m, e).\n",
      "        \n",
      "        m is a float and e is an int, such that x = m * 2.**e.\n",
      "        If x is 0, m and e are both 0.  Else 0.5 <= abs(m) < 1.0.\n",
      "    \n",
      "    fsum(seq, /)\n",
      "        Return an accurate floating point sum of values in the iterable seq.\n",
      "        \n",
      "        Assumes IEEE-754 floating point arithmetic.\n",
      "    \n",
      "    gamma(x, /)\n",
      "        Gamma function at x.\n",
      "    \n",
      "    gcd(*integers)\n",
      "        Greatest Common Divisor.\n",
      "    \n",
      "    hypot(...)\n",
      "        hypot(*coordinates) -> value\n",
      "        \n",
      "        Multidimensional Euclidean distance from the origin to a point.\n",
      "        \n",
      "        Roughly equivalent to:\n",
      "            sqrt(sum(x**2 for x in coordinates))\n",
      "        \n",
      "        For a two dimensional point (x, y), gives the hypotenuse\n",
      "        using the Pythagorean theorem:  sqrt(x*x + y*y).\n",
      "        \n",
      "        For example, the hypotenuse of a 3/4/5 right triangle is:\n",
      "        \n",
      "            >>> hypot(3.0, 4.0)\n",
      "            5.0\n",
      "    \n",
      "    isclose(a, b, *, rel_tol=1e-09, abs_tol=0.0)\n",
      "        Determine whether two floating point numbers are close in value.\n",
      "        \n",
      "          rel_tol\n",
      "            maximum difference for being considered \"close\", relative to the\n",
      "            magnitude of the input values\n",
      "          abs_tol\n",
      "            maximum difference for being considered \"close\", regardless of the\n",
      "            magnitude of the input values\n",
      "        \n",
      "        Return True if a is close in value to b, and False otherwise.\n",
      "        \n",
      "        For the values to be considered close, the difference between them\n",
      "        must be smaller than at least one of the tolerances.\n",
      "        \n",
      "        -inf, inf and NaN behave similarly to the IEEE 754 Standard.  That\n",
      "        is, NaN is not close to anything, even itself.  inf and -inf are\n",
      "        only close to themselves.\n",
      "    \n",
      "    isfinite(x, /)\n",
      "        Return True if x is neither an infinity nor a NaN, and False otherwise.\n",
      "    \n",
      "    isinf(x, /)\n",
      "        Return True if x is a positive or negative infinity, and False otherwise.\n",
      "    \n",
      "    isnan(x, /)\n",
      "        Return True if x is a NaN (not a number), and False otherwise.\n",
      "    \n",
      "    isqrt(n, /)\n",
      "        Return the integer part of the square root of the input.\n",
      "    \n",
      "    lcm(*integers)\n",
      "        Least Common Multiple.\n",
      "    \n",
      "    ldexp(x, i, /)\n",
      "        Return x * (2**i).\n",
      "        \n",
      "        This is essentially the inverse of frexp().\n",
      "    \n",
      "    lgamma(x, /)\n",
      "        Natural logarithm of absolute value of Gamma function at x.\n",
      "    \n",
      "    log(...)\n",
      "        log(x, [base=math.e])\n",
      "        Return the logarithm of x to the given base.\n",
      "        \n",
      "        If the base not specified, returns the natural logarithm (base e) of x.\n",
      "    \n",
      "    log10(x, /)\n",
      "        Return the base 10 logarithm of x.\n",
      "    \n",
      "    log1p(x, /)\n",
      "        Return the natural logarithm of 1+x (base e).\n",
      "        \n",
      "        The result is computed in a way which is accurate for x near zero.\n",
      "    \n",
      "    log2(x, /)\n",
      "        Return the base 2 logarithm of x.\n",
      "    \n",
      "    modf(x, /)\n",
      "        Return the fractional and integer parts of x.\n",
      "        \n",
      "        Both results carry the sign of x and are floats.\n",
      "    \n",
      "    nextafter(x, y, /)\n",
      "        Return the next floating-point value after x towards y.\n",
      "    \n",
      "    perm(n, k=None, /)\n",
      "        Number of ways to choose k items from n items without repetition and with order.\n",
      "        \n",
      "        Evaluates to n! / (n - k)! when k <= n and evaluates\n",
      "        to zero when k > n.\n",
      "        \n",
      "        If k is not specified or is None, then k defaults to n\n",
      "        and the function returns n!.\n",
      "        \n",
      "        Raises TypeError if either of the arguments are not integers.\n",
      "        Raises ValueError if either of the arguments are negative.\n",
      "    \n",
      "    pow(x, y, /)\n",
      "        Return x**y (x to the power of y).\n",
      "    \n",
      "    prod(iterable, /, *, start=1)\n",
      "        Calculate the product of all the elements in the input iterable.\n",
      "        \n",
      "        The default start value for the product is 1.\n",
      "        \n",
      "        When the iterable is empty, return the start value.  This function is\n",
      "        intended specifically for use with numeric values and may reject\n",
      "        non-numeric types.\n",
      "    \n",
      "    radians(x, /)\n",
      "        Convert angle x from degrees to radians.\n",
      "    \n",
      "    remainder(x, y, /)\n",
      "        Difference between x and the closest integer multiple of y.\n",
      "        \n",
      "        Return x - n*y where n*y is the closest integer multiple of y.\n",
      "        In the case where x is exactly halfway between two multiples of\n",
      "        y, the nearest even value of n is used. The result is always exact.\n",
      "    \n",
      "    sin(x, /)\n",
      "        Return the sine of x (measured in radians).\n",
      "    \n",
      "    sinh(x, /)\n",
      "        Return the hyperbolic sine of x.\n",
      "    \n",
      "    sqrt(x, /)\n",
      "        Return the square root of x.\n",
      "    \n",
      "    tan(x, /)\n",
      "        Return the tangent of x (measured in radians).\n",
      "    \n",
      "    tanh(x, /)\n",
      "        Return the hyperbolic tangent of x.\n",
      "    \n",
      "    trunc(x, /)\n",
      "        Truncates the Real x to the nearest Integral toward 0.\n",
      "        \n",
      "        Uses the __trunc__ magic method.\n",
      "    \n",
      "    ulp(x, /)\n",
      "        Return the value of the least significant bit of the float x.\n",
      "\n",
      "DATA\n",
      "    e = 2.718281828459045\n",
      "    inf = inf\n",
      "    nan = nan\n",
      "    pi = 3.141592653589793\n",
      "    tau = 6.283185307179586\n",
      "\n",
      "FILE\n",
      "    (built-in)\n",
      "\n",
      "\n"
     ]
    }
   ],
   "source": [
    "help(math)"
   ]
  },
  {
   "cell_type": "code",
   "execution_count": 93,
   "id": "c2cb9983-348a-4be1-a0d3-ba9231e83255",
   "metadata": {},
   "outputs": [
    {
     "data": {
      "text/plain": [
       "5.0"
      ]
     },
     "execution_count": 93,
     "metadata": {},
     "output_type": "execute_result"
    }
   ],
   "source": [
    "math.sqrt(25)"
   ]
  },
  {
   "cell_type": "code",
   "execution_count": 94,
   "id": "10c68665-0de6-4e27-ba85-240dbb14a842",
   "metadata": {},
   "outputs": [
    {
     "data": {
      "text/plain": [
       "-0.9880316240928618"
      ]
     },
     "execution_count": 94,
     "metadata": {},
     "output_type": "execute_result"
    }
   ],
   "source": [
    "math.sin(30)"
   ]
  },
  {
   "cell_type": "code",
   "execution_count": 95,
   "id": "73339171-c8a9-4a19-afea-d24cd70cf680",
   "metadata": {},
   "outputs": [],
   "source": [
    "# read the radius and find area of circle"
   ]
  },
  {
   "cell_type": "code",
   "execution_count": 99,
   "id": "3fc80212-e987-4c6f-9c42-9ed823c21efc",
   "metadata": {},
   "outputs": [
    {
     "name": "stdin",
     "output_type": "stream",
     "text": [
      "Enter the radius 30.4\n"
     ]
    },
    {
     "name": "stdout",
     "output_type": "stream",
     "text": [
      "area of circle: 28.274333882308138\n"
     ]
    }
   ],
   "source": [
    "rad = float(input('Enter the radius'))\n",
    "pi = 3.141592653589793\n",
    "area_of_circle = pi*r*r\n",
    "print('area of circle:',area_of_circle)"
   ]
  },
  {
   "cell_type": "code",
   "execution_count": 100,
   "id": "ad697f72-0939-4647-bd92-370193ab020b",
   "metadata": {},
   "outputs": [
    {
     "name": "stdin",
     "output_type": "stream",
     "text": [
      "Enter the radius 4\n"
     ]
    },
    {
     "name": "stdout",
     "output_type": "stream",
     "text": [
      "Area 28.274333882308138\n"
     ]
    }
   ],
   "source": [
    "rad = float(input('Enter the radius'))\n",
    "print('Area',math.pi*r*r)"
   ]
  },
  {
   "cell_type": "code",
   "execution_count": 101,
   "id": "bdb195a6-216c-4954-a9a1-f32d11cd8c14",
   "metadata": {},
   "outputs": [],
   "source": [
    "import time"
   ]
  },
  {
   "cell_type": "code",
   "execution_count": 102,
   "id": "5ee85dcb-13bb-45c3-8007-5648a472d3d2",
   "metadata": {},
   "outputs": [
    {
     "data": {
      "text/plain": [
       "'Mon Jun 10 16:32:10 2024'"
      ]
     },
     "execution_count": 102,
     "metadata": {},
     "output_type": "execute_result"
    }
   ],
   "source": [
    "time.asctime()"
   ]
  },
  {
   "cell_type": "code",
   "execution_count": 103,
   "id": "3b3f6c34-55ab-44fc-bac2-dd1498aea12b",
   "metadata": {},
   "outputs": [
    {
     "name": "stdout",
     "output_type": "stream",
     "text": [
      "ZZZZZ\n",
      "Yaaaa\n"
     ]
    }
   ],
   "source": [
    "print('ZZZZZ')\n",
    "time.sleep(10)\n",
    "print('Yaaaa')"
   ]
  },
  {
   "cell_type": "markdown",
   "id": "d9b8a01f-cb5e-4167-8a31-74991cf512c7",
   "metadata": {},
   "source": [
    "#alias"
   ]
  },
  {
   "cell_type": "code",
   "execution_count": 104,
   "id": "93dc0ce4-0561-4cd1-93d1-f9df2442e151",
   "metadata": {},
   "outputs": [],
   "source": [
    "import time as t"
   ]
  },
  {
   "cell_type": "code",
   "execution_count": 105,
   "id": "706b7af8-d647-4cf6-9a09-50ecd2272050",
   "metadata": {},
   "outputs": [
    {
     "data": {
      "text/plain": [
       "'Mon Jun 10 16:35:10 2024'"
      ]
     },
     "execution_count": 105,
     "metadata": {},
     "output_type": "execute_result"
    }
   ],
   "source": [
    "t.asctime()"
   ]
  },
  {
   "cell_type": "markdown",
   "id": "afa14243-772c-4044-9b73-cdc705e9af5b",
   "metadata": {},
   "source": [
    "#Selective imports"
   ]
  },
  {
   "cell_type": "code",
   "execution_count": 106,
   "id": "db93fb5a-f744-4eaf-9af8-bbc65ffcb4d4",
   "metadata": {},
   "outputs": [],
   "source": [
    "from math import sqrt, pi"
   ]
  },
  {
   "cell_type": "code",
   "execution_count": 107,
   "id": "de0ea665-b9dd-4ab1-bd7b-39362afef7b5",
   "metadata": {},
   "outputs": [
    {
     "data": {
      "text/plain": [
       "7.0"
      ]
     },
     "execution_count": 107,
     "metadata": {},
     "output_type": "execute_result"
    }
   ],
   "source": [
    "sqrt(49)"
   ]
  },
  {
   "cell_type": "code",
   "execution_count": 108,
   "id": "3ea8415e-c8ab-481a-86a5-668f2d5f0917",
   "metadata": {},
   "outputs": [
    {
     "data": {
      "text/plain": [
       "3.141592653589793"
      ]
     },
     "execution_count": 108,
     "metadata": {},
     "output_type": "execute_result"
    }
   ],
   "source": [
    "pi"
   ]
  },
  {
   "cell_type": "markdown",
   "id": "be53c45b-004c-4825-941b-256482e85552",
   "metadata": {},
   "source": [
    "# User Defined module"
   ]
  },
  {
   "cell_type": "code",
   "execution_count": 110,
   "id": "f82482c9-3acd-49e2-8834-482c5b86e989",
   "metadata": {},
   "outputs": [],
   "source": [
    "# import file_name\n",
    "#file_name.fun_name"
   ]
  },
  {
   "cell_type": "code",
   "execution_count": 111,
   "id": "efea77a5-e4b0-41f1-b807-2999694ffb50",
   "metadata": {},
   "outputs": [
    {
     "name": "stdout",
     "output_type": "stream",
     "text": [
      "Hello\n",
      "Welcome\n",
      "khana kha k jana\n"
     ]
    }
   ],
   "source": [
    "import mod11\n",
    "mod11.show()"
   ]
  }
 ],
 "metadata": {
  "kernelspec": {
   "display_name": "Python 3 (ipykernel)",
   "language": "python",
   "name": "python3"
  },
  "language_info": {
   "codemirror_mode": {
    "name": "ipython",
    "version": 3
   },
   "file_extension": ".py",
   "mimetype": "text/x-python",
   "name": "python",
   "nbconvert_exporter": "python",
   "pygments_lexer": "ipython3",
   "version": "3.11.7"
  }
 },
 "nbformat": 4,
 "nbformat_minor": 5
}
