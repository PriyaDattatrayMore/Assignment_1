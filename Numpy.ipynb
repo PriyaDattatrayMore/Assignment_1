{
 "cells": [
  {
   "cell_type": "code",
   "execution_count": 1,
   "id": "66b2223c-d1b7-4e36-9fd5-00f5b90d7cc3",
   "metadata": {},
   "outputs": [],
   "source": [
    "import numpy as np"
   ]
  },
  {
   "cell_type": "markdown",
   "id": "59b2146a-470e-42db-be6a-9792c4ef83eb",
   "metadata": {},
   "source": [
    "#Creation of array"
   ]
  },
  {
   "cell_type": "code",
   "execution_count": 2,
   "id": "8ca24591-a1ff-454c-9a57-482b9959c8f1",
   "metadata": {},
   "outputs": [],
   "source": [
    "arr = np.array([23,45,67,89,65])"
   ]
  },
  {
   "cell_type": "code",
   "execution_count": 3,
   "id": "1127549f-fcd5-4922-8176-aa686ec31c50",
   "metadata": {},
   "outputs": [
    {
     "name": "stdout",
     "output_type": "stream",
     "text": [
      "[23 45 67 89 65]\n"
     ]
    }
   ],
   "source": [
    "print(arr)"
   ]
  },
  {
   "cell_type": "code",
   "execution_count": 8,
   "id": "c8506d99-3556-46e3-aeb3-5c5edc2d9f3c",
   "metadata": {},
   "outputs": [
    {
     "data": {
      "text/plain": [
       "numpy.ndarray"
      ]
     },
     "execution_count": 8,
     "metadata": {},
     "output_type": "execute_result"
    }
   ],
   "source": [
    "type(arr) #nd - n dimentinal array"
   ]
  },
  {
   "cell_type": "code",
   "execution_count": 5,
   "id": "9251f8de-03d8-4c62-9987-3cc0c3235275",
   "metadata": {},
   "outputs": [
    {
     "data": {
      "text/plain": [
       "array([23, 45, 67, 89, 65])"
      ]
     },
     "execution_count": 5,
     "metadata": {},
     "output_type": "execute_result"
    }
   ],
   "source": [
    "arr"
   ]
  },
  {
   "cell_type": "code",
   "execution_count": 6,
   "id": "b1ec8a04-5f0e-46ca-94b7-a4fdad11ffa8",
   "metadata": {},
   "outputs": [],
   "source": [
    "arr = np.array([23,45,67,89,65,50.99])"
   ]
  },
  {
   "cell_type": "code",
   "execution_count": 7,
   "id": "a0ed9421-ef09-4601-a319-6e5b593a0a2d",
   "metadata": {},
   "outputs": [
    {
     "data": {
      "text/plain": [
       "array([23.  , 45.  , 67.  , 89.  , 65.  , 50.99])"
      ]
     },
     "execution_count": 7,
     "metadata": {},
     "output_type": "execute_result"
    }
   ],
   "source": [
    "arr"
   ]
  },
  {
   "cell_type": "code",
   "execution_count": 11,
   "id": "deed395d-b7cb-4231-bd3c-13cc998ded15",
   "metadata": {},
   "outputs": [],
   "source": [
    "arr1 = np.array([23,45,67,89,65,50.99,'Pune'])"
   ]
  },
  {
   "cell_type": "code",
   "execution_count": 12,
   "id": "8c571b5c-3f39-4ff0-babe-cd5616cbd6f5",
   "metadata": {},
   "outputs": [
    {
     "data": {
      "text/plain": [
       "array(['23', '45', '67', '89', '65', '50.99', 'Pune'], dtype='<U32')"
      ]
     },
     "execution_count": 12,
     "metadata": {},
     "output_type": "execute_result"
    }
   ],
   "source": [
    "arr1"
   ]
  },
  {
   "cell_type": "code",
   "execution_count": 13,
   "id": "810f68e2-ddc6-460e-b214-47e62bf3576b",
   "metadata": {},
   "outputs": [
    {
     "data": {
      "text/plain": [
       "'67'"
      ]
     },
     "execution_count": 13,
     "metadata": {},
     "output_type": "execute_result"
    }
   ],
   "source": [
    "arr1[2]"
   ]
  },
  {
   "cell_type": "code",
   "execution_count": 14,
   "id": "5e8d659c-92f7-44b6-97f4-405949fbe1a2",
   "metadata": {},
   "outputs": [
    {
     "name": "stdout",
     "output_type": "stream",
     "text": [
      "1.43 µs ± 134 ns per loop (mean ± std. dev. of 7 runs, 1,000,000 loops each)\n"
     ]
    }
   ],
   "source": [
    "%%timeit\n",
    "arr1 = np.array([23,45,67,89,65,50.99,'Pune'])"
   ]
  },
  {
   "cell_type": "code",
   "execution_count": 16,
   "id": "35260a95-09f1-4eb5-ba02-ae00fa446a0c",
   "metadata": {},
   "outputs": [
    {
     "data": {
      "text/plain": [
       "1"
      ]
     },
     "execution_count": 16,
     "metadata": {},
     "output_type": "execute_result"
    }
   ],
   "source": [
    "arr.ndim # to cheak dimetion of array "
   ]
  },
  {
   "cell_type": "code",
   "execution_count": 17,
   "id": "ebf810f3-f1aa-4039-8b05-63d33fafe730",
   "metadata": {},
   "outputs": [
    {
     "data": {
      "text/plain": [
       "array([0, 1, 2, 3, 4, 5, 6, 7, 8, 9])"
      ]
     },
     "execution_count": 17,
     "metadata": {},
     "output_type": "execute_result"
    }
   ],
   "source": [
    "np.arange(10)"
   ]
  },
  {
   "cell_type": "code",
   "execution_count": 18,
   "id": "50776b5d-5b1c-48a3-93fd-ecf5507bd6f5",
   "metadata": {},
   "outputs": [
    {
     "data": {
      "text/plain": [
       "array([ 5,  6,  7,  8,  9, 10, 11, 12, 13, 14])"
      ]
     },
     "execution_count": 18,
     "metadata": {},
     "output_type": "execute_result"
    }
   ],
   "source": [
    "np.arange(5, 15)"
   ]
  },
  {
   "cell_type": "code",
   "execution_count": 19,
   "id": "390d6130-6888-4db4-bae7-ced6107375ce",
   "metadata": {},
   "outputs": [
    {
     "data": {
      "text/plain": [
       "array([ 2,  4,  6,  8, 10, 12, 14, 16, 18, 20])"
      ]
     },
     "execution_count": 19,
     "metadata": {},
     "output_type": "execute_result"
    }
   ],
   "source": [
    "np.arange(2,21,2)"
   ]
  },
  {
   "cell_type": "code",
   "execution_count": 20,
   "id": "8a5ab6fa-7a6e-4224-8cce-7a1f206694a0",
   "metadata": {},
   "outputs": [
    {
     "data": {
      "text/plain": [
       "array([2., 4.])"
      ]
     },
     "execution_count": 20,
     "metadata": {},
     "output_type": "execute_result"
    }
   ],
   "source": [
    "np.arange(2,4.5,2)"
   ]
  },
  {
   "cell_type": "code",
   "execution_count": 22,
   "id": "67962e72-be40-490c-a09b-48f60a0bd550",
   "metadata": {},
   "outputs": [
    {
     "data": {
      "text/plain": [
       "array([0., 0., 0., 0., 0., 0., 0., 0., 0., 0.])"
      ]
     },
     "execution_count": 22,
     "metadata": {},
     "output_type": "execute_result"
    }
   ],
   "source": [
    "np.zeros(10)"
   ]
  },
  {
   "cell_type": "code",
   "execution_count": 23,
   "id": "12589e71-2fd2-40ce-b95c-f778964453e3",
   "metadata": {},
   "outputs": [
    {
     "data": {
      "text/plain": [
       "array([1., 1., 1., 1., 1., 1., 1., 1., 1., 1.])"
      ]
     },
     "execution_count": 23,
     "metadata": {},
     "output_type": "execute_result"
    }
   ],
   "source": [
    "np.ones(10)"
   ]
  },
  {
   "cell_type": "markdown",
   "id": "45f6f8a4-6347-4d22-b7d6-fc28291fedbc",
   "metadata": {},
   "source": [
    "#Two Diementional Array"
   ]
  },
  {
   "cell_type": "code",
   "execution_count": 24,
   "id": "8087bd44-4f9d-4310-b72c-2d4bb94aa51c",
   "metadata": {},
   "outputs": [],
   "source": [
    "arr2 = np.array([[1,2,3],[4,5,6],[7,8,9],[10,11,12]])"
   ]
  },
  {
   "cell_type": "code",
   "execution_count": 25,
   "id": "d86463d2-9c81-4086-95ba-36712f18ffef",
   "metadata": {},
   "outputs": [
    {
     "data": {
      "text/plain": [
       "array([[ 1,  2,  3],\n",
       "       [ 4,  5,  6],\n",
       "       [ 7,  8,  9],\n",
       "       [10, 11, 12]])"
      ]
     },
     "execution_count": 25,
     "metadata": {},
     "output_type": "execute_result"
    }
   ],
   "source": [
    "arr2"
   ]
  },
  {
   "cell_type": "code",
   "execution_count": 26,
   "id": "0a0944af-b1fa-40d0-91a1-8bcb254c7008",
   "metadata": {},
   "outputs": [
    {
     "data": {
      "text/plain": [
       "(4, 3)"
      ]
     },
     "execution_count": 26,
     "metadata": {},
     "output_type": "execute_result"
    }
   ],
   "source": [
    "arr2.shape"
   ]
  },
  {
   "cell_type": "code",
   "execution_count": 27,
   "id": "d16ce01b-ea5b-4e81-8eb1-4a7cc06c05c2",
   "metadata": {},
   "outputs": [
    {
     "data": {
      "text/plain": [
       "12"
      ]
     },
     "execution_count": 27,
     "metadata": {},
     "output_type": "execute_result"
    }
   ],
   "source": [
    "arr2.size"
   ]
  },
  {
   "cell_type": "code",
   "execution_count": 28,
   "id": "d109a7fe-c7cf-45f5-b327-cd50112ab5d7",
   "metadata": {},
   "outputs": [
    {
     "data": {
      "text/plain": [
       "array([[ 1,  2,  3],\n",
       "       [ 4,  5,  6],\n",
       "       [ 7,  8,  9],\n",
       "       [10, 11, 12]])"
      ]
     },
     "execution_count": 28,
     "metadata": {},
     "output_type": "execute_result"
    }
   ],
   "source": [
    "arr2"
   ]
  },
  {
   "cell_type": "code",
   "execution_count": 29,
   "id": "7f1aeb5a-d5d9-4873-b644-e4d742ae5ad5",
   "metadata": {},
   "outputs": [
    {
     "data": {
      "text/plain": [
       "2"
      ]
     },
     "execution_count": 29,
     "metadata": {},
     "output_type": "execute_result"
    }
   ],
   "source": [
    "arr2.ndim"
   ]
  },
  {
   "cell_type": "code",
   "execution_count": 30,
   "id": "a2d6927a-c371-487f-8e05-2fb3064c323a",
   "metadata": {},
   "outputs": [
    {
     "data": {
      "text/plain": [
       "array([ 1,  2,  3,  4,  5,  6,  7,  8,  9, 10, 11, 12])"
      ]
     },
     "execution_count": 30,
     "metadata": {},
     "output_type": "execute_result"
    }
   ],
   "source": [
    "arr2.flatten()"
   ]
  },
  {
   "cell_type": "code",
   "execution_count": 31,
   "id": "1709eccf-abb4-426f-9899-0a3933766479",
   "metadata": {},
   "outputs": [
    {
     "data": {
      "text/plain": [
       "(4, 3)"
      ]
     },
     "execution_count": 31,
     "metadata": {},
     "output_type": "execute_result"
    }
   ],
   "source": [
    "arr2.shape"
   ]
  },
  {
   "cell_type": "code",
   "execution_count": 32,
   "id": "1ad5e0e1-9801-479f-831b-a78d802ffda0",
   "metadata": {},
   "outputs": [
    {
     "data": {
      "text/plain": [
       "array([[ 1,  2,  3,  4],\n",
       "       [ 5,  6,  7,  8],\n",
       "       [ 9, 10, 11, 12]])"
      ]
     },
     "execution_count": 32,
     "metadata": {},
     "output_type": "execute_result"
    }
   ],
   "source": [
    "arr2.reshape(3,4)"
   ]
  },
  {
   "cell_type": "code",
   "execution_count": 33,
   "id": "4955e9a0-2d14-4cf6-bc30-86219ad4d36c",
   "metadata": {},
   "outputs": [
    {
     "data": {
      "text/plain": [
       "array([[ 1,  2],\n",
       "       [ 3,  4],\n",
       "       [ 5,  6],\n",
       "       [ 7,  8],\n",
       "       [ 9, 10],\n",
       "       [11, 12]])"
      ]
     },
     "execution_count": 33,
     "metadata": {},
     "output_type": "execute_result"
    }
   ],
   "source": [
    "arr2.reshape(6,2)"
   ]
  },
  {
   "cell_type": "code",
   "execution_count": 36,
   "id": "936256b0-fd7e-42c4-980c-a9db9e2c7d21",
   "metadata": {},
   "outputs": [
    {
     "data": {
      "text/plain": [
       "array([[ 1,  2,  3,  4,  5,  6],\n",
       "       [ 7,  8,  9, 10, 11, 12]])"
      ]
     },
     "execution_count": 36,
     "metadata": {},
     "output_type": "execute_result"
    }
   ],
   "source": [
    "arr2.reshape(2,-1)"
   ]
  },
  {
   "cell_type": "code",
   "execution_count": 37,
   "id": "d36486ad-b148-4fdf-b8f2-532470b2f044",
   "metadata": {},
   "outputs": [
    {
     "data": {
      "text/plain": [
       "array([[ 1,  2,  3,  4],\n",
       "       [ 5,  6,  7,  8],\n",
       "       [ 9, 10, 11, 12]])"
      ]
     },
     "execution_count": 37,
     "metadata": {},
     "output_type": "execute_result"
    }
   ],
   "source": [
    "arr2.reshape(3,-1)"
   ]
  },
  {
   "cell_type": "markdown",
   "id": "123b54d4-429a-4147-8882-3ab73f827bf6",
   "metadata": {},
   "source": [
    "#Three Diementional Array"
   ]
  },
  {
   "cell_type": "code",
   "execution_count": 38,
   "id": "0323b733-f3fa-40c4-b541-eb127a31337c",
   "metadata": {},
   "outputs": [
    {
     "data": {
      "text/plain": [
       "array([[[ 1,  2],\n",
       "        [ 3,  4]],\n",
       "\n",
       "       [[ 5,  6],\n",
       "        [ 7,  8]],\n",
       "\n",
       "       [[ 9, 10],\n",
       "        [11, 12]]])"
      ]
     },
     "execution_count": 38,
     "metadata": {},
     "output_type": "execute_result"
    }
   ],
   "source": [
    "arr2.reshape(3,2,2)"
   ]
  },
  {
   "cell_type": "code",
   "execution_count": 39,
   "id": "fbdb13c2-58cf-4080-b5bf-423bc2154e3a",
   "metadata": {},
   "outputs": [
    {
     "data": {
      "text/plain": [
       "array([[[ 1],\n",
       "        [ 2],\n",
       "        [ 3]],\n",
       "\n",
       "       [[ 4],\n",
       "        [ 5],\n",
       "        [ 6]],\n",
       "\n",
       "       [[ 7],\n",
       "        [ 8],\n",
       "        [ 9]],\n",
       "\n",
       "       [[10],\n",
       "        [11],\n",
       "        [12]]])"
      ]
     },
     "execution_count": 39,
     "metadata": {},
     "output_type": "execute_result"
    }
   ],
   "source": [
    "arr2.reshape(4,3,-1)"
   ]
  },
  {
   "cell_type": "code",
   "execution_count": 40,
   "id": "e81c036a-2a73-4c91-921e-64b2b9baf758",
   "metadata": {},
   "outputs": [
    {
     "data": {
      "text/plain": [
       "array([[ 1,  2,  3],\n",
       "       [ 4,  5,  6],\n",
       "       [ 7,  8,  9],\n",
       "       [10, 11, 12]])"
      ]
     },
     "execution_count": 40,
     "metadata": {},
     "output_type": "execute_result"
    }
   ],
   "source": [
    "arr2"
   ]
  },
  {
   "cell_type": "code",
   "execution_count": 41,
   "id": "0af473e0-6474-4be6-8369-d14cb6a93210",
   "metadata": {},
   "outputs": [
    {
     "data": {
      "text/plain": [
       "array(['45', '67', '89'], dtype='<U32')"
      ]
     },
     "execution_count": 41,
     "metadata": {},
     "output_type": "execute_result"
    }
   ],
   "source": [
    "arr[1:4]"
   ]
  },
  {
   "cell_type": "code",
   "execution_count": 43,
   "id": "bd4d7120-550d-4334-b304-98f18345a258",
   "metadata": {},
   "outputs": [
    {
     "data": {
      "text/plain": [
       "array([[4, 5],\n",
       "       [7, 8]])"
      ]
     },
     "execution_count": 43,
     "metadata": {},
     "output_type": "execute_result"
    }
   ],
   "source": [
    "arr2[1:3,0:2]"
   ]
  },
  {
   "cell_type": "code",
   "execution_count": 45,
   "id": "99597fa0-c341-4f90-95f0-2a0a236ef44f",
   "metadata": {},
   "outputs": [
    {
     "data": {
      "text/plain": [
       "array([[1, 2, 3],\n",
       "       [4, 5, 6],\n",
       "       [7, 8, 9]])"
      ]
     },
     "execution_count": 45,
     "metadata": {},
     "output_type": "execute_result"
    }
   ],
   "source": [
    "arr2[0:3,0:3]"
   ]
  },
  {
   "cell_type": "code",
   "execution_count": 47,
   "id": "4a7e07e8-b6c1-42f7-87a5-01e8df6828aa",
   "metadata": {},
   "outputs": [
    {
     "data": {
      "text/plain": [
       "array([[1, 2, 3],\n",
       "       [4, 5, 6],\n",
       "       [7, 8, 9]])"
      ]
     },
     "execution_count": 47,
     "metadata": {},
     "output_type": "execute_result"
    }
   ],
   "source": [
    "#arr2[0:3,:] OR\n",
    "arr2[0:3,0:]"
   ]
  },
  {
   "cell_type": "code",
   "execution_count": 49,
   "id": "191e0a1d-591d-485e-97ba-18ea748dce37",
   "metadata": {},
   "outputs": [],
   "source": [
    "arr = np.array([1,2,3,1,4,2,6,2,2])"
   ]
  },
  {
   "cell_type": "code",
   "execution_count": 50,
   "id": "7884fbe3-c3cf-4096-987b-19faf7852a74",
   "metadata": {},
   "outputs": [
    {
     "data": {
      "text/plain": [
       "array([1, 2, 3, 4, 6])"
      ]
     },
     "execution_count": 50,
     "metadata": {},
     "output_type": "execute_result"
    }
   ],
   "source": [
    "np.unique(arr)"
   ]
  },
  {
   "cell_type": "code",
   "execution_count": 52,
   "id": "2413f344-e6dc-4236-aeb6-c5622d81d1f1",
   "metadata": {},
   "outputs": [],
   "source": [
    "arr3 = np.array([[1,2,3],[4,5,6],[7,8,9]])"
   ]
  },
  {
   "cell_type": "code",
   "execution_count": 54,
   "id": "9dad72e4-ce2b-4c29-bb75-1c985636cc70",
   "metadata": {},
   "outputs": [
    {
     "data": {
      "text/plain": [
       "array([[ 3.15251974e+15, -6.30503948e+15,  3.15251974e+15],\n",
       "       [-6.30503948e+15,  1.26100790e+16, -6.30503948e+15],\n",
       "       [ 3.15251974e+15, -6.30503948e+15,  3.15251974e+15]])"
      ]
     },
     "execution_count": 54,
     "metadata": {},
     "output_type": "execute_result"
    }
   ],
   "source": [
    "np.linalg.inv(arr3) # used to linear algebra"
   ]
  },
  {
   "cell_type": "code",
   "execution_count": 56,
   "id": "3cf20aa9-2b5d-4c65-8ec4-b62e264a0334",
   "metadata": {},
   "outputs": [
    {
     "data": {
      "text/plain": [
       "array([[ 30,  36,  42],\n",
       "       [ 66,  81,  96],\n",
       "       [102, 126, 150],\n",
       "       [138, 171, 204]])"
      ]
     },
     "execution_count": 56,
     "metadata": {},
     "output_type": "execute_result"
    }
   ],
   "source": [
    "arr2@arr3 # cross product of matrix"
   ]
  }
 ],
 "metadata": {
  "kernelspec": {
   "display_name": "Python 3 (ipykernel)",
   "language": "python",
   "name": "python3"
  },
  "language_info": {
   "codemirror_mode": {
    "name": "ipython",
    "version": 3
   },
   "file_extension": ".py",
   "mimetype": "text/x-python",
   "name": "python",
   "nbconvert_exporter": "python",
   "pygments_lexer": "ipython3",
   "version": "3.11.7"
  }
 },
 "nbformat": 4,
 "nbformat_minor": 5
}
