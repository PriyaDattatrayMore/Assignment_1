{
 "cells": [
  {
   "cell_type": "code",
   "execution_count": 1,
   "id": "d98ddb04-bf3f-4b8e-82ed-0791854befa3",
   "metadata": {},
   "outputs": [
    {
     "name": "stdout",
     "output_type": "stream",
     "text": [
      "Priya\n",
      "Priya\n",
      "Priya\n",
      "Priya\n",
      "Priya\n",
      "Priya\n",
      "Priya\n",
      "Priya\n",
      "Priya\n",
      "Priya\n",
      "Priya\n",
      "Priya\n",
      "Priya\n",
      "Priya\n",
      "Priya\n"
     ]
    }
   ],
   "source": [
    "# Printing name 15 times\n",
    "count=1\n",
    "while count<=15:\n",
    "    print('Priya')\n",
    "    count = count+1"
   ]
  },
  {
   "cell_type": "code",
   "execution_count": 3,
   "id": "a1709323-d138-40e5-aecc-e244155c7b1d",
   "metadata": {},
   "outputs": [
    {
     "name": "stdout",
     "output_type": "stream",
     "text": [
      "Priya Priya Priya Priya Priya Priya Priya Priya Priya Priya Priya Priya Priya Priya Priya "
     ]
    }
   ],
   "source": [
    "count=1\n",
    "while count<=15:\n",
    "    print('Priya', end=' ')\n",
    "    count=count+1"
   ]
  },
  {
   "cell_type": "code",
   "execution_count": 4,
   "id": "a6cd8228-46d8-4aaa-8167-8132e09194b1",
   "metadata": {},
   "outputs": [
    {
     "name": "stdout",
     "output_type": "stream",
     "text": [
      "1\n",
      "2\n",
      "3\n",
      "4\n",
      "5\n"
     ]
    }
   ],
   "source": [
    "count=1\n",
    "while count<=5:\n",
    "    print(count)\n",
    "    count=count+1"
   ]
  },
  {
   "cell_type": "code",
   "execution_count": 5,
   "id": "c548e053-ca34-49d0-8f81-4572450d36ab",
   "metadata": {},
   "outputs": [
    {
     "name": "stdout",
     "output_type": "stream",
     "text": [
      "1\n",
      "3\n",
      "5\n",
      "7\n",
      "9\n",
      "11\n",
      "13\n",
      "15\n",
      "17\n",
      "19\n"
     ]
    }
   ],
   "source": [
    "count=1\n",
    "while count<=20:\n",
    "    print(count)\n",
    "    count=count+2"
   ]
  },
  {
   "cell_type": "code",
   "execution_count": 6,
   "id": "5a09ab5a-0df4-4dae-9f33-7391f17612f4",
   "metadata": {},
   "outputs": [
    {
     "name": "stdout",
     "output_type": "stream",
     "text": [
      "Addition is 1\n",
      "Addition is 3\n",
      "Addition is 6\n",
      "Addition is 10\n",
      "Addition is 15\n",
      "Addition is 21\n",
      "Addition is 28\n",
      "Addition is 36\n",
      "Addition is 45\n",
      "Addition is 55\n"
     ]
    }
   ],
   "source": [
    "#find 1 to 10 no's add\n",
    "\n",
    "count=1\n",
    "add = 0\n",
    "while count<=10:\n",
    "    add = add + count\n",
    "    count += 1\n",
    "    print('Addition is', add)\n",
    "    "
   ]
  },
  {
   "cell_type": "code",
   "execution_count": 7,
   "id": "ad5c4e05-d3fb-4f72-8c9c-3ddd45b10b80",
   "metadata": {},
   "outputs": [
    {
     "name": "stdout",
     "output_type": "stream",
     "text": [
      "Addition is 1\n",
      "Addition is 4\n",
      "Addition is 9\n",
      "Addition is 16\n",
      "Addition is 25\n",
      "Addition is 36\n",
      "Addition is 49\n",
      "Addition is 64\n",
      "Addition is 81\n",
      "Addition is 100\n"
     ]
    }
   ],
   "source": [
    "# find odd no's addition 1to20 \n",
    "\n",
    "count=1\n",
    "add = 0\n",
    "while count<=20:\n",
    "    add = add + count\n",
    "    count += 2\n",
    "    print('Addition is', add)"
   ]
  },
  {
   "cell_type": "code",
   "execution_count": 8,
   "id": "2b9cb205-3125-49d5-8bc0-d511929e93f2",
   "metadata": {},
   "outputs": [
    {
     "name": "stdout",
     "output_type": "stream",
     "text": [
      "factorial is: 1\n",
      "factorial is: 2\n",
      "factorial is: 6\n",
      "factorial is: 24\n",
      "factorial is: 120\n"
     ]
    }
   ],
   "source": [
    "# factorial=> of 5 ---5*4*3*2*1 = 120\n",
    "\n",
    "num = 1\n",
    "fact = 1\n",
    "while num <= 5:\n",
    "    fact = fact*num\n",
    "    num += 1\n",
    "\n",
    "    print('factorial is:' , fact)\n"
   ]
  },
  {
   "cell_type": "code",
   "execution_count": 9,
   "id": "d2d1d127-efd0-4a38-9cf5-f3e06e55e828",
   "metadata": {},
   "outputs": [
    {
     "name": "stdin",
     "output_type": "stream",
     "text": [
      "Enter the number 5\n"
     ]
    },
    {
     "name": "stdout",
     "output_type": "stream",
     "text": [
      "factorial is: 5\n",
      "factorial is: 20\n",
      "factorial is: 60\n",
      "factorial is: 120\n",
      "factorial is: 120\n"
     ]
    }
   ],
   "source": [
    "num = int(input('Enter the number'))\n",
    "fact = 1\n",
    "while num >= 1:\n",
    "    fact = fact*num\n",
    "    num -= 1\n",
    "\n",
    "    print('factorial is:' , fact)\n"
   ]
  },
  {
   "cell_type": "code",
   "execution_count": 10,
   "id": "09790a7a-796a-4e59-8cfd-36f72fe4b285",
   "metadata": {},
   "outputs": [],
   "source": [
    "# infinite loop\n",
    "'''count = 1\n",
    "while count <= 15:\n",
    "    print('P' , end = '')''';"
   ]
  },
  {
   "cell_type": "code",
   "execution_count": 11,
   "id": "7c80e1c8-83ce-4654-9d48-d6a487e46baa",
   "metadata": {},
   "outputs": [
    {
     "name": "stdout",
     "output_type": "stream",
     "text": [
      "Addition 19\n"
     ]
    }
   ],
   "source": [
    "# else \n",
    "count =1\n",
    "add = 0\n",
    "while count <= 20:\n",
    "    add = add = count\n",
    "    count += 2\n",
    "else:\n",
    "    print('Addition' , add)"
   ]
  },
  {
   "cell_type": "code",
   "execution_count": 12,
   "id": "bf69a6c9-9492-45e1-8362-1b7feb627ec3",
   "metadata": {},
   "outputs": [
    {
     "name": "stdout",
     "output_type": "stream",
     "text": [
      "5\n",
      "1234\n"
     ]
    }
   ],
   "source": [
    "#find the addition of all the digits of a number\n",
    "num = 12345\n",
    "print(num%10)\n",
    "print(num//10)"
   ]
  },
  {
   "cell_type": "code",
   "execution_count": 14,
   "id": "c10fda65-3952-466c-8182-7a8f719c3fa1",
   "metadata": {},
   "outputs": [
    {
     "name": "stdin",
     "output_type": "stream",
     "text": [
      "Enter the number 100\n"
     ]
    },
    {
     "name": "stdout",
     "output_type": "stream",
     "text": [
      "Addition of digits: 0\n",
      "Addition of digits: 0\n",
      "Addition of digits: 1\n"
     ]
    }
   ],
   "source": [
    "num = int(input('Enter the number'))\n",
    "add = 0\n",
    "while num>0:\n",
    "    rem = num % 10\n",
    "    add = add + rem\n",
    "    num = num // 10\n",
    "    print('Addition of digits:', add)"
   ]
  },
  {
   "cell_type": "code",
   "execution_count": 19,
   "id": "ddc2fdb5-99d0-4357-87b0-926418220107",
   "metadata": {},
   "outputs": [
    {
     "name": "stdout",
     "output_type": "stream",
     "text": [
      "34\n",
      "45\n",
      "21\n",
      "33\n",
      "57\n"
     ]
    }
   ],
   "source": [
    "# FOR LOOP\n",
    "for n in 34, 45, 21, 33, 57:\n",
    "    print(n)"
   ]
  },
  {
   "cell_type": "code",
   "execution_count": 22,
   "id": "396e1412-7a03-4250-905a-d8fec37501e7",
   "metadata": {},
   "outputs": [
    {
     "name": "stdout",
     "output_type": "stream",
     "text": [
      "34\n",
      "45\n",
      "21\n",
      "33\n",
      "57\n",
      "Prii\n"
     ]
    }
   ],
   "source": [
    "for n in 34, 45, 21, 33, 57, 'Prii':\n",
    "    print(n)"
   ]
  },
  {
   "cell_type": "code",
   "execution_count": 23,
   "id": "7b6ba4e4-913c-445b-aa87-79438e75834e",
   "metadata": {},
   "outputs": [
    {
     "name": "stdout",
     "output_type": "stream",
     "text": [
      "6.0\n",
      "17.0\n",
      "22.5\n",
      "10.5\n"
     ]
    }
   ],
   "source": [
    "for n in 12 , 34, 45, 21:\n",
    "    print(n/2)"
   ]
  },
  {
   "cell_type": "code",
   "execution_count": 24,
   "id": "ec9bf6a0-61f1-4146-b582-1a13476f8e0e",
   "metadata": {},
   "outputs": [
    {
     "data": {
      "text/plain": [
       "[0, 1, 2, 3, 4, 5, 6, 7, 8, 9]"
      ]
     },
     "execution_count": 24,
     "metadata": {},
     "output_type": "execute_result"
    }
   ],
   "source": [
    "# range function\n",
    "list(range(10))"
   ]
  },
  {
   "cell_type": "code",
   "execution_count": 25,
   "id": "f9dd6ab0-ad6d-49d8-8d60-c94584969e70",
   "metadata": {},
   "outputs": [
    {
     "data": {
      "text/plain": [
       "[5, 6, 7, 8, 9, 10, 11, 12, 13, 14]"
      ]
     },
     "execution_count": 25,
     "metadata": {},
     "output_type": "execute_result"
    }
   ],
   "source": [
    "list(range(5,15))"
   ]
  },
  {
   "cell_type": "code",
   "execution_count": 26,
   "id": "97bd9cb3-f196-4f53-aa8c-dfb0a0e4a1f1",
   "metadata": {},
   "outputs": [
    {
     "data": {
      "text/plain": [
       "[]"
      ]
     },
     "execution_count": 26,
     "metadata": {},
     "output_type": "execute_result"
    }
   ],
   "source": [
    "# range (start, end +1,step)\n",
    "list(range(23,2))"
   ]
  },
  {
   "cell_type": "code",
   "execution_count": 27,
   "id": "cdc09279-1fd0-4048-90ed-1386b9a5f9be",
   "metadata": {},
   "outputs": [
    {
     "name": "stdout",
     "output_type": "stream",
     "text": [
      "0\n",
      "1\n",
      "2\n",
      "3\n",
      "4\n"
     ]
    }
   ],
   "source": [
    "for n in range(5):\n",
    "    print(n)"
   ]
  },
  {
   "cell_type": "code",
   "execution_count": 28,
   "id": "3f51b4f8-d931-4981-ae93-068568ee32da",
   "metadata": {},
   "outputs": [
    {
     "name": "stdout",
     "output_type": "stream",
     "text": [
      "1\n",
      "2\n",
      "3\n",
      "4\n",
      "5\n"
     ]
    }
   ],
   "source": [
    "for n in range(1,6):\n",
    "    print(n)"
   ]
  },
  {
   "cell_type": "code",
   "execution_count": 30,
   "id": "0c9adea0-00e9-4114-84ac-68a80ec50dcd",
   "metadata": {},
   "outputs": [
    {
     "name": "stdout",
     "output_type": "stream",
     "text": [
      "Aditya  Aditya  Aditya  Aditya  Aditya  Aditya  Aditya  Aditya  Aditya  Aditya  "
     ]
    }
   ],
   "source": [
    "# print yourname10 times\n",
    "for n in range(10):\n",
    "    print('Aditya',end = '  ')"
   ]
  },
  {
   "cell_type": "code",
   "execution_count": 34,
   "id": "937c22ee-64ab-4711-8586-22ce622a1acb",
   "metadata": {},
   "outputs": [
    {
     "name": "stdout",
     "output_type": "stream",
     "text": [
      "Addition: 100\n"
     ]
    }
   ],
   "source": [
    "#find the aadition of 1 to 10 no's\n",
    "add = 0\n",
    "for n in range(1,21,2):\n",
    "    add=add + n\n",
    "print ('Addition:' , add)"
   ]
  },
  {
   "cell_type": "code",
   "execution_count": 35,
   "id": "f50b2ccc-3648-4df8-a0a8-92f926c37500",
   "metadata": {},
   "outputs": [
    {
     "name": "stdout",
     "output_type": "stream",
     "text": [
      "Priya\n",
      "Riya\n"
     ]
    }
   ],
   "source": [
    "for n in 'Priya','Riya':\n",
    "    print(n)"
   ]
  },
  {
   "cell_type": "code",
   "execution_count": 1,
   "id": "82186b4e-644e-49a8-bc6f-fc22f170fd7a",
   "metadata": {},
   "outputs": [
    {
     "name": "stdout",
     "output_type": "stream",
     "text": [
      "OOO\n",
      "vvv\n",
      "iii\n"
     ]
    }
   ],
   "source": [
    "for n in 'Ovi':\n",
    "    print(n*3)"
   ]
  },
  {
   "cell_type": "code",
   "execution_count": 2,
   "id": "db78f803-06d1-45ac-a9a1-c0b8024aa22b",
   "metadata": {},
   "outputs": [
    {
     "name": "stdin",
     "output_type": "stream",
     "text": [
      "Enter the number 5\n"
     ]
    },
    {
     "name": "stdout",
     "output_type": "stream",
     "text": [
      "factorial: 1\n",
      "factorial: 2\n",
      "factorial: 6\n",
      "factorial: 24\n",
      "factorial: 120\n"
     ]
    }
   ],
   "source": [
    "# factorial using for loop\n",
    "num=int(input('Enter the number'))\n",
    "fact = 1\n",
    "for n in range(1, num+1):\n",
    "    fact = fact* n\n",
    "    print('factorial:', fact)"
   ]
  },
  {
   "cell_type": "code",
   "execution_count": 6,
   "id": "42454b7d-1a61-44cc-8b10-55f146ea3fb6",
   "metadata": {},
   "outputs": [
    {
     "name": "stdout",
     "output_type": "stream",
     "text": [
      "1\n",
      "2\n",
      "3\n",
      "4\n"
     ]
    }
   ],
   "source": [
    "# break statement\n",
    "for n in range(1,11):\n",
    "    if n == 5:\n",
    "       break\n",
    "    print(n)"
   ]
  }
 ],
 "metadata": {
  "kernelspec": {
   "display_name": "Python 3 (ipykernel)",
   "language": "python",
   "name": "python3"
  },
  "language_info": {
   "codemirror_mode": {
    "name": "ipython",
    "version": 3
   },
   "file_extension": ".py",
   "mimetype": "text/x-python",
   "name": "python",
   "nbconvert_exporter": "python",
   "pygments_lexer": "ipython3",
   "version": "3.11.7"
  }
 },
 "nbformat": 4,
 "nbformat_minor": 5
}
