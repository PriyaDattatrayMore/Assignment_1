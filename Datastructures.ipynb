{
 "cells": [
  {
   "cell_type": "code",
   "execution_count": 1,
   "id": "8f745ef6-7750-4169-a9c3-3c0df54818b7",
   "metadata": {},
   "outputs": [],
   "source": [
    "## List ##"
   ]
  },
  {
   "cell_type": "code",
   "execution_count": 5,
   "id": "9707a018-9f4f-4f8c-9250-0547bd906987",
   "metadata": {},
   "outputs": [
    {
     "name": "stdout",
     "output_type": "stream",
     "text": [
      "[12, 14, 16, 18]\n"
     ]
    }
   ],
   "source": [
    "l=[12,14,16,18]\n",
    "print(l)   # duplicates are allow"
   ]
  },
  {
   "cell_type": "code",
   "execution_count": 6,
   "id": "29c79534-ca16-4520-9fb4-9acb2ba962be",
   "metadata": {},
   "outputs": [
    {
     "data": {
      "text/plain": [
       "list"
      ]
     },
     "execution_count": 6,
     "metadata": {},
     "output_type": "execute_result"
    }
   ],
   "source": [
    "type(l)        "
   ]
  },
  {
   "cell_type": "code",
   "execution_count": 7,
   "id": "00604294-42fa-4a7f-9ee4-03f6f11095b6",
   "metadata": {},
   "outputs": [
    {
     "data": {
      "text/plain": [
       "16"
      ]
     },
     "execution_count": 7,
     "metadata": {},
     "output_type": "execute_result"
    }
   ],
   "source": [
    "## access the data\n",
    "\n",
    "l[2] #order number"
   ]
  },
  {
   "cell_type": "code",
   "execution_count": 9,
   "id": "ab619b4a-79c8-45eb-a7b8-37782bea0e5e",
   "metadata": {},
   "outputs": [
    {
     "data": {
      "text/plain": [
       "18"
      ]
     },
     "execution_count": 9,
     "metadata": {},
     "output_type": "execute_result"
    }
   ],
   "source": [
    "l[-1]"
   ]
  },
  {
   "cell_type": "code",
   "execution_count": 14,
   "id": "309ec823-75f4-441e-a024-7c42789f71d2",
   "metadata": {},
   "outputs": [
    {
     "name": "stdout",
     "output_type": "stream",
     "text": [
      "[12, 14, 16, 18, 'Priya', True]\n"
     ]
    }
   ],
   "source": [
    "l1=[12,14,16,18,'Priya',True]\n",
    "print(l1) #list is heterogeneous"
   ]
  },
  {
   "cell_type": "code",
   "execution_count": 11,
   "id": "1aaf6e27-f4c9-4868-bf42-ac56f611fa72",
   "metadata": {},
   "outputs": [
    {
     "data": {
      "text/plain": [
       "[12, 14, 16, 18]"
      ]
     },
     "execution_count": 11,
     "metadata": {},
     "output_type": "execute_result"
    }
   ],
   "source": [
    "# Replace the data\n",
    "l"
   ]
  },
  {
   "cell_type": "code",
   "execution_count": 12,
   "id": "9209ade4-f78e-4cf1-849b-e447a59c647b",
   "metadata": {},
   "outputs": [],
   "source": [
    "l[2] = 20"
   ]
  },
  {
   "cell_type": "code",
   "execution_count": 13,
   "id": "80cd2be1-7762-434f-aab0-928bcec3e4bf",
   "metadata": {},
   "outputs": [
    {
     "data": {
      "text/plain": [
       "[12, 14, 20, 18]"
      ]
     },
     "execution_count": 13,
     "metadata": {},
     "output_type": "execute_result"
    }
   ],
   "source": [
    "l"
   ]
  },
  {
   "cell_type": "code",
   "execution_count": 15,
   "id": "0ad45934-ff92-4903-beb8-896f09cad078",
   "metadata": {},
   "outputs": [
    {
     "data": {
      "text/plain": [
       "[14, 20, 18]"
      ]
     },
     "execution_count": 15,
     "metadata": {},
     "output_type": "execute_result"
    }
   ],
   "source": [
    "# Slicing\n",
    "\n",
    "l[1:4]"
   ]
  },
  {
   "cell_type": "code",
   "execution_count": 16,
   "id": "a62c631b-eea6-411b-ae9e-76765520482e",
   "metadata": {},
   "outputs": [
    {
     "data": {
      "text/plain": [
       "[12, 14, 20, 18]"
      ]
     },
     "execution_count": 16,
     "metadata": {},
     "output_type": "execute_result"
    }
   ],
   "source": [
    "l[0:4]  #OR l[:4]"
   ]
  },
  {
   "cell_type": "code",
   "execution_count": 17,
   "id": "e1cd9ccd-ac7c-485f-b24f-dd663f443a2b",
   "metadata": {},
   "outputs": [
    {
     "data": {
      "text/plain": [
       "[12, 14, 20, 18]"
      ]
     },
     "execution_count": 17,
     "metadata": {},
     "output_type": "execute_result"
    }
   ],
   "source": [
    "l[:]"
   ]
  },
  {
   "cell_type": "code",
   "execution_count": 18,
   "id": "d2f5968c-9043-40ff-99a2-1eafd14ee80d",
   "metadata": {},
   "outputs": [
    {
     "data": {
      "text/plain": [
       "[12, 14]"
      ]
     },
     "execution_count": 18,
     "metadata": {},
     "output_type": "execute_result"
    }
   ],
   "source": [
    "l[0:2:1]"
   ]
  },
  {
   "cell_type": "code",
   "execution_count": 19,
   "id": "6bf9b20f-e0ac-4513-a76f-7144608573dd",
   "metadata": {},
   "outputs": [
    {
     "data": {
      "text/plain": [
       "[12, 20]"
      ]
     },
     "execution_count": 19,
     "metadata": {},
     "output_type": "execute_result"
    }
   ],
   "source": [
    "l[::2]"
   ]
  },
  {
   "cell_type": "code",
   "execution_count": 20,
   "id": "da7929b4-f4bd-46c2-9be9-d4d970e6489d",
   "metadata": {},
   "outputs": [
    {
     "data": {
      "text/plain": [
       "[12, 14, 20, 18]"
      ]
     },
     "execution_count": 20,
     "metadata": {},
     "output_type": "execute_result"
    }
   ],
   "source": [
    "l"
   ]
  },
  {
   "cell_type": "code",
   "execution_count": 21,
   "id": "896c18c9-6452-4f0d-bafd-8a8a28a3a3a4",
   "metadata": {},
   "outputs": [],
   "source": [
    "l[0:2] = [15,13]"
   ]
  },
  {
   "cell_type": "code",
   "execution_count": 22,
   "id": "9ff53187-5de3-4c58-aebd-7e46482999b3",
   "metadata": {},
   "outputs": [
    {
     "data": {
      "text/plain": [
       "[15, 13, 20, 18]"
      ]
     },
     "execution_count": 22,
     "metadata": {},
     "output_type": "execute_result"
    }
   ],
   "source": [
    "l"
   ]
  },
  {
   "cell_type": "code",
   "execution_count": 25,
   "id": "bea4a793-9222-4aa4-b2a0-3d5f1672aff3",
   "metadata": {},
   "outputs": [],
   "source": [
    "l[1:2] = [9,5]"
   ]
  },
  {
   "cell_type": "code",
   "execution_count": 27,
   "id": "5fad447b-94fd-4c70-af8c-e65a6cc88129",
   "metadata": {},
   "outputs": [
    {
     "data": {
      "text/plain": [
       "[15, 9, 5, 5, 18]"
      ]
     },
     "execution_count": 27,
     "metadata": {},
     "output_type": "execute_result"
    }
   ],
   "source": [
    "l"
   ]
  },
  {
   "cell_type": "code",
   "execution_count": 28,
   "id": "745dc732-d86f-4887-9c07-ff21efd59075",
   "metadata": {},
   "outputs": [],
   "source": [
    "l1 = [45,67,43]"
   ]
  },
  {
   "cell_type": "code",
   "execution_count": 29,
   "id": "5eaa2b82-9391-47ba-a070-813771ed43c9",
   "metadata": {},
   "outputs": [],
   "source": [
    "# Deleting of data\n",
    "\n",
    "del l1"
   ]
  },
  {
   "cell_type": "code",
   "execution_count": 30,
   "id": "f73d9d12-c8a9-415c-b98f-14d33464f2d8",
   "metadata": {},
   "outputs": [
    {
     "ename": "NameError",
     "evalue": "name 'l1' is not defined",
     "output_type": "error",
     "traceback": [
      "\u001b[1;31m---------------------------------------------------------------------------\u001b[0m",
      "\u001b[1;31mNameError\u001b[0m                                 Traceback (most recent call last)",
      "Cell \u001b[1;32mIn[30], line 1\u001b[0m\n\u001b[1;32m----> 1\u001b[0m l1\n",
      "\u001b[1;31mNameError\u001b[0m: name 'l1' is not defined"
     ]
    }
   ],
   "source": [
    "l1"
   ]
  },
  {
   "cell_type": "code",
   "execution_count": 31,
   "id": "c6a86e27-1fb1-4e10-a542-24ed1d47c3b3",
   "metadata": {},
   "outputs": [
    {
     "data": {
      "text/plain": [
       "[15, 9, 5, 5, 18]"
      ]
     },
     "execution_count": 31,
     "metadata": {},
     "output_type": "execute_result"
    }
   ],
   "source": [
    "l"
   ]
  },
  {
   "cell_type": "code",
   "execution_count": 32,
   "id": "759ef399-1901-4cee-9362-bee99df9a86f",
   "metadata": {},
   "outputs": [
    {
     "data": {
      "text/plain": [
       "False"
      ]
     },
     "execution_count": 32,
     "metadata": {},
     "output_type": "execute_result"
    }
   ],
   "source": [
    "# in operator\n",
    "12 in l"
   ]
  },
  {
   "cell_type": "code",
   "execution_count": 33,
   "id": "b2d40475-5355-4ea7-a138-7e1526306565",
   "metadata": {},
   "outputs": [
    {
     "data": {
      "text/plain": [
       "True"
      ]
     },
     "execution_count": 33,
     "metadata": {},
     "output_type": "execute_result"
    }
   ],
   "source": [
    "5 in l"
   ]
  },
  {
   "cell_type": "code",
   "execution_count": 34,
   "id": "258b6fbd-1390-4977-95a5-1c350cee5831",
   "metadata": {},
   "outputs": [
    {
     "data": {
      "text/plain": [
       "True"
      ]
     },
     "execution_count": 34,
     "metadata": {},
     "output_type": "execute_result"
    }
   ],
   "source": [
    "1 not in l"
   ]
  },
  {
   "cell_type": "code",
   "execution_count": 35,
   "id": "e5a01288-f0e3-4b32-83a3-019c936c73cc",
   "metadata": {},
   "outputs": [],
   "source": [
    "# arithmetic operations"
   ]
  },
  {
   "cell_type": "code",
   "execution_count": 36,
   "id": "e83a6146-19fb-4a79-b3fe-f20592cde633",
   "metadata": {},
   "outputs": [
    {
     "data": {
      "text/plain": [
       "[15, 9, 5, 5, 18]"
      ]
     },
     "execution_count": 36,
     "metadata": {},
     "output_type": "execute_result"
    }
   ],
   "source": [
    "l"
   ]
  },
  {
   "cell_type": "code",
   "execution_count": 37,
   "id": "ac180b1d-4a9e-48ef-ae26-5205c4191bde",
   "metadata": {},
   "outputs": [
    {
     "data": {
      "text/plain": [
       "[15, 9, 5, 5, 18, 15, 9, 5, 5, 18]"
      ]
     },
     "execution_count": 37,
     "metadata": {},
     "output_type": "execute_result"
    }
   ],
   "source": [
    "l*2"
   ]
  },
  {
   "cell_type": "code",
   "execution_count": 38,
   "id": "16322ed5-ecee-4339-9711-0f3ecde5656c",
   "metadata": {},
   "outputs": [
    {
     "data": {
      "text/plain": [
       "[15, 9, 5, 5, 18, 1000, 88]"
      ]
     },
     "execution_count": 38,
     "metadata": {},
     "output_type": "execute_result"
    }
   ],
   "source": [
    "l + [1000,88]"
   ]
  },
  {
   "cell_type": "code",
   "execution_count": 39,
   "id": "5fb52aa6-b251-4701-9eb3-a1ecfdb85951",
   "metadata": {},
   "outputs": [],
   "source": [
    "l1 =[1,2,3,4,5]"
   ]
  },
  {
   "cell_type": "code",
   "execution_count": 40,
   "id": "160432ee-efd8-4cbd-b26d-74cb5b27b489",
   "metadata": {},
   "outputs": [
    {
     "data": {
      "text/plain": [
       "[15, 9, 5, 5, 18, 1, 2, 3, 4, 5]"
      ]
     },
     "execution_count": 40,
     "metadata": {},
     "output_type": "execute_result"
    }
   ],
   "source": [
    "l + l1"
   ]
  },
  {
   "cell_type": "code",
   "execution_count": 41,
   "id": "679df989-11d7-426e-a5d1-76d50b6148a0",
   "metadata": {},
   "outputs": [
    {
     "name": "stdout",
     "output_type": "stream",
     "text": [
      "15\n",
      "9\n",
      "5\n",
      "5\n",
      "18\n"
     ]
    }
   ],
   "source": [
    "# iterating over a list\n",
    "\n",
    "for n in l:\n",
    "    print(n)"
   ]
  },
  {
   "cell_type": "code",
   "execution_count": 46,
   "id": "09bd9e96-a09c-4e4a-9e9a-f8eeeafbd865",
   "metadata": {},
   "outputs": [
    {
     "name": "stdout",
     "output_type": "stream",
     "text": [
      "225 81 25 25 324 "
     ]
    }
   ],
   "source": [
    "for n in l:\n",
    "       print(n*n , end = ' ')"
   ]
  },
  {
   "cell_type": "code",
   "execution_count": 49,
   "id": "b4be5834-5040-422b-9744-fa31d10702cd",
   "metadata": {},
   "outputs": [
    {
     "name": "stdout",
     "output_type": "stream",
     "text": [
      "15\n",
      "9\n",
      "5\n",
      "5\n"
     ]
    }
   ],
   "source": [
    "for n in l:\n",
    "    if n%2 == 1:\n",
    "       print(n)"
   ]
  },
  {
   "cell_type": "code",
   "execution_count": 50,
   "id": "43673acb-c37b-4ebc-96e3-c7247d25e0ab",
   "metadata": {},
   "outputs": [],
   "source": [
    "### list Comprehension ###"
   ]
  },
  {
   "cell_type": "code",
   "execution_count": 51,
   "id": "37b6132a-8049-4ac1-a72a-0dcbf61f1ad2",
   "metadata": {},
   "outputs": [],
   "source": [
    "### Mapping ###"
   ]
  },
  {
   "cell_type": "code",
   "execution_count": 52,
   "id": "b58ac62e-e470-4878-8cdb-fc1365f3b99a",
   "metadata": {},
   "outputs": [],
   "source": [
    "li = [n/2 for n in l]"
   ]
  },
  {
   "cell_type": "code",
   "execution_count": 53,
   "id": "484b8ab7-e6a3-4f10-88c9-c2894697eb41",
   "metadata": {},
   "outputs": [
    {
     "data": {
      "text/plain": [
       "[7.5, 4.5, 2.5, 2.5, 9.0]"
      ]
     },
     "execution_count": 53,
     "metadata": {},
     "output_type": "execute_result"
    }
   ],
   "source": [
    "li"
   ]
  },
  {
   "cell_type": "code",
   "execution_count": 54,
   "id": "04418fc3-73e0-4cf8-a18d-5311b6a16584",
   "metadata": {},
   "outputs": [],
   "source": [
    "l2 = [n*n for n in l]"
   ]
  },
  {
   "cell_type": "code",
   "execution_count": 55,
   "id": "9da4edea-e5f1-437a-a237-5af3075439ae",
   "metadata": {},
   "outputs": [
    {
     "data": {
      "text/plain": [
       "[225, 81, 25, 25, 324]"
      ]
     },
     "execution_count": 55,
     "metadata": {},
     "output_type": "execute_result"
    }
   ],
   "source": [
    "l2"
   ]
  },
  {
   "cell_type": "code",
   "execution_count": 56,
   "id": "49f81414-0e25-4dde-b388-be776745541c",
   "metadata": {},
   "outputs": [
    {
     "data": {
      "text/plain": [
       "[15, 9, 5, 5]"
      ]
     },
     "execution_count": 56,
     "metadata": {},
     "output_type": "execute_result"
    }
   ],
   "source": [
    "##filter##\n",
    "\n",
    "[n for n in l if n%2 == 1]"
   ]
  },
  {
   "cell_type": "code",
   "execution_count": 57,
   "id": "104bc3fe-6e7c-458b-8c76-696e6b53b02c",
   "metadata": {},
   "outputs": [
    {
     "data": {
      "text/plain": [
       "[15, 9, 18]"
      ]
     },
     "execution_count": 57,
     "metadata": {},
     "output_type": "execute_result"
    }
   ],
   "source": [
    "[n for n in l if n%3 == 0]"
   ]
  },
  {
   "cell_type": "code",
   "execution_count": 58,
   "id": "91d1dafa-553a-46e0-b237-92d597b9f39d",
   "metadata": {},
   "outputs": [],
   "source": [
    "names = ['Priya','Pranali','dyaneshwari','Amruta','sanika','sakshi','sneha','pranali']"
   ]
  },
  {
   "cell_type": "code",
   "execution_count": 59,
   "id": "6f79c22b-8771-4a8c-8373-fe1ce25de59b",
   "metadata": {},
   "outputs": [],
   "source": [
    "# creat a new list contain starting with 's'"
   ]
  },
  {
   "cell_type": "code",
   "execution_count": 65,
   "id": "97b6f662-3de6-486a-9a22-5a8e8e3c5977",
   "metadata": {},
   "outputs": [
    {
     "data": {
      "text/plain": [
       "['sanika', 'sakshi', 'sneha']"
      ]
     },
     "execution_count": 65,
     "metadata": {},
     "output_type": "execute_result"
    }
   ],
   "source": [
    "[s for s in names if s.startswith('s')]"
   ]
  },
  {
   "cell_type": "code",
   "execution_count": 66,
   "id": "4ddccdfa-e98f-40bf-857d-ddf3919a4558",
   "metadata": {},
   "outputs": [],
   "source": [
    "# create a new list contain names in title case"
   ]
  },
  {
   "cell_type": "code",
   "execution_count": 68,
   "id": "8d1e8177-9fbc-4f71-9a79-cd4d178272c3",
   "metadata": {},
   "outputs": [
    {
     "data": {
      "text/plain": [
       "['Priya',\n",
       " 'Pranali',\n",
       " 'Dyaneshwari',\n",
       " 'Amruta',\n",
       " 'Sanika',\n",
       " 'Sakshi',\n",
       " 'Sneha',\n",
       " 'Pranali']"
      ]
     },
     "execution_count": 68,
     "metadata": {},
     "output_type": "execute_result"
    }
   ],
   "source": [
    "[ s.title() for s in names ]"
   ]
  },
  {
   "cell_type": "code",
   "execution_count": 69,
   "id": "4107c96f-919f-4c50-89e8-4deffd70b049",
   "metadata": {},
   "outputs": [],
   "source": [
    "# empty list\n",
    "\n",
    "e = []"
   ]
  },
  {
   "cell_type": "code",
   "execution_count": 70,
   "id": "2a5d66dd-dc59-4b42-81ff-f6e3708c06c6",
   "metadata": {},
   "outputs": [
    {
     "data": {
      "text/plain": [
       "list"
      ]
     },
     "execution_count": 70,
     "metadata": {},
     "output_type": "execute_result"
    }
   ],
   "source": [
    "type(e)"
   ]
  },
  {
   "cell_type": "code",
   "execution_count": 71,
   "id": "aea2c0cb-1253-49dd-9d27-0556315fd39a",
   "metadata": {},
   "outputs": [
    {
     "data": {
      "text/plain": [
       "[]"
      ]
     },
     "execution_count": 71,
     "metadata": {},
     "output_type": "execute_result"
    }
   ],
   "source": [
    "e"
   ]
  },
  {
   "cell_type": "code",
   "execution_count": 72,
   "id": "25678186-f37c-4a15-a0d4-f6bbd294a12a",
   "metadata": {},
   "outputs": [],
   "source": [
    "# decompose the list"
   ]
  },
  {
   "cell_type": "code",
   "execution_count": 73,
   "id": "9fc0de9d-eccd-4083-b0df-cfdfb08d1588",
   "metadata": {},
   "outputs": [],
   "source": [
    "mylist = [12,34,52]"
   ]
  },
  {
   "cell_type": "code",
   "execution_count": 74,
   "id": "2af17d10-673f-4a2f-87b1-0be74334141c",
   "metadata": {},
   "outputs": [],
   "source": [
    "x,y,z= mylist"
   ]
  },
  {
   "cell_type": "code",
   "execution_count": 75,
   "id": "5ca81aa6-c907-45ba-969d-f940a01c0059",
   "metadata": {},
   "outputs": [
    {
     "data": {
      "text/plain": [
       "12"
      ]
     },
     "execution_count": 75,
     "metadata": {},
     "output_type": "execute_result"
    }
   ],
   "source": [
    "x"
   ]
  },
  {
   "cell_type": "code",
   "execution_count": 76,
   "id": "2664f5de-4c2f-402a-a8cc-75e12a9c5633",
   "metadata": {},
   "outputs": [
    {
     "data": {
      "text/plain": [
       "34"
      ]
     },
     "execution_count": 76,
     "metadata": {},
     "output_type": "execute_result"
    }
   ],
   "source": [
    "y"
   ]
  },
  {
   "cell_type": "code",
   "execution_count": 77,
   "id": "5aa4b9dc-d073-4ae5-be19-ce6ea211f865",
   "metadata": {},
   "outputs": [
    {
     "data": {
      "text/plain": [
       "52"
      ]
     },
     "execution_count": 77,
     "metadata": {},
     "output_type": "execute_result"
    }
   ],
   "source": [
    "z"
   ]
  },
  {
   "cell_type": "code",
   "execution_count": 78,
   "id": "9d3f2692-8672-4018-9125-1b0bbea4e422",
   "metadata": {},
   "outputs": [],
   "source": [
    "## FUNCTIONS ON LIST ##"
   ]
  },
  {
   "cell_type": "code",
   "execution_count": 79,
   "id": "5a10433e-61e8-4af2-9a42-f875ef773c37",
   "metadata": {},
   "outputs": [
    {
     "data": {
      "text/plain": [
       "[15, 9, 5, 5, 18]"
      ]
     },
     "execution_count": 79,
     "metadata": {},
     "output_type": "execute_result"
    }
   ],
   "source": [
    "l"
   ]
  },
  {
   "cell_type": "code",
   "execution_count": 80,
   "id": "336fa005-73fa-412a-b97a-b17200e766df",
   "metadata": {},
   "outputs": [
    {
     "data": {
      "text/plain": [
       "5"
      ]
     },
     "execution_count": 80,
     "metadata": {},
     "output_type": "execute_result"
    }
   ],
   "source": [
    "len(l)"
   ]
  },
  {
   "cell_type": "code",
   "execution_count": 81,
   "id": "86fefda4-1c72-4b02-af75-57fbd3fe5c12",
   "metadata": {},
   "outputs": [
    {
     "data": {
      "text/plain": [
       "18"
      ]
     },
     "execution_count": 81,
     "metadata": {},
     "output_type": "execute_result"
    }
   ],
   "source": [
    "max(l)"
   ]
  },
  {
   "cell_type": "code",
   "execution_count": 82,
   "id": "0ea9243b-3ec0-4000-95af-321c6237f06e",
   "metadata": {},
   "outputs": [
    {
     "data": {
      "text/plain": [
       "52"
      ]
     },
     "execution_count": 82,
     "metadata": {},
     "output_type": "execute_result"
    }
   ],
   "source": [
    "sum(l)"
   ]
  },
  {
   "cell_type": "code",
   "execution_count": 83,
   "id": "84b84f1c-f35e-473a-9f27-2aebee296196",
   "metadata": {},
   "outputs": [
    {
     "data": {
      "text/plain": [
       "[5, 5, 9, 15, 18]"
      ]
     },
     "execution_count": 83,
     "metadata": {},
     "output_type": "execute_result"
    }
   ],
   "source": [
    "sorted(l)"
   ]
  },
  {
   "cell_type": "code",
   "execution_count": 87,
   "id": "4c0724c4-4d89-4527-8cee-ee3d0aebc165",
   "metadata": {},
   "outputs": [
    {
     "data": {
      "text/plain": [
       "[18, 15, 9, 5, 5]"
      ]
     },
     "execution_count": 87,
     "metadata": {},
     "output_type": "execute_result"
    }
   ],
   "source": [
    "sorted(l , reverse = True)"
   ]
  },
  {
   "cell_type": "code",
   "execution_count": 88,
   "id": "ad35abb2-7493-4a83-a95a-6a17f823e265",
   "metadata": {},
   "outputs": [],
   "source": [
    "name = 'Priya'"
   ]
  },
  {
   "cell_type": "code",
   "execution_count": 89,
   "id": "bb01536f-8f68-4dcb-b054-27586990ae4e",
   "metadata": {},
   "outputs": [
    {
     "data": {
      "text/plain": [
       "['P', 'r', 'i', 'y', 'a']"
      ]
     },
     "execution_count": 89,
     "metadata": {},
     "output_type": "execute_result"
    }
   ],
   "source": [
    "list (name)"
   ]
  },
  {
   "cell_type": "code",
   "execution_count": 90,
   "id": "1d65855c-8470-472b-96e1-d29a82658d80",
   "metadata": {},
   "outputs": [],
   "source": [
    "# methods on list #"
   ]
  },
  {
   "cell_type": "code",
   "execution_count": 91,
   "id": "0dc4b726-d5fc-46e7-8662-48a9c0de7724",
   "metadata": {},
   "outputs": [
    {
     "data": {
      "text/plain": [
       "[15, 9, 5, 5, 18]"
      ]
     },
     "execution_count": 91,
     "metadata": {},
     "output_type": "execute_result"
    }
   ],
   "source": [
    "l"
   ]
  },
  {
   "cell_type": "code",
   "execution_count": 92,
   "id": "fee05587-2557-4f5d-ac83-14b2a1236b9e",
   "metadata": {},
   "outputs": [],
   "source": [
    "# append method#"
   ]
  },
  {
   "cell_type": "code",
   "execution_count": 93,
   "id": "03ac9188-9184-45b4-b306-1f26ce626a8d",
   "metadata": {},
   "outputs": [],
   "source": [
    "l.append(100)"
   ]
  },
  {
   "cell_type": "code",
   "execution_count": 94,
   "id": "66cadf0a-13da-408e-969d-1ed569ee585f",
   "metadata": {},
   "outputs": [
    {
     "data": {
      "text/plain": [
       "[15, 9, 5, 5, 18, 100]"
      ]
     },
     "execution_count": 94,
     "metadata": {},
     "output_type": "execute_result"
    }
   ],
   "source": [
    "l"
   ]
  },
  {
   "cell_type": "code",
   "execution_count": 95,
   "id": "7a0642e2-73d2-4749-927b-540418b8eb13",
   "metadata": {},
   "outputs": [],
   "source": [
    "# append and extend methods #"
   ]
  },
  {
   "cell_type": "code",
   "execution_count": 96,
   "id": "823f635e-7926-4ce7-8d21-4b059e410591",
   "metadata": {},
   "outputs": [],
   "source": [
    "x = [12,23,34]\n",
    "y = [12,23,34]"
   ]
  },
  {
   "cell_type": "code",
   "execution_count": 97,
   "id": "1a682496-6fca-4463-b783-ee1485082eb7",
   "metadata": {},
   "outputs": [],
   "source": [
    "x.append([45,67])\n",
    "y.extend([45,67])"
   ]
  },
  {
   "cell_type": "code",
   "execution_count": 98,
   "id": "63c78b82-189a-45a7-a902-674351c16626",
   "metadata": {},
   "outputs": [
    {
     "data": {
      "text/plain": [
       "[12, 23, 34, [45, 67]]"
      ]
     },
     "execution_count": 98,
     "metadata": {},
     "output_type": "execute_result"
    }
   ],
   "source": [
    "x"
   ]
  },
  {
   "cell_type": "code",
   "execution_count": 99,
   "id": "c2cbbbf9-a531-4b9a-af11-f2ec4e76f2e7",
   "metadata": {},
   "outputs": [
    {
     "data": {
      "text/plain": [
       "[12, 23, 34, 45, 67]"
      ]
     },
     "execution_count": 99,
     "metadata": {},
     "output_type": "execute_result"
    }
   ],
   "source": [
    "y"
   ]
  },
  {
   "cell_type": "code",
   "execution_count": 100,
   "id": "28cb9726-74b2-4b97-aea1-8614236d8088",
   "metadata": {},
   "outputs": [
    {
     "data": {
      "text/plain": [
       "[45, 67]"
      ]
     },
     "execution_count": 100,
     "metadata": {},
     "output_type": "execute_result"
    }
   ],
   "source": [
    "x[3]"
   ]
  },
  {
   "cell_type": "code",
   "execution_count": 102,
   "id": "9ee3d823-bda7-4b58-9d17-c7bc5303febe",
   "metadata": {},
   "outputs": [
    {
     "data": {
      "text/plain": [
       "67"
      ]
     },
     "execution_count": 102,
     "metadata": {},
     "output_type": "execute_result"
    }
   ],
   "source": [
    "x[3][1]"
   ]
  },
  {
   "cell_type": "code",
   "execution_count": 103,
   "id": "5c7cf7e7-0b45-49d0-aa6f-2c3111cb4b89",
   "metadata": {},
   "outputs": [],
   "source": [
    "## insert ##"
   ]
  },
  {
   "cell_type": "code",
   "execution_count": 104,
   "id": "04a808b5-02bb-454d-9f26-d8f2895e33d9",
   "metadata": {},
   "outputs": [
    {
     "data": {
      "text/plain": [
       "[15, 9, 5, 5, 18, 100]"
      ]
     },
     "execution_count": 104,
     "metadata": {},
     "output_type": "execute_result"
    }
   ],
   "source": [
    "l"
   ]
  },
  {
   "cell_type": "code",
   "execution_count": 105,
   "id": "6b36c474-9bda-4ac0-83c0-4459cd0cb656",
   "metadata": {},
   "outputs": [],
   "source": [
    "l.insert(2,177)"
   ]
  },
  {
   "cell_type": "code",
   "execution_count": 106,
   "id": "d0eea78a-619e-4636-ba1f-ee986894a90c",
   "metadata": {},
   "outputs": [
    {
     "data": {
      "text/plain": [
       "[15, 9, 177, 5, 5, 18, 100]"
      ]
     },
     "execution_count": 106,
     "metadata": {},
     "output_type": "execute_result"
    }
   ],
   "source": [
    "l"
   ]
  },
  {
   "cell_type": "code",
   "execution_count": 107,
   "id": "68bbcdfa-3f16-4870-af09-718d78cfef72",
   "metadata": {},
   "outputs": [],
   "source": [
    "# remove"
   ]
  },
  {
   "cell_type": "code",
   "execution_count": 108,
   "id": "8b76f2c4-2a64-4c7f-980e-888b79a72688",
   "metadata": {},
   "outputs": [],
   "source": [
    "l.remove(177)"
   ]
  },
  {
   "cell_type": "code",
   "execution_count": 109,
   "id": "5798a5f4-010b-4ffd-ab42-317bc39ee789",
   "metadata": {},
   "outputs": [
    {
     "data": {
      "text/plain": [
       "[15, 9, 5, 5, 18, 100]"
      ]
     },
     "execution_count": 109,
     "metadata": {},
     "output_type": "execute_result"
    }
   ],
   "source": [
    "l"
   ]
  },
  {
   "cell_type": "code",
   "execution_count": 110,
   "id": "4efa94e3-aa5f-400e-94e7-27a68118d0ec",
   "metadata": {},
   "outputs": [],
   "source": [
    "# count"
   ]
  },
  {
   "cell_type": "code",
   "execution_count": 111,
   "id": "edaa0ba5-36fe-4da0-a44c-a469daf22e58",
   "metadata": {},
   "outputs": [
    {
     "data": {
      "text/plain": [
       "0"
      ]
     },
     "execution_count": 111,
     "metadata": {},
     "output_type": "execute_result"
    }
   ],
   "source": [
    "l.count(12)"
   ]
  },
  {
   "cell_type": "code",
   "execution_count": 112,
   "id": "fac199c0-abf9-4c0f-b7bd-18ef6d214a24",
   "metadata": {},
   "outputs": [
    {
     "data": {
      "text/plain": [
       "2"
      ]
     },
     "execution_count": 112,
     "metadata": {},
     "output_type": "execute_result"
    }
   ],
   "source": [
    "l.index(5)"
   ]
  },
  {
   "cell_type": "code",
   "execution_count": 113,
   "id": "aed9b150-1747-4710-978c-8ff872a3bdbb",
   "metadata": {},
   "outputs": [],
   "source": [
    "# pop/delete "
   ]
  },
  {
   "cell_type": "code",
   "execution_count": 114,
   "id": "84b8d861-7015-4a5c-bae8-0616c0609590",
   "metadata": {},
   "outputs": [
    {
     "data": {
      "text/plain": [
       "100"
      ]
     },
     "execution_count": 114,
     "metadata": {},
     "output_type": "execute_result"
    }
   ],
   "source": [
    "l.pop()"
   ]
  },
  {
   "cell_type": "code",
   "execution_count": 115,
   "id": "0ffc677d-1b5d-49ae-b3f9-44e84c491816",
   "metadata": {},
   "outputs": [
    {
     "data": {
      "text/plain": [
       "[15, 9, 5, 5, 18]"
      ]
     },
     "execution_count": 115,
     "metadata": {},
     "output_type": "execute_result"
    }
   ],
   "source": [
    "l"
   ]
  },
  {
   "cell_type": "code",
   "execution_count": 116,
   "id": "d3bb852f-e563-42be-b4ae-e93ad74f5272",
   "metadata": {},
   "outputs": [
    {
     "data": {
      "text/plain": [
       "5"
      ]
     },
     "execution_count": 116,
     "metadata": {},
     "output_type": "execute_result"
    }
   ],
   "source": [
    "l.pop(3)"
   ]
  },
  {
   "cell_type": "code",
   "execution_count": 117,
   "id": "62046c75-b3b0-4e2e-9d10-449ade02ccc5",
   "metadata": {},
   "outputs": [
    {
     "data": {
      "text/plain": [
       "[15, 9, 5, 18]"
      ]
     },
     "execution_count": 117,
     "metadata": {},
     "output_type": "execute_result"
    }
   ],
   "source": [
    "l"
   ]
  },
  {
   "cell_type": "code",
   "execution_count": 118,
   "id": "018054b2-aa7e-481a-bfdc-c0a819ec1acc",
   "metadata": {},
   "outputs": [],
   "source": [
    "l.reverse()"
   ]
  },
  {
   "cell_type": "code",
   "execution_count": 119,
   "id": "ad3dbff2-4b11-4d96-8a32-4ee02fda69a5",
   "metadata": {},
   "outputs": [
    {
     "data": {
      "text/plain": [
       "[18, 5, 9, 15]"
      ]
     },
     "execution_count": 119,
     "metadata": {},
     "output_type": "execute_result"
    }
   ],
   "source": [
    "l"
   ]
  },
  {
   "cell_type": "code",
   "execution_count": 120,
   "id": "00adfbea-834f-43af-8e19-0968b457608f",
   "metadata": {},
   "outputs": [],
   "source": [
    "l.sort()"
   ]
  },
  {
   "cell_type": "code",
   "execution_count": 121,
   "id": "4b407747-7c02-4a5d-a9d2-b19116e19088",
   "metadata": {},
   "outputs": [
    {
     "data": {
      "text/plain": [
       "[5, 9, 15, 18]"
      ]
     },
     "execution_count": 121,
     "metadata": {},
     "output_type": "execute_result"
    }
   ],
   "source": [
    "l"
   ]
  },
  {
   "cell_type": "code",
   "execution_count": 122,
   "id": "c645b060-3e98-4cb8-8741-6bb037577ae4",
   "metadata": {},
   "outputs": [
    {
     "data": {
      "text/plain": [
       "[18, 15, 9, 5]"
      ]
     },
     "execution_count": 122,
     "metadata": {},
     "output_type": "execute_result"
    }
   ],
   "source": [
    "sorted(l , reverse = True)"
   ]
  },
  {
   "cell_type": "code",
   "execution_count": 123,
   "id": "342cbc77-ce01-4576-bb29-c0ea6cf2c91d",
   "metadata": {},
   "outputs": [],
   "source": [
    "#### SHALLOW COPY ####"
   ]
  },
  {
   "cell_type": "code",
   "execution_count": 124,
   "id": "bff7e5ea-91d5-44b9-a169-d07519f4cd52",
   "metadata": {},
   "outputs": [],
   "source": [
    "l1 = [34,56,78]"
   ]
  },
  {
   "cell_type": "code",
   "execution_count": 125,
   "id": "d0040483-ab89-4533-9eca-2e415a05e04e",
   "metadata": {},
   "outputs": [],
   "source": [
    "l2 = l1"
   ]
  },
  {
   "cell_type": "code",
   "execution_count": 126,
   "id": "b69c9182-c0d2-4424-b86f-149b8363c600",
   "metadata": {},
   "outputs": [
    {
     "data": {
      "text/plain": [
       "[34, 56, 78]"
      ]
     },
     "execution_count": 126,
     "metadata": {},
     "output_type": "execute_result"
    }
   ],
   "source": [
    "l2"
   ]
  },
  {
   "cell_type": "code",
   "execution_count": 127,
   "id": "efac9e20-cd59-4d19-8028-88824baa9192",
   "metadata": {},
   "outputs": [],
   "source": [
    "l1.append(100)"
   ]
  },
  {
   "cell_type": "code",
   "execution_count": 128,
   "id": "f634cb1a-4b99-46a4-98a8-e2bfee1e4abc",
   "metadata": {},
   "outputs": [
    {
     "data": {
      "text/plain": [
       "[34, 56, 78, 100]"
      ]
     },
     "execution_count": 128,
     "metadata": {},
     "output_type": "execute_result"
    }
   ],
   "source": [
    "l1"
   ]
  },
  {
   "cell_type": "code",
   "execution_count": 129,
   "id": "910e6db7-a388-4194-b34c-0edb3e365eeb",
   "metadata": {},
   "outputs": [
    {
     "data": {
      "text/plain": [
       "[34, 56, 78, 100]"
      ]
     },
     "execution_count": 129,
     "metadata": {},
     "output_type": "execute_result"
    }
   ],
   "source": [
    "l2"
   ]
  },
  {
   "cell_type": "code",
   "execution_count": 130,
   "id": "6a54ac87-bf08-4f2e-8b26-f8d8fe365a4e",
   "metadata": {},
   "outputs": [],
   "source": [
    "l1.append([45,67])"
   ]
  },
  {
   "cell_type": "code",
   "execution_count": 131,
   "id": "af67a012-64e8-4b2f-9cfe-cb401d4b02b7",
   "metadata": {},
   "outputs": [
    {
     "data": {
      "text/plain": [
       "[34, 56, 78, 100, [45, 67]]"
      ]
     },
     "execution_count": 131,
     "metadata": {},
     "output_type": "execute_result"
    }
   ],
   "source": [
    "l1"
   ]
  },
  {
   "cell_type": "code",
   "execution_count": 132,
   "id": "5fbfd602-1ba6-4988-ab8d-7b20a3824291",
   "metadata": {},
   "outputs": [
    {
     "data": {
      "text/plain": [
       "[34, 56, 78, 100, [45, 67]]"
      ]
     },
     "execution_count": 132,
     "metadata": {},
     "output_type": "execute_result"
    }
   ],
   "source": [
    "l2"
   ]
  },
  {
   "cell_type": "code",
   "execution_count": 133,
   "id": "dff05c04-7ace-4b9a-a872-02aac8a1595d",
   "metadata": {},
   "outputs": [],
   "source": [
    "###"
   ]
  },
  {
   "cell_type": "code",
   "execution_count": 134,
   "id": "1adea915-ff6e-4c8e-ae50-3eb11b875ec7",
   "metadata": {},
   "outputs": [],
   "source": [
    "l3 = [45,56,67]"
   ]
  },
  {
   "cell_type": "code",
   "execution_count": 135,
   "id": "cc897e8f-15cf-486b-a996-94d4f491abc0",
   "metadata": {},
   "outputs": [],
   "source": [
    "l4 =l3.copy()"
   ]
  },
  {
   "cell_type": "code",
   "execution_count": 136,
   "id": "47d96347-8c00-4d6d-850d-d85b71c5a4ba",
   "metadata": {},
   "outputs": [
    {
     "data": {
      "text/plain": [
       "[45, 56, 67]"
      ]
     },
     "execution_count": 136,
     "metadata": {},
     "output_type": "execute_result"
    }
   ],
   "source": [
    "l4"
   ]
  },
  {
   "cell_type": "code",
   "execution_count": 137,
   "id": "9e0b27de-1a07-4e00-a7a3-9d32579a1602",
   "metadata": {},
   "outputs": [],
   "source": [
    "l3.append(1000)"
   ]
  },
  {
   "cell_type": "code",
   "execution_count": 138,
   "id": "f40ab58b-d03f-455c-b26b-5183d553ed36",
   "metadata": {},
   "outputs": [
    {
     "data": {
      "text/plain": [
       "[45, 56, 67, 1000]"
      ]
     },
     "execution_count": 138,
     "metadata": {},
     "output_type": "execute_result"
    }
   ],
   "source": [
    "l3"
   ]
  },
  {
   "cell_type": "code",
   "execution_count": 139,
   "id": "9e0f80d1-8296-4325-a6b9-30c99bf44851",
   "metadata": {},
   "outputs": [
    {
     "data": {
      "text/plain": [
       "[45, 56, 67]"
      ]
     },
     "execution_count": 139,
     "metadata": {},
     "output_type": "execute_result"
    }
   ],
   "source": [
    "l4"
   ]
  },
  {
   "cell_type": "code",
   "execution_count": 140,
   "id": "ed61e81a-ecbc-4dfe-ab67-4958f7b834d6",
   "metadata": {},
   "outputs": [],
   "source": [
    "l3 = [45,56,67,[34,59]]"
   ]
  },
  {
   "cell_type": "code",
   "execution_count": 146,
   "id": "f58fc73e-fd85-4255-991b-2757b6c98236",
   "metadata": {},
   "outputs": [
    {
     "data": {
      "text/plain": [
       "[45, 56, 67]"
      ]
     },
     "execution_count": 146,
     "metadata": {},
     "output_type": "execute_result"
    }
   ],
   "source": [
    "l4"
   ]
  },
  {
   "cell_type": "code",
   "execution_count": 142,
   "id": "8d98d786-d856-4939-9584-2c3552ab7417",
   "metadata": {},
   "outputs": [],
   "source": [
    "l3[3].append('Priya')"
   ]
  },
  {
   "cell_type": "code",
   "execution_count": 143,
   "id": "d01921c9-179b-4bb3-9674-736d47135a11",
   "metadata": {},
   "outputs": [
    {
     "data": {
      "text/plain": [
       "[45, 56, 67, [34, 59, 'Priya']]"
      ]
     },
     "execution_count": 143,
     "metadata": {},
     "output_type": "execute_result"
    }
   ],
   "source": [
    "l3"
   ]
  },
  {
   "cell_type": "code",
   "execution_count": 144,
   "id": "f2718361-ba6c-425c-ac28-d55ff395ca17",
   "metadata": {},
   "outputs": [
    {
     "data": {
      "text/plain": [
       "[45, 56, 67]"
      ]
     },
     "execution_count": 144,
     "metadata": {},
     "output_type": "execute_result"
    }
   ],
   "source": [
    "l4"
   ]
  },
  {
   "cell_type": "code",
   "execution_count": null,
   "id": "f09b1939-1390-4935-b338-2b6b5a89d404",
   "metadata": {},
   "outputs": [],
   "source": [
    "### iterate over a list and print index as well as values"
   ]
  },
  {
   "cell_type": "code",
   "execution_count": 147,
   "id": "2dae0499-2bbd-4a6c-b9f8-5daebbae012b",
   "metadata": {},
   "outputs": [
    {
     "data": {
      "text/plain": [
       "[5, 9, 15, 18]"
      ]
     },
     "execution_count": 147,
     "metadata": {},
     "output_type": "execute_result"
    }
   ],
   "source": [
    "l "
   ]
  },
  {
   "cell_type": "code",
   "execution_count": 149,
   "id": "ebf2a82f-a002-4234-9fbe-62ca8e1f9fa6",
   "metadata": {},
   "outputs": [
    {
     "name": "stdout",
     "output_type": "stream",
     "text": [
      "0 5\n",
      "1 9\n",
      "2 15\n",
      "3 18\n"
     ]
    }
   ],
   "source": [
    "for n in l:            #in this we can not find index value of same number\n",
    "    print(l.index(n) , n)"
   ]
  },
  {
   "cell_type": "code",
   "execution_count": 150,
   "id": "9ec55c9a-7ef9-4a26-89c1-31b5fc96cd46",
   "metadata": {},
   "outputs": [
    {
     "name": "stdout",
     "output_type": "stream",
     "text": [
      "0 5\n",
      "1 9\n",
      "2 15\n",
      "3 18\n"
     ]
    }
   ],
   "source": [
    "for index, n in enumerate(l):\n",
    "    print(index, n)     #enumerate is used to find actual index value"
   ]
  },
  {
   "cell_type": "code",
   "execution_count": 151,
   "id": "2e46b73f-fd93-4326-9780-252f6b2be310",
   "metadata": {},
   "outputs": [],
   "source": [
    "### TUPLE ### 1.duplicate values aalow 2.imutable-no change data 3.heterogeneous"
   ]
  },
  {
   "cell_type": "code",
   "execution_count": 152,
   "id": "d9c8ee12-9172-42bb-bf78-1cf5622e3343",
   "metadata": {},
   "outputs": [],
   "source": [
    "t = (12,23,45,12,67)"
   ]
  },
  {
   "cell_type": "code",
   "execution_count": 153,
   "id": "ce74f17f-4be0-49a1-ae26-b1af361ea13d",
   "metadata": {},
   "outputs": [
    {
     "data": {
      "text/plain": [
       "(12, 23, 45, 12, 67)"
      ]
     },
     "execution_count": 153,
     "metadata": {},
     "output_type": "execute_result"
    }
   ],
   "source": [
    "t"
   ]
  },
  {
   "cell_type": "code",
   "execution_count": 154,
   "id": "1442de0d-127b-41da-8018-7f7620add6f9",
   "metadata": {},
   "outputs": [
    {
     "data": {
      "text/plain": [
       "tuple"
      ]
     },
     "execution_count": 154,
     "metadata": {},
     "output_type": "execute_result"
    }
   ],
   "source": [
    "type(t)"
   ]
  },
  {
   "cell_type": "code",
   "execution_count": 155,
   "id": "fe04116e-ffdf-4ae5-ac44-fcc5bd347393",
   "metadata": {},
   "outputs": [],
   "source": [
    "t = (12,23,45,12,67,'P')"
   ]
  },
  {
   "cell_type": "code",
   "execution_count": 156,
   "id": "e97a5fbc-5bb9-4c43-8d9c-2d30493c3beb",
   "metadata": {},
   "outputs": [
    {
     "data": {
      "text/plain": [
       "(12, 23, 45, 12, 67, 'P')"
      ]
     },
     "execution_count": 156,
     "metadata": {},
     "output_type": "execute_result"
    }
   ],
   "source": [
    "t"
   ]
  },
  {
   "cell_type": "code",
   "execution_count": 158,
   "id": "cba0e0c7-ba9c-4216-b7da-0a78f7b4031d",
   "metadata": {},
   "outputs": [
    {
     "ename": "TypeError",
     "evalue": "'tuple' object does not support item assignment",
     "output_type": "error",
     "traceback": [
      "\u001b[1;31m---------------------------------------------------------------------------\u001b[0m",
      "\u001b[1;31mTypeError\u001b[0m                                 Traceback (most recent call last)",
      "Cell \u001b[1;32mIn[158], line 1\u001b[0m\n\u001b[1;32m----> 1\u001b[0m t[\u001b[38;5;241m2\u001b[39m]\u001b[38;5;241m=\u001b[39m\u001b[38;5;241m69\u001b[39m\n",
      "\u001b[1;31mTypeError\u001b[0m: 'tuple' object does not support item assignment"
     ]
    }
   ],
   "source": [
    "t[2]=69"
   ]
  },
  {
   "cell_type": "code",
   "execution_count": 159,
   "id": "551ce0ae-0cbf-4d8a-94cc-f95d53264182",
   "metadata": {},
   "outputs": [
    {
     "data": {
      "text/plain": [
       "(12, 23, 45, 12, 67, 'P')"
      ]
     },
     "execution_count": 159,
     "metadata": {},
     "output_type": "execute_result"
    }
   ],
   "source": [
    "t"
   ]
  },
  {
   "cell_type": "code",
   "execution_count": 161,
   "id": "da2a4112-77b5-4063-8c62-e2e0ff4e69ea",
   "metadata": {},
   "outputs": [],
   "source": [
    "t1 = list (t)"
   ]
  },
  {
   "cell_type": "code",
   "execution_count": 162,
   "id": "e6c6a63b-782a-4982-a916-09488b5799d4",
   "metadata": {},
   "outputs": [
    {
     "data": {
      "text/plain": [
       "list"
      ]
     },
     "execution_count": 162,
     "metadata": {},
     "output_type": "execute_result"
    }
   ],
   "source": [
    "type(t1)"
   ]
  },
  {
   "cell_type": "code",
   "execution_count": 163,
   "id": "57f202eb-23ba-43fc-b06e-2b1d7e260466",
   "metadata": {},
   "outputs": [
    {
     "data": {
      "text/plain": [
       "(12, 23, 45, 12, 67, 'P')"
      ]
     },
     "execution_count": 163,
     "metadata": {},
     "output_type": "execute_result"
    }
   ],
   "source": [
    "tuple(t1)"
   ]
  },
  {
   "cell_type": "code",
   "execution_count": 164,
   "id": "b7ba302b-21b2-4ced-b720-659146202116",
   "metadata": {},
   "outputs": [
    {
     "name": "stdout",
     "output_type": "stream",
     "text": [
      "Help on class tuple in module builtins:\n",
      "\n",
      "class tuple(object)\n",
      " |  tuple(iterable=(), /)\n",
      " |  \n",
      " |  Built-in immutable sequence.\n",
      " |  \n",
      " |  If no argument is given, the constructor returns an empty tuple.\n",
      " |  If iterable is specified the tuple is initialized from iterable's items.\n",
      " |  \n",
      " |  If the argument is a tuple, the return value is the same object.\n",
      " |  \n",
      " |  Built-in subclasses:\n",
      " |      asyncgen_hooks\n",
      " |      UnraisableHookArgs\n",
      " |  \n",
      " |  Methods defined here:\n",
      " |  \n",
      " |  __add__(self, value, /)\n",
      " |      Return self+value.\n",
      " |  \n",
      " |  __contains__(self, key, /)\n",
      " |      Return key in self.\n",
      " |  \n",
      " |  __eq__(self, value, /)\n",
      " |      Return self==value.\n",
      " |  \n",
      " |  __ge__(self, value, /)\n",
      " |      Return self>=value.\n",
      " |  \n",
      " |  __getattribute__(self, name, /)\n",
      " |      Return getattr(self, name).\n",
      " |  \n",
      " |  __getitem__(self, key, /)\n",
      " |      Return self[key].\n",
      " |  \n",
      " |  __getnewargs__(self, /)\n",
      " |  \n",
      " |  __gt__(self, value, /)\n",
      " |      Return self>value.\n",
      " |  \n",
      " |  __hash__(self, /)\n",
      " |      Return hash(self).\n",
      " |  \n",
      " |  __iter__(self, /)\n",
      " |      Implement iter(self).\n",
      " |  \n",
      " |  __le__(self, value, /)\n",
      " |      Return self<=value.\n",
      " |  \n",
      " |  __len__(self, /)\n",
      " |      Return len(self).\n",
      " |  \n",
      " |  __lt__(self, value, /)\n",
      " |      Return self<value.\n",
      " |  \n",
      " |  __mul__(self, value, /)\n",
      " |      Return self*value.\n",
      " |  \n",
      " |  __ne__(self, value, /)\n",
      " |      Return self!=value.\n",
      " |  \n",
      " |  __repr__(self, /)\n",
      " |      Return repr(self).\n",
      " |  \n",
      " |  __rmul__(self, value, /)\n",
      " |      Return value*self.\n",
      " |  \n",
      " |  count(self, value, /)\n",
      " |      Return number of occurrences of value.\n",
      " |  \n",
      " |  index(self, value, start=0, stop=9223372036854775807, /)\n",
      " |      Return first index of value.\n",
      " |      \n",
      " |      Raises ValueError if the value is not present.\n",
      " |  \n",
      " |  ----------------------------------------------------------------------\n",
      " |  Class methods defined here:\n",
      " |  \n",
      " |  __class_getitem__(...) from builtins.type\n",
      " |      See PEP 585\n",
      " |  \n",
      " |  ----------------------------------------------------------------------\n",
      " |  Static methods defined here:\n",
      " |  \n",
      " |  __new__(*args, **kwargs) from builtins.type\n",
      " |      Create and return a new object.  See help(type) for accurate signature.\n",
      "\n"
     ]
    }
   ],
   "source": [
    "help(tuple)"
   ]
  },
  {
   "cell_type": "code",
   "execution_count": 165,
   "id": "57c947d4-c143-4745-942c-10c9b03dd524",
   "metadata": {},
   "outputs": [],
   "source": [
    "### SET ### 1.no duplicate value allow 2. not ordered , not find value of index 3. heterogeneous"
   ]
  },
  {
   "cell_type": "code",
   "execution_count": 166,
   "id": "b4c29571-5abf-4102-8057-ec329ca14dc2",
   "metadata": {},
   "outputs": [],
   "source": [
    "s = {34,45,56,34,78}"
   ]
  },
  {
   "cell_type": "code",
   "execution_count": 167,
   "id": "b2f0a4f9-414f-4d8d-84e9-456498f75b39",
   "metadata": {},
   "outputs": [
    {
     "data": {
      "text/plain": [
       "{34, 45, 56, 78}"
      ]
     },
     "execution_count": 167,
     "metadata": {},
     "output_type": "execute_result"
    }
   ],
   "source": [
    "s"
   ]
  },
  {
   "cell_type": "code",
   "execution_count": 168,
   "id": "0677dc01-0a67-432f-ab93-53315fb095c1",
   "metadata": {},
   "outputs": [
    {
     "data": {
      "text/plain": [
       "set"
      ]
     },
     "execution_count": 168,
     "metadata": {},
     "output_type": "execute_result"
    }
   ],
   "source": [
    "type(s)"
   ]
  },
  {
   "cell_type": "code",
   "execution_count": 170,
   "id": "3694ac07-98ce-4a49-8612-8ce591c20a2e",
   "metadata": {},
   "outputs": [
    {
     "ename": "TypeError",
     "evalue": "'set' object is not subscriptable",
     "output_type": "error",
     "traceback": [
      "\u001b[1;31m---------------------------------------------------------------------------\u001b[0m",
      "\u001b[1;31mTypeError\u001b[0m                                 Traceback (most recent call last)",
      "Cell \u001b[1;32mIn[170], line 1\u001b[0m\n\u001b[1;32m----> 1\u001b[0m s[\u001b[38;5;241m3\u001b[39m]\n",
      "\u001b[1;31mTypeError\u001b[0m: 'set' object is not subscriptable"
     ]
    }
   ],
   "source": [
    "s[3]"
   ]
  },
  {
   "cell_type": "code",
   "execution_count": 171,
   "id": "c0a02e8c-c29d-47dd-bdd0-d53d79b116eb",
   "metadata": {},
   "outputs": [],
   "source": [
    "s.add(6)"
   ]
  },
  {
   "cell_type": "code",
   "execution_count": 172,
   "id": "b6f4f3c7-8231-4238-b27a-c12b32d4112d",
   "metadata": {},
   "outputs": [
    {
     "data": {
      "text/plain": [
       "{6, 34, 45, 56, 78}"
      ]
     },
     "execution_count": 172,
     "metadata": {},
     "output_type": "execute_result"
    }
   ],
   "source": [
    "s"
   ]
  },
  {
   "cell_type": "code",
   "execution_count": 173,
   "id": "a946939a-de07-47e8-81de-57ac222233db",
   "metadata": {},
   "outputs": [],
   "source": [
    "s1 = frozenset(s) # we can't add any value"
   ]
  },
  {
   "cell_type": "code",
   "execution_count": 174,
   "id": "27d0e6ee-6873-466f-841b-56c3b7de37fe",
   "metadata": {},
   "outputs": [
    {
     "data": {
      "text/plain": [
       "frozenset({6, 34, 45, 56, 78})"
      ]
     },
     "execution_count": 174,
     "metadata": {},
     "output_type": "execute_result"
    }
   ],
   "source": [
    "s1"
   ]
  },
  {
   "cell_type": "code",
   "execution_count": 177,
   "id": "710d0bbf-66f8-4123-a67e-046b356296f3",
   "metadata": {},
   "outputs": [
    {
     "ename": "TypeError",
     "evalue": "'int' object is not iterable",
     "output_type": "error",
     "traceback": [
      "\u001b[1;31m---------------------------------------------------------------------------\u001b[0m",
      "\u001b[1;31mTypeError\u001b[0m                                 Traceback (most recent call last)",
      "Cell \u001b[1;32mIn[177], line 1\u001b[0m\n\u001b[1;32m----> 1\u001b[0m s1 \u001b[38;5;241m=\u001b[39m \u001b[38;5;28mfrozenset\u001b[39m(\u001b[38;5;241m9\u001b[39m)\n",
      "\u001b[1;31mTypeError\u001b[0m: 'int' object is not iterable"
     ]
    }
   ],
   "source": [
    "s1 = frozenset(9)"
   ]
  },
  {
   "cell_type": "code",
   "execution_count": 176,
   "id": "3431a136-3056-4c43-915a-cc36901732b8",
   "metadata": {},
   "outputs": [
    {
     "data": {
      "text/plain": [
       "{6, 9, 34, 45, 56, 78}"
      ]
     },
     "execution_count": 176,
     "metadata": {},
     "output_type": "execute_result"
    }
   ],
   "source": [
    "s"
   ]
  },
  {
   "cell_type": "code",
   "execution_count": 178,
   "id": "83bd7fbc-1227-48d9-8634-4567bea37af1",
   "metadata": {},
   "outputs": [],
   "source": [
    "### DECTIONERY ### pair of keys and values"
   ]
  },
  {
   "cell_type": "code",
   "execution_count": 179,
   "id": "363a4f77-642e-49da-bd71-72599c9adea4",
   "metadata": {},
   "outputs": [],
   "source": [
    "d = {1:2,3:4,5:6}"
   ]
  },
  {
   "cell_type": "code",
   "execution_count": 180,
   "id": "4373dc96-eec3-4f4e-9e5b-6e5810971861",
   "metadata": {},
   "outputs": [
    {
     "data": {
      "text/plain": [
       "{1: 2, 3: 4, 5: 6}"
      ]
     },
     "execution_count": 180,
     "metadata": {},
     "output_type": "execute_result"
    }
   ],
   "source": [
    "d"
   ]
  },
  {
   "cell_type": "code",
   "execution_count": 181,
   "id": "1e7b47ee-a1de-4058-9a16-c454a3522872",
   "metadata": {},
   "outputs": [
    {
     "data": {
      "text/plain": [
       "dict"
      ]
     },
     "execution_count": 181,
     "metadata": {},
     "output_type": "execute_result"
    }
   ],
   "source": [
    "type(d)"
   ]
  },
  {
   "cell_type": "code",
   "execution_count": 182,
   "id": "b3cd7542-31e1-4d4e-84fb-92c1cc467c28",
   "metadata": {},
   "outputs": [
    {
     "data": {
      "text/plain": [
       "4"
      ]
     },
     "execution_count": 182,
     "metadata": {},
     "output_type": "execute_result"
    }
   ],
   "source": [
    "d[3]"
   ]
  },
  {
   "cell_type": "code",
   "execution_count": 183,
   "id": "846a6b46-196b-44bb-9b8e-c2070b143e56",
   "metadata": {},
   "outputs": [
    {
     "data": {
      "text/plain": [
       "2"
      ]
     },
     "execution_count": 183,
     "metadata": {},
     "output_type": "execute_result"
    }
   ],
   "source": [
    "d[1]"
   ]
  },
  {
   "cell_type": "code",
   "execution_count": 184,
   "id": "57d87c09-f5ae-49be-bb55-f3dbb93038b1",
   "metadata": {},
   "outputs": [],
   "source": [
    "d[10] = 73"
   ]
  },
  {
   "cell_type": "code",
   "execution_count": 185,
   "id": "acd3dbf1-51e9-432c-9ced-d18875332203",
   "metadata": {},
   "outputs": [
    {
     "data": {
      "text/plain": [
       "{1: 2, 3: 4, 5: 6, 10: 73}"
      ]
     },
     "execution_count": 185,
     "metadata": {},
     "output_type": "execute_result"
    }
   ],
   "source": [
    "d"
   ]
  },
  {
   "cell_type": "code",
   "execution_count": 186,
   "id": "d4d18e19-be36-492d-88f2-6d573a6930b3",
   "metadata": {},
   "outputs": [],
   "source": [
    "d[3] = 73"
   ]
  },
  {
   "cell_type": "code",
   "execution_count": 187,
   "id": "c67591ca-7a56-49d3-b291-f90c02e805ca",
   "metadata": {},
   "outputs": [
    {
     "data": {
      "text/plain": [
       "{1: 2, 3: 73, 5: 6, 10: 73}"
      ]
     },
     "execution_count": 187,
     "metadata": {},
     "output_type": "execute_result"
    }
   ],
   "source": [
    "d"
   ]
  },
  {
   "cell_type": "code",
   "execution_count": 188,
   "id": "db404615-d74a-4ac8-9e8b-ed01c58f9b32",
   "metadata": {},
   "outputs": [],
   "source": [
    "d[11] = 81,'Priya'"
   ]
  },
  {
   "cell_type": "code",
   "execution_count": 189,
   "id": "5c43fb7a-d159-487c-83e2-57db87c4697a",
   "metadata": {},
   "outputs": [
    {
     "data": {
      "text/plain": [
       "{1: 2, 3: 73, 5: 6, 10: 73, 11: (81, 'Priya')}"
      ]
     },
     "execution_count": 189,
     "metadata": {},
     "output_type": "execute_result"
    }
   ],
   "source": [
    "d"
   ]
  },
  {
   "cell_type": "code",
   "execution_count": 194,
   "id": "9d14b7df-538a-4856-9c95-74bb4143d8b7",
   "metadata": {},
   "outputs": [
    {
     "data": {
      "text/plain": [
       "dict_keys([1, 3, 5, 10, 11])"
      ]
     },
     "execution_count": 194,
     "metadata": {},
     "output_type": "execute_result"
    }
   ],
   "source": [
    "d.keys()"
   ]
  },
  {
   "cell_type": "code",
   "execution_count": 195,
   "id": "24a0f44a-77cb-4b3d-9f5f-adc165e7b745",
   "metadata": {},
   "outputs": [
    {
     "data": {
      "text/plain": [
       "dict_values([2, 73, 6, 73, (81, 'Priya')])"
      ]
     },
     "execution_count": 195,
     "metadata": {},
     "output_type": "execute_result"
    }
   ],
   "source": [
    "d.values()"
   ]
  },
  {
   "cell_type": "code",
   "execution_count": null,
   "id": "7f23b2c7-fb18-42d3-88af-8d4e3d22e65a",
   "metadata": {},
   "outputs": [],
   "source": []
  }
 ],
 "metadata": {
  "kernelspec": {
   "display_name": "Python 3 (ipykernel)",
   "language": "python",
   "name": "python3"
  },
  "language_info": {
   "codemirror_mode": {
    "name": "ipython",
    "version": 3
   },
   "file_extension": ".py",
   "mimetype": "text/x-python",
   "name": "python",
   "nbconvert_exporter": "python",
   "pygments_lexer": "ipython3",
   "version": "3.11.7"
  }
 },
 "nbformat": 4,
 "nbformat_minor": 5
}
