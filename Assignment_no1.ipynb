{
 "cells": [
  {
   "cell_type": "code",
   "execution_count": 3,
   "id": "f4f4cf8b-f919-4057-916b-41c60951c190",
   "metadata": {},
   "outputs": [],
   "source": [
    "'''1.Write a program to convert specified days into year,weak, and days take user input (note: ignre leap year)'''"
   ]
  },
  {
   "cell_type": "code",
   "execution_count": 5,
   "id": "22091431-167c-40a6-a568-70f145f7e059",
   "metadata": {},
   "outputs": [
    {
     "name": "stdin",
     "output_type": "stream",
     "text": [
      "Enter days to convert 5\n"
     ]
    },
    {
     "name": "stdout",
     "output_type": "stream",
     "text": [
      "5 days\n"
     ]
    }
   ],
   "source": [
    "days = int (input('Enter days to convert'))\n",
    "if days>=366:\n",
    "    year = days // 366\n",
    "    days = days - 366*year\n",
    "    weak = days // 7\n",
    "    days = days % 7\n",
    "    print (year,'years', days,'days',weak,'weaks')\n",
    "elif days>=7:\n",
    "    weak = days // 7\n",
    "    days = days % 7\n",
    "    print (weak,'weaks',days,'days')\n",
    "else:\n",
    "    print(days,'days')"
   ]
  },
  {
   "cell_type": "code",
   "execution_count": 7,
   "id": "5a1bf05e-4e1e-43eb-bb29-3c3671d4d3b1",
   "metadata": {},
   "outputs": [],
   "source": [
    "''' 2. Write a program to input basic python salary of employee and calculate its Gross salary according to following\n",
    " Basic salary <= 10000:HRD = 20% DA = 80%\n",
    " Basic salary <= 20000:HRD = 30% DA = 90%\n",
    " Basic salary <= 20000:HRD = 35% DA = 95%'''"
   ]
  },
  {
   "cell_type": "code",
   "execution_count": 8,
   "id": "c9d3dc36-7f1e-4707-b5ed-9726d3e08915",
   "metadata": {},
   "outputs": [
    {
     "name": "stdin",
     "output_type": "stream",
     "text": [
      "Enter your salary 40000\n"
     ]
    },
    {
     "name": "stdout",
     "output_type": "stream",
     "text": [
      "Gross Salary= 92000.0\n"
     ]
    }
   ],
   "source": [
    "basic_salary = int (input('Enter your salary'))\n",
    "if basic_salary<=10000:\n",
    "    hrd = 0.2*basic_salary\n",
    "    da = 0.8*basic_salary\n",
    "elif basic_salary<=20000:\n",
    "    hrd = 0.3*basic_salary\n",
    "    da = 0.9*basic_salary\n",
    "else:\n",
    "    hrd = 0.35*basic_salary\n",
    "    da = 0.95*basic_salary\n",
    "gross_salary = basic_salary+hrd+da\n",
    "print('Gross Salary=' , gross_salary)"
   ]
  },
  {
   "cell_type": "code",
   "execution_count": 13,
   "id": "7e32eb2e-2714-4ea1-934c-9838863442db",
   "metadata": {},
   "outputs": [
    {
     "name": "stdin",
     "output_type": "stream",
     "text": [
      "Enter the number of units: 4000\n"
     ]
    },
    {
     "name": "stdout",
     "output_type": "stream",
     "text": [
      "cost to be paid is: 34411.76470588235\n"
     ]
    }
   ],
   "source": [
    "''' 3. Write a python program to input electrical unit charges and calculate total electrical bill according given conditions:\n",
    " for first 50 units Rs.0.50/unit\n",
    " for first 100 units Rs.0.75/unit\n",
    " for first 250 units Rs.1.50/unit\n",
    " an additional surcharge of 17% is added to the bill'''\n",
    "\n",
    "units = int (input('Enter the number of units:'))\n",
    "if units <= 50:\n",
    "    cost = 0.50*units\n",
    "    print ('cost to be paid is:',cost)\n",
    "elif units >= 50 and units<=150:\n",
    "    cost = 0.75*units\n",
    "    print ('cost to be paid is:',cost)\n",
    "elif units >= 150 and units <= 200:\n",
    "    cost = 1.25*units\n",
    "    print ('cost to be paid is:',cost)\n",
    "else:\n",
    "    if units > 250:\n",
    "      cost = units*1.25\n",
    "      extra_charge = (cost/17)*100\n",
    "      Total_Bill = cost+extra_charge\n",
    "      print ('cost to be paid is:',Total_Bill)"
   ]
  },
  {
   "cell_type": "code",
   "execution_count": 15,
   "id": "eca89905-f479-4b84-b543-1efe05bef6ff",
   "metadata": {},
   "outputs": [
    {
     "name": "stdin",
     "output_type": "stream",
     "text": [
      "Enter the number of rows 3\n"
     ]
    },
    {
     "name": "stdout",
     "output_type": "stream",
     "text": [
      "1 \n",
      "2 2 \n",
      "3 3 3 \n"
     ]
    }
   ],
   "source": [
    "''' 4. Write python program to print the given no patterns\n",
    "1\n",
    "2 2 \n",
    "3 3 3\n",
    "4 4 4 4 \n",
    "'''\n",
    "row = int (input('Enter the number of rows'))\n",
    "for i in range (row):\n",
    "    for j in range(i+1):\n",
    "        print (i+1, end= ' ')\n",
    "    print()"
   ]
  },
  {
   "cell_type": "code",
   "execution_count": 19,
   "id": "04fd6d94-17ab-4ff4-a1b5-8fba666a85ea",
   "metadata": {},
   "outputs": [
    {
     "name": "stdin",
     "output_type": "stream",
     "text": [
      "Enter the number: 4\n"
     ]
    },
    {
     "name": "stdout",
     "output_type": "stream",
     "text": [
      "Product of digits is: 4\n"
     ]
    }
   ],
   "source": [
    "''' 5. Write a python program to calculate product of digits of a number. Read value of n from user.'''\n",
    "num=  int (input('Enter the number:'))\n",
    "POD = 1\n",
    "while num > 1:\n",
    "    rem = num % 10\n",
    "    POD = POD * rem\n",
    "    num = num//10\n",
    "print('Product of digits is:', POD)"
   ]
  },
  {
   "cell_type": "code",
   "execution_count": 22,
   "id": "f85b7a41-7a93-4756-bf41-920e0f9fada0",
   "metadata": {},
   "outputs": [
    {
     "data": {
      "text/plain": [
       "[45, 67, 12, 'Hello', 23.45, 'World']"
      ]
     },
     "execution_count": 22,
     "metadata": {},
     "output_type": "execute_result"
    }
   ],
   "source": [
    "'''6. Create a list of elements like:x=[45,67,12,'Hello',23.45,'World']\n",
    "and perform following operations\n",
    " 1. Extract only strong values from this list.\n",
    " 2.create a new list with strings in upper case.\n",
    " 3. Find the addition of integer values.\n",
    " 4.Check that the value 56 is present in it or not.\n",
    " 5.Print the list in reverse order.\n",
    " 6.delete the string 'Hello' from it.\n",
    " 7. Insert a new value of 36 at 5th position in list .\n",
    " 8.Count total no of elements in list now.\n",
    " 9.Extract the values from 2nd index to 5th index.\n",
    " 10. Append [34,'Pune'] to this list.\n",
    " 11. Delete the last element from list.'''\n",
    "\n",
    "x=[45,67,12,'Hello',23.45,'World'] \n",
    "x"
   ]
  },
  {
   "cell_type": "code",
   "execution_count": 23,
   "id": "a738268e-9190-49fd-bf12-1237c9c09ab2",
   "metadata": {},
   "outputs": [
    {
     "data": {
      "text/plain": [
       "('Hello', 'World')"
      ]
     },
     "execution_count": 23,
     "metadata": {},
     "output_type": "execute_result"
    }
   ],
   "source": [
    "# 1----->\n",
    "x[3],x[5]"
   ]
  },
  {
   "cell_type": "code",
   "execution_count": 24,
   "id": "eb0004be-9a1d-4ed5-89b8-ac1aea4e4d22",
   "metadata": {},
   "outputs": [
    {
     "name": "stdout",
     "output_type": "stream",
     "text": [
      "['Hello', 'World']\n"
     ]
    }
   ],
   "source": [
    "str = [i for i in x if isinstance(i,str)]\n",
    "print(str)"
   ]
  },
  {
   "cell_type": "code",
   "execution_count": 25,
   "id": "15bfad2c-6f08-4163-a45e-c5a3ca9c737b",
   "metadata": {},
   "outputs": [
    {
     "data": {
      "text/plain": [
       "['Priya', 'Riya', 'Siya', 'Diya']"
      ]
     },
     "execution_count": 25,
     "metadata": {},
     "output_type": "execute_result"
    }
   ],
   "source": [
    "# 2----->\n",
    "names = ['Priya', 'Riya','Siya','Diya']\n",
    "names"
   ]
  },
  {
   "cell_type": "code",
   "execution_count": 27,
   "id": "81be61ac-7602-4ac7-914b-905a013f4976",
   "metadata": {},
   "outputs": [
    {
     "data": {
      "text/plain": [
       "['PRIYA', 'RIYA', 'SIYA', 'DIYA']"
      ]
     },
     "execution_count": 27,
     "metadata": {},
     "output_type": "execute_result"
    }
   ],
   "source": [
    "[n.upper() for n  in names ]"
   ]
  },
  {
   "cell_type": "code",
   "execution_count": 29,
   "id": "ae63aa4e-f885-4c73-aed5-48fdfe30c2a2",
   "metadata": {},
   "outputs": [
    {
     "name": "stdout",
     "output_type": "stream",
     "text": [
      "sum of integer values: 45\n",
      "sum of integer values: 112\n",
      "sum of integer values: 124\n"
     ]
    }
   ],
   "source": [
    "# 3----->\n",
    "x = [45,67,12,'Hello',23.45,'World']\n",
    "sum = 0 \n",
    "for i in x:\n",
    "    if isinstance(i,int):\n",
    "        sum += i\n",
    "        print('sum of integer values:',sum)"
   ]
  },
  {
   "cell_type": "code",
   "execution_count": 43,
   "id": "3f9b0ada-abba-48b3-b735-3339f09fe748",
   "metadata": {},
   "outputs": [
    {
     "data": {
      "text/plain": [
       "False"
      ]
     },
     "execution_count": 43,
     "metadata": {},
     "output_type": "execute_result"
    }
   ],
   "source": [
    "# 4----->\n",
    "98 in x"
   ]
  },
  {
   "cell_type": "code",
   "execution_count": 44,
   "id": "44c6bb6b-21f5-4a7f-a028-977f35d9933c",
   "metadata": {},
   "outputs": [
    {
     "data": {
      "text/plain": [
       "[45, 67, 12, 23.45, 'World']"
      ]
     },
     "execution_count": 44,
     "metadata": {},
     "output_type": "execute_result"
    }
   ],
   "source": [
    "# 5----->\n",
    "x"
   ]
  },
  {
   "cell_type": "code",
   "execution_count": 45,
   "id": "3fd06ff1-eed8-41d0-9ccd-4986e0620950",
   "metadata": {},
   "outputs": [],
   "source": [
    "x.reverse()"
   ]
  },
  {
   "cell_type": "code",
   "execution_count": 46,
   "id": "0400fe7d-5151-4e91-b7e7-8bc58ccb7112",
   "metadata": {},
   "outputs": [
    {
     "data": {
      "text/plain": [
       "['World', 23.45, 12, 67, 45]"
      ]
     },
     "execution_count": 46,
     "metadata": {},
     "output_type": "execute_result"
    }
   ],
   "source": [
    "x"
   ]
  },
  {
   "cell_type": "code",
   "execution_count": 49,
   "id": "594b2749-81e3-4dfa-9795-ecf65176711f",
   "metadata": {},
   "outputs": [
    {
     "data": {
      "text/plain": [
       "['World', 23.45, 12, 67, 45]"
      ]
     },
     "execution_count": 49,
     "metadata": {},
     "output_type": "execute_result"
    }
   ],
   "source": [
    "# 6----->\n",
    "x"
   ]
  },
  {
   "cell_type": "code",
   "execution_count": 50,
   "id": "84becb7a-7192-4ba1-a345-90d5e9c3a7be",
   "metadata": {},
   "outputs": [],
   "source": [
    "x.remove('World')"
   ]
  },
  {
   "cell_type": "code",
   "execution_count": 51,
   "id": "799949c2-da4f-4688-8162-debf38da304d",
   "metadata": {},
   "outputs": [
    {
     "data": {
      "text/plain": [
       "[23.45, 12, 67, 45]"
      ]
     },
     "execution_count": 51,
     "metadata": {},
     "output_type": "execute_result"
    }
   ],
   "source": [
    "x"
   ]
  },
  {
   "cell_type": "code",
   "execution_count": 52,
   "id": "13cf75e1-6dfd-4971-b9eb-feea6ce2e1dc",
   "metadata": {},
   "outputs": [],
   "source": [
    "# 7----->\n",
    "x.insert(9,90)"
   ]
  },
  {
   "cell_type": "code",
   "execution_count": 53,
   "id": "33651a96-ae75-442f-bae5-28e0f64065f2",
   "metadata": {},
   "outputs": [
    {
     "data": {
      "text/plain": [
       "[23.45, 12, 67, 45, 90]"
      ]
     },
     "execution_count": 53,
     "metadata": {},
     "output_type": "execute_result"
    }
   ],
   "source": [
    "x"
   ]
  },
  {
   "cell_type": "code",
   "execution_count": 54,
   "id": "1eb5cb18-36eb-4a50-afd8-ba988ea40c41",
   "metadata": {},
   "outputs": [
    {
     "data": {
      "text/plain": [
       "5"
      ]
     },
     "execution_count": 54,
     "metadata": {},
     "output_type": "execute_result"
    }
   ],
   "source": [
    "# 8----->\n",
    "len(x)"
   ]
  },
  {
   "cell_type": "code",
   "execution_count": 55,
   "id": "5eaa628a-4088-4d8f-8250-5a0bc4dd7ecf",
   "metadata": {},
   "outputs": [
    {
     "data": {
      "text/plain": [
       "[67, 45, 90]"
      ]
     },
     "execution_count": 55,
     "metadata": {},
     "output_type": "execute_result"
    }
   ],
   "source": [
    "x[2:6]"
   ]
  },
  {
   "cell_type": "code",
   "execution_count": 56,
   "id": "b77241a8-cc29-411b-90d5-b2e0d2b93a64",
   "metadata": {},
   "outputs": [],
   "source": [
    "# 10----->\n",
    "x.append([36,'Pune'])"
   ]
  },
  {
   "cell_type": "code",
   "execution_count": 57,
   "id": "f2a2f86d-11d6-43ea-a273-ffd7c17d9609",
   "metadata": {},
   "outputs": [
    {
     "data": {
      "text/plain": [
       "[23.45, 12, 67, 45, 90, [36, 'Pune']]"
      ]
     },
     "execution_count": 57,
     "metadata": {},
     "output_type": "execute_result"
    }
   ],
   "source": [
    "x"
   ]
  },
  {
   "cell_type": "code",
   "execution_count": 60,
   "id": "aef543a1-ac45-490a-88a1-37ccd5310f9c",
   "metadata": {},
   "outputs": [],
   "source": [
    "# 11----->\n",
    "x = [45,67,12,'Hello',23.45,'World']"
   ]
  },
  {
   "cell_type": "code",
   "execution_count": 61,
   "id": "3bc8915f-ee57-4ad0-b37a-16f9c2e12d61",
   "metadata": {},
   "outputs": [
    {
     "data": {
      "text/plain": [
       "[45, 67, 12, 'Hello', 23.45, 'World']"
      ]
     },
     "execution_count": 61,
     "metadata": {},
     "output_type": "execute_result"
    }
   ],
   "source": [
    "x"
   ]
  },
  {
   "cell_type": "code",
   "execution_count": 62,
   "id": "4ccc8d62-4566-4f02-9976-b8b8464cabe1",
   "metadata": {},
   "outputs": [
    {
     "data": {
      "text/plain": [
       "'World'"
      ]
     },
     "execution_count": 62,
     "metadata": {},
     "output_type": "execute_result"
    }
   ],
   "source": [
    "x.pop()"
   ]
  },
  {
   "cell_type": "code",
   "execution_count": 63,
   "id": "02c73e6e-255f-4bc4-93a2-fd3175d0982c",
   "metadata": {},
   "outputs": [
    {
     "data": {
      "text/plain": [
       "(12.5, 23.45, 45.12, 42.34, 67.9)"
      ]
     },
     "execution_count": 63,
     "metadata": {},
     "output_type": "execute_result"
    }
   ],
   "source": [
    "''' 7. Create a tuple of elements with 5 float values in it and perform following operations\n",
    " 1.Print a data in sorted manner \n",
    " 2.Check to see that the element 50 is present in it.\n",
    " 3.Convert this tuple in set.\n",
    " '''\n",
    "\n",
    "t=(12.50,23.45,45.12,42.34,67.90)\n",
    "t"
   ]
  },
  {
   "cell_type": "code",
   "execution_count": 64,
   "id": "a346bad8-ca51-41c5-bd0c-021f1b5e23e0",
   "metadata": {},
   "outputs": [
    {
     "data": {
      "text/plain": [
       "[12.5, 23.45, 45.12, 42.34, 67.9]"
      ]
     },
     "execution_count": 64,
     "metadata": {},
     "output_type": "execute_result"
    }
   ],
   "source": [
    "# 1.---->\n",
    "t1 = list(t)\n",
    "t1"
   ]
  },
  {
   "cell_type": "code",
   "execution_count": 65,
   "id": "1fe8f798-8b25-49f1-8b3c-6b307ea4574e",
   "metadata": {},
   "outputs": [],
   "source": [
    "t1.sort()"
   ]
  },
  {
   "cell_type": "code",
   "execution_count": 66,
   "id": "7a6fb491-3641-4bff-b291-a3016a30edab",
   "metadata": {},
   "outputs": [
    {
     "data": {
      "text/plain": [
       "[12.5, 23.45, 42.34, 45.12, 67.9]"
      ]
     },
     "execution_count": 66,
     "metadata": {},
     "output_type": "execute_result"
    }
   ],
   "source": [
    "t1"
   ]
  },
  {
   "cell_type": "code",
   "execution_count": 68,
   "id": "17762020-a78d-4ba1-a529-e8a3dedd1e7c",
   "metadata": {},
   "outputs": [
    {
     "data": {
      "text/plain": [
       "False"
      ]
     },
     "execution_count": 68,
     "metadata": {},
     "output_type": "execute_result"
    }
   ],
   "source": [
    "# 2.---->\n",
    "90 in t1"
   ]
  },
  {
   "cell_type": "code",
   "execution_count": 69,
   "id": "2063378b-6555-40a7-931a-3ae47515e56b",
   "metadata": {},
   "outputs": [
    {
     "data": {
      "text/plain": [
       "True"
      ]
     },
     "execution_count": 69,
     "metadata": {},
     "output_type": "execute_result"
    }
   ],
   "source": [
    "12.5 in t1"
   ]
  },
  {
   "cell_type": "code",
   "execution_count": 70,
   "id": "82eef45f-d195-479b-b8b7-3daefcbcc99d",
   "metadata": {},
   "outputs": [],
   "source": [
    "# 3.---->\n",
    "s = set(t)"
   ]
  },
  {
   "cell_type": "code",
   "execution_count": 71,
   "id": "9e690b3f-61b1-4c06-9a30-0ad4fb472f21",
   "metadata": {},
   "outputs": [
    {
     "data": {
      "text/plain": [
       "{12.5, 23.45, 42.34, 45.12, 67.9}"
      ]
     },
     "execution_count": 71,
     "metadata": {},
     "output_type": "execute_result"
    }
   ],
   "source": [
    "s"
   ]
  },
  {
   "cell_type": "code",
   "execution_count": 73,
   "id": "b1fa8fd9-958b-4066-99ca-016b2f3b2c08",
   "metadata": {},
   "outputs": [],
   "source": [
    "''' 8. Create a dictionery of element:{'a':'apple','b':'ball','c':'cat','d':'doll','k':'King'} and perform following operations.\n",
    "1.Access the data at key 'k'.\n",
    "2.Add new values 'z':'zebra'\n",
    "3.Replace the contents of 'd' as 'dog'\n",
    "4.Print all the values from this dictionary.\n",
    "5.find the length of this dictionary.'''\n",
    "\n",
    "d = {'a':'apple','b':'ball','c':'cat','d':'doll','k':'king'}"
   ]
  },
  {
   "cell_type": "code",
   "execution_count": 74,
   "id": "aa8fdce3-8345-4ad0-9002-1a5b58e9df68",
   "metadata": {},
   "outputs": [
    {
     "data": {
      "text/plain": [
       "{'a': 'apple', 'b': 'ball', 'c': 'cat', 'd': 'doll', 'k': 'king'}"
      ]
     },
     "execution_count": 74,
     "metadata": {},
     "output_type": "execute_result"
    }
   ],
   "source": [
    "d"
   ]
  },
  {
   "cell_type": "code",
   "execution_count": 75,
   "id": "980a697f-d4e7-4cf0-aad1-a935548d5e51",
   "metadata": {},
   "outputs": [
    {
     "data": {
      "text/plain": [
       "'cat'"
      ]
     },
     "execution_count": 75,
     "metadata": {},
     "output_type": "execute_result"
    }
   ],
   "source": [
    "# 1.--->\n",
    "d['c']"
   ]
  },
  {
   "cell_type": "code",
   "execution_count": 76,
   "id": "c1c13fb0-b76a-40c5-afb2-5f28bfed0554",
   "metadata": {},
   "outputs": [],
   "source": [
    "# 2.--->\n",
    "d['z'] = 'zebra'"
   ]
  },
  {
   "cell_type": "code",
   "execution_count": 77,
   "id": "2d020e14-8751-4a4f-8447-891f20e393b4",
   "metadata": {},
   "outputs": [
    {
     "data": {
      "text/plain": [
       "{'a': 'apple', 'b': 'ball', 'c': 'cat', 'd': 'doll', 'k': 'king', 'z': 'zebra'}"
      ]
     },
     "execution_count": 77,
     "metadata": {},
     "output_type": "execute_result"
    }
   ],
   "source": [
    "d"
   ]
  },
  {
   "cell_type": "code",
   "execution_count": 80,
   "id": "11eda0b1-c15a-4edd-b9ab-02be4529b385",
   "metadata": {},
   "outputs": [],
   "source": [
    "# 3.--->\n",
    "d['d'] = 'dog'"
   ]
  },
  {
   "cell_type": "code",
   "execution_count": 79,
   "id": "d7a61bc0-62cc-41b5-be21-7b389cddb749",
   "metadata": {},
   "outputs": [
    {
     "data": {
      "text/plain": [
       "{'a': 'apple', 'b': 'ball', 'c': 'cat', 'd': 'dog', 'k': 'king', 'z': 'zebra'}"
      ]
     },
     "execution_count": 79,
     "metadata": {},
     "output_type": "execute_result"
    }
   ],
   "source": [
    "d"
   ]
  },
  {
   "cell_type": "code",
   "execution_count": 81,
   "id": "e066f516-12f3-4b19-b08d-0603296b384f",
   "metadata": {},
   "outputs": [
    {
     "data": {
      "text/plain": [
       "dict_values(['apple', 'ball', 'cat', 'dog', 'king', 'zebra'])"
      ]
     },
     "execution_count": 81,
     "metadata": {},
     "output_type": "execute_result"
    }
   ],
   "source": [
    "# 4.--->\n",
    "d.values()"
   ]
  },
  {
   "cell_type": "code",
   "execution_count": 82,
   "id": "70a8c4d2-afda-4e21-b5bc-ec8b99e5bb06",
   "metadata": {},
   "outputs": [
    {
     "data": {
      "text/plain": [
       "6"
      ]
     },
     "execution_count": 82,
     "metadata": {},
     "output_type": "execute_result"
    }
   ],
   "source": [
    "# 5.--->\n",
    "len(d)"
   ]
  },
  {
   "cell_type": "code",
   "execution_count": 83,
   "id": "46a2d4eb-8a29-4fe5-b716-e951107d0e51",
   "metadata": {},
   "outputs": [],
   "source": [
    "''' 9. Write a program to find the second largest element in a list'''\n",
    "l= [23,34,56,67]"
   ]
  },
  {
   "cell_type": "code",
   "execution_count": 84,
   "id": "1fb87784-7134-44c0-94da-78ca35b6aa65",
   "metadata": {},
   "outputs": [
    {
     "data": {
      "text/plain": [
       "[23, 34, 56, 67]"
      ]
     },
     "execution_count": 84,
     "metadata": {},
     "output_type": "execute_result"
    }
   ],
   "source": [
    "l"
   ]
  },
  {
   "cell_type": "code",
   "execution_count": 85,
   "id": "fab472ee-2d66-40ef-b26a-6b1d83525f40",
   "metadata": {},
   "outputs": [
    {
     "data": {
      "text/plain": [
       "[67, 56, 34, 23]"
      ]
     },
     "execution_count": 85,
     "metadata": {},
     "output_type": "execute_result"
    }
   ],
   "source": [
    "l1 = sorted(l, reverse = True)\n",
    "l1"
   ]
  },
  {
   "cell_type": "code",
   "execution_count": 86,
   "id": "fcb16e34-6e9e-4474-b0f5-684927c2754a",
   "metadata": {},
   "outputs": [
    {
     "data": {
      "text/plain": [
       "56"
      ]
     },
     "execution_count": 86,
     "metadata": {},
     "output_type": "execute_result"
    }
   ],
   "source": [
    "l1[1]"
   ]
  },
  {
   "cell_type": "code",
   "execution_count": 89,
   "id": "e37e27df-53d7-4e86-9ab8-fbffcf92a67a",
   "metadata": {},
   "outputs": [],
   "source": [
    "'''10. THIS IS LIST OF SOME MEATLLIC ELEMENTS\n",
    " metals=['silver','gold'....]\n",
    " 1. make a new list that is almost identical to the metals list:\n",
    " 2. The new list contain the same items in same order except that it does not contain items'Copper'\n",
    "'''\n",
    "list = ['silver','Gold','Copper','Mercury']\n",
    "new_list = [n for n in list if n!='copper']"
   ]
  },
  {
   "cell_type": "code",
   "execution_count": 90,
   "id": "e162dd7c-77b1-41e6-8e08-34138a1614f2",
   "metadata": {},
   "outputs": [
    {
     "data": {
      "text/plain": [
       "['silver', 'Gold', 'Copper', 'Mercury']"
      ]
     },
     "execution_count": 90,
     "metadata": {},
     "output_type": "execute_result"
    }
   ],
   "source": [
    "new_list"
   ]
  },
  {
   "cell_type": "code",
   "execution_count": null,
   "id": "62296d32-e7c5-4c0d-b488-d113573dae8f",
   "metadata": {},
   "outputs": [],
   "source": []
  }
 ],
 "metadata": {
  "kernelspec": {
   "display_name": "Python 3 (ipykernel)",
   "language": "python",
   "name": "python3"
  },
  "language_info": {
   "codemirror_mode": {
    "name": "ipython",
    "version": 3
   },
   "file_extension": ".py",
   "mimetype": "text/x-python",
   "name": "python",
   "nbconvert_exporter": "python",
   "pygments_lexer": "ipython3",
   "version": "3.11.7"
  }
 },
 "nbformat": 4,
 "nbformat_minor": 5
}
