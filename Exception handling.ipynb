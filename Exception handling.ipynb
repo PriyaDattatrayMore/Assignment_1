{
 "cells": [
  {
   "cell_type": "code",
   "execution_count": 1,
   "id": "8bf66c11-a17f-4b2e-8324-2567238c2650",
   "metadata": {},
   "outputs": [
    {
     "ename": "FileNotFoundError",
     "evalue": "[Errno 2] No such file or directory: 'test5.txt'",
     "output_type": "error",
     "traceback": [
      "\u001b[1;31m---------------------------------------------------------------------------\u001b[0m",
      "\u001b[1;31mFileNotFoundError\u001b[0m                         Traceback (most recent call last)",
      "Cell \u001b[1;32mIn[1], line 1\u001b[0m\n\u001b[1;32m----> 1\u001b[0m f \u001b[38;5;241m=\u001b[39m \u001b[38;5;28mopen\u001b[39m(\u001b[38;5;124m'\u001b[39m\u001b[38;5;124mtest5.txt\u001b[39m\u001b[38;5;124m'\u001b[39m,\u001b[38;5;124m'\u001b[39m\u001b[38;5;124mr\u001b[39m\u001b[38;5;124m'\u001b[39m)\n",
      "File \u001b[1;32m~\\anaconda3\\Lib\\site-packages\\IPython\\core\\interactiveshell.py:310\u001b[0m, in \u001b[0;36m_modified_open\u001b[1;34m(file, *args, **kwargs)\u001b[0m\n\u001b[0;32m    303\u001b[0m \u001b[38;5;28;01mif\u001b[39;00m file \u001b[38;5;129;01min\u001b[39;00m {\u001b[38;5;241m0\u001b[39m, \u001b[38;5;241m1\u001b[39m, \u001b[38;5;241m2\u001b[39m}:\n\u001b[0;32m    304\u001b[0m     \u001b[38;5;28;01mraise\u001b[39;00m \u001b[38;5;167;01mValueError\u001b[39;00m(\n\u001b[0;32m    305\u001b[0m         \u001b[38;5;124mf\u001b[39m\u001b[38;5;124m\"\u001b[39m\u001b[38;5;124mIPython won\u001b[39m\u001b[38;5;124m'\u001b[39m\u001b[38;5;124mt let you open fd=\u001b[39m\u001b[38;5;132;01m{\u001b[39;00mfile\u001b[38;5;132;01m}\u001b[39;00m\u001b[38;5;124m by default \u001b[39m\u001b[38;5;124m\"\u001b[39m\n\u001b[0;32m    306\u001b[0m         \u001b[38;5;124m\"\u001b[39m\u001b[38;5;124mas it is likely to crash IPython. If you know what you are doing, \u001b[39m\u001b[38;5;124m\"\u001b[39m\n\u001b[0;32m    307\u001b[0m         \u001b[38;5;124m\"\u001b[39m\u001b[38;5;124myou can use builtins\u001b[39m\u001b[38;5;124m'\u001b[39m\u001b[38;5;124m open.\u001b[39m\u001b[38;5;124m\"\u001b[39m\n\u001b[0;32m    308\u001b[0m     )\n\u001b[1;32m--> 310\u001b[0m \u001b[38;5;28;01mreturn\u001b[39;00m io_open(file, \u001b[38;5;241m*\u001b[39margs, \u001b[38;5;241m*\u001b[39m\u001b[38;5;241m*\u001b[39mkwargs)\n",
      "\u001b[1;31mFileNotFoundError\u001b[0m: [Errno 2] No such file or directory: 'test5.txt'"
     ]
    }
   ],
   "source": [
    "f = open('test5.txt','r')"
   ]
  },
  {
   "cell_type": "code",
   "execution_count": 3,
   "id": "7f5aea6a-8ebc-490a-b537-5f418e0133f0",
   "metadata": {},
   "outputs": [
    {
     "name": "stdout",
     "output_type": "stream",
     "text": [
      "Create the file first\n"
     ]
    }
   ],
   "source": [
    "try:\n",
    "    f = open('test5.txt','r')\n",
    "except Exception:\n",
    "    print('Create the file first')"
   ]
  },
  {
   "cell_type": "code",
   "execution_count": 6,
   "id": "ba26bfec-85da-4a72-a5d3-ea224b6d10b9",
   "metadata": {},
   "outputs": [
    {
     "ename": "NameError",
     "evalue": "name 'var1' is not defined",
     "output_type": "error",
     "traceback": [
      "\u001b[1;31m---------------------------------------------------------------------------\u001b[0m",
      "\u001b[1;31mNameError\u001b[0m                                 Traceback (most recent call last)",
      "Cell \u001b[1;32mIn[6], line 3\u001b[0m\n\u001b[0;32m      1\u001b[0m \u001b[38;5;28;01mtry\u001b[39;00m:\n\u001b[0;32m      2\u001b[0m     f \u001b[38;5;241m=\u001b[39m \u001b[38;5;28mopen\u001b[39m(\u001b[38;5;124m'\u001b[39m\u001b[38;5;124mtest1.txt\u001b[39m\u001b[38;5;124m'\u001b[39m,\u001b[38;5;124m'\u001b[39m\u001b[38;5;124mr\u001b[39m\u001b[38;5;124m'\u001b[39m)\n\u001b[1;32m----> 3\u001b[0m     var \u001b[38;5;241m=\u001b[39m var1\n\u001b[0;32m      4\u001b[0m \u001b[38;5;28;01mexcept\u001b[39;00m \u001b[38;5;167;01mFileNotFoundError\u001b[39;00m:\n\u001b[0;32m      5\u001b[0m     \u001b[38;5;28mprint\u001b[39m(\u001b[38;5;124m'\u001b[39m\u001b[38;5;124mCreate the file first\u001b[39m\u001b[38;5;124m'\u001b[39m)\n",
      "\u001b[1;31mNameError\u001b[0m: name 'var1' is not defined"
     ]
    }
   ],
   "source": [
    "try:\n",
    "    f = open('test1.txt','r')\n",
    "    var = var1\n",
    "except FileNotFoundError:\n",
    "    print('Create the file first')"
   ]
  },
  {
   "cell_type": "code",
   "execution_count": 4,
   "id": "7830ccc3-2f7f-4668-b36b-bb039530f493",
   "metadata": {},
   "outputs": [
    {
     "name": "stdout",
     "output_type": "stream",
     "text": [
      "Declare Variable\n"
     ]
    }
   ],
   "source": [
    "try:\n",
    "    f = open('test1.txt','r')\n",
    "    var = var1\n",
    "except FileNotFoundError:\n",
    "    print('Create the file first')\n",
    "except Exception:\n",
    "    print('Declare Variable')"
   ]
  },
  {
   "cell_type": "code",
   "execution_count": 5,
   "id": "744719ab-e5b5-48c1-9890-0240eac5821c",
   "metadata": {},
   "outputs": [
    {
     "name": "stdout",
     "output_type": "stream",
     "text": [
      "name 'var1' is not defined\n"
     ]
    }
   ],
   "source": [
    "try:\n",
    "    f = open('test1.txt','r')\n",
    "    var = var1\n",
    "except FileNotFoundError:\n",
    "    print('Create the file first')\n",
    "except Exception as e:\n",
    "    print(e)"
   ]
  },
  {
   "cell_type": "code",
   "execution_count": 7,
   "id": "686c1034-c6df-412e-825e-bd7218c99d99",
   "metadata": {},
   "outputs": [
    {
     "name": "stdout",
     "output_type": "stream",
     "text": [
      "This is 1st line\n",
      "This is 2nd line\n",
      "This is 3rd line\n",
      "This is 4th line\n"
     ]
    }
   ],
   "source": [
    "try:\n",
    "    f = open('test1.txt','r')\n",
    "except FileNotFoundError:\n",
    "    print('Create the file first')\n",
    "else:\n",
    "    print(f.read())\n",
    "    f.close()"
   ]
  },
  {
   "cell_type": "code",
   "execution_count": 8,
   "id": "f8db7307-9720-44cf-aaa5-6093a7ac3206",
   "metadata": {},
   "outputs": [
    {
     "name": "stdout",
     "output_type": "stream",
     "text": [
      "This is 1st line\n",
      "This is 2nd line\n",
      "This is 3rd line\n",
      "This is 4th line\n",
      "OK\n"
     ]
    }
   ],
   "source": [
    "try:\n",
    "    f = open('test1.txt','r')\n",
    "except FileNotFoundError:\n",
    "    print('Create the file first')\n",
    "else:\n",
    "    print(f.read())\n",
    "    f.close()\n",
    "finally:\n",
    "    print('OK')"
   ]
  },
  {
   "cell_type": "code",
   "execution_count": 9,
   "id": "c213e495-9f32-4dda-8587-5c6cce238dac",
   "metadata": {},
   "outputs": [
    {
     "name": "stdout",
     "output_type": "stream",
     "text": [
      "Create the file first\n",
      "OK\n"
     ]
    }
   ],
   "source": [
    "try:\n",
    "    f = open('test5.txt','r')\n",
    "except FileNotFoundError:\n",
    "    print('Create the file first')\n",
    "else:\n",
    "    print(f.read())\n",
    "    f.close()\n",
    "finally:\n",
    "    print('OK')"
   ]
  }
 ],
 "metadata": {
  "kernelspec": {
   "display_name": "Python 3 (ipykernel)",
   "language": "python",
   "name": "python3"
  },
  "language_info": {
   "codemirror_mode": {
    "name": "ipython",
    "version": 3
   },
   "file_extension": ".py",
   "mimetype": "text/x-python",
   "name": "python",
   "nbconvert_exporter": "python",
   "pygments_lexer": "ipython3",
   "version": "3.11.7"
  }
 },
 "nbformat": 4,
 "nbformat_minor": 5
}
