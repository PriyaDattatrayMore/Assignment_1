{
 "cells": [
  {
   "cell_type": "markdown",
   "id": "ef956033-5ada-41e4-acc6-60b0b456037a",
   "metadata": {},
   "source": [
    "#GUI"
   ]
  },
  {
   "cell_type": "code",
   "execution_count": 1,
   "id": "ad5c8ee7-6fcc-41ba-ad85-7475f9d55d67",
   "metadata": {},
   "outputs": [],
   "source": [
    "import tkinter as tk"
   ]
  },
  {
   "cell_type": "code",
   "execution_count": 4,
   "id": "6cc6c74a-0865-4ed5-b4aa-2cd27e809539",
   "metadata": {},
   "outputs": [],
   "source": [
    "top = tk.Tk()\n",
    "\n",
    "top.mainloop()"
   ]
  },
  {
   "cell_type": "code",
   "execution_count": 5,
   "id": "d1e5fc7c-a29b-4bb2-8763-83894ec4a14b",
   "metadata": {},
   "outputs": [],
   "source": [
    "top = tk.Tk()\n",
    "\n",
    "top.title('My Application')\n",
    "\n",
    "top.mainloop()"
   ]
  },
  {
   "cell_type": "code",
   "execution_count": 8,
   "id": "1e155a54-8e92-4e08-a083-3755287fbf9e",
   "metadata": {},
   "outputs": [],
   "source": [
    "top = tk.Tk()\n",
    "\n",
    "top.title('My Application')\n",
    "top.geometry('700x500')\n",
    "\n",
    "top.mainloop()"
   ]
  },
  {
   "cell_type": "markdown",
   "id": "aa826766-5b30-4da7-9d76-dc5f7a54fb5c",
   "metadata": {},
   "source": [
    "#Add button in GUI"
   ]
  },
  {
   "cell_type": "code",
   "execution_count": 9,
   "id": "733041ad-687f-41dd-b652-3e85ffe882c6",
   "metadata": {},
   "outputs": [],
   "source": [
    "top = tk.Tk()\n",
    "\n",
    "top.title('My Application')\n",
    "top.geometry('700x500')\n",
    "\n",
    "b1 = tk.Button(top).pack()\n",
    "\n",
    "top.mainloop()"
   ]
  },
  {
   "cell_type": "code",
   "execution_count": 10,
   "id": "24c3ed35-ea80-4d70-a6f9-691b3670dfb0",
   "metadata": {},
   "outputs": [],
   "source": [
    "top = tk.Tk()\n",
    "\n",
    "top.title('My Application')\n",
    "top.geometry('700x500')\n",
    "\n",
    "b1 = tk.Button(top, text = 'Click Mee !!!').pack()\n",
    "\n",
    "top.mainloop()"
   ]
  },
  {
   "cell_type": "code",
   "execution_count": 11,
   "id": "2a7e39d2-160d-448d-aae4-0e6652f03848",
   "metadata": {},
   "outputs": [],
   "source": [
    "top = tk.Tk()\n",
    "\n",
    "top.title('My Application')\n",
    "top.geometry('700x500')\n",
    "\n",
    "b1 = tk.Button(top, text = 'Click Mee !!!', bg = 'Pink').pack()\n",
    "\n",
    "top.mainloop()"
   ]
  },
  {
   "cell_type": "code",
   "execution_count": 12,
   "id": "41aab34b-5a00-455b-935d-9405851f06ce",
   "metadata": {},
   "outputs": [],
   "source": [
    "top = tk.Tk()\n",
    "\n",
    "top.title('My Application')\n",
    "top.geometry('700x500')\n",
    "\n",
    "b1 = tk.Button(top, text = 'Click Mee !!!', bg = 'Pink').pack()\n",
    "e1 = tk.Entry(top).pack()\n",
    "\n",
    "top.mainloop()"
   ]
  },
  {
   "cell_type": "code",
   "execution_count": 13,
   "id": "d7368241-9018-475b-a26d-9a6c22c9a70c",
   "metadata": {},
   "outputs": [],
   "source": [
    "top = tk.Tk()\n",
    "\n",
    "top.title('My Application')\n",
    "top.geometry('700x500')\n",
    "\n",
    "b1 = tk.Button(top, text = 'Click Mee !!!', bg = 'Pink').pack()\n",
    "e1 = tk.Entry(top).pack()\n",
    "t1 = tk.Text(top).pack()\n",
    "\n",
    "top.mainloop()"
   ]
  },
  {
   "cell_type": "code",
   "execution_count": 18,
   "id": "4563e7c6-3f3e-491f-b4f5-d0d99c441b8e",
   "metadata": {},
   "outputs": [],
   "source": [
    "top = tk.Tk()\n",
    "\n",
    "top.title('My Application')\n",
    "top.geometry('700x500')\n",
    "\n",
    "b1 = tk.Button(top, text = 'Click Mee !!!', bg = 'Pink').grid(column=0,row=0)\n",
    "e1 = tk.Entry(top).grid(column=1,row=0)\n",
    "t1 = tk.Text(top).grid(column=2,row=2)\n",
    "\n",
    "top.mainloop()"
   ]
  },
  {
   "cell_type": "code",
   "execution_count": 2,
   "id": "ffd3c28c-cb7d-4082-bf9b-05893de04a49",
   "metadata": {},
   "outputs": [],
   "source": [
    "import tkinter as tk\n",
    "top = tk.Tk()\n",
    "\n",
    "top.title('My Application')\n",
    "top.geometry('700x500')\n",
    "\n",
    "b1 = tk.Button(top, text = 'Click Mee !!!', bg = 'Pink').place(x = 100, y = 150)\n",
    "e1 = tk.Entry(top).place(x = 100, y = 100)\n",
    "t1 = tk.Text(top).place(x = 100, y = 200)\n",
    "\n",
    "top.mainloop()"
   ]
  },
  {
   "cell_type": "code",
   "execution_count": 7,
   "id": "02d75f98-d716-403f-8e1b-a2c315936cf3",
   "metadata": {},
   "outputs": [],
   "source": [
    "top = tk.Tk()\n",
    "\n",
    "top.title('My Application')\n",
    "top.geometry('700x500')\n",
    "\n",
    "b1 = tk.Button(top, text = 'Click Mee !!!', bg = 'Pink').pack(side = 'bottom')\n",
    "\n",
    "top.mainloop()"
   ]
  },
  {
   "cell_type": "markdown",
   "id": "25563f55-3a33-4d7b-b7ba-9d9d4d4e959b",
   "metadata": {},
   "source": [
    "# Combobox"
   ]
  },
  {
   "cell_type": "code",
   "execution_count": 61,
   "id": "a3531f70-885a-4504-8e3f-d3c3074dca45",
   "metadata": {},
   "outputs": [],
   "source": [
    "'''import tkinter as tk\n",
    "import tkinter.ttk import *\n",
    "from tkinter import BooleanVar\n",
    "from tkinter import messagebox\n",
    "from tkinter import scrolledtext'''\n",
    "\n",
    "import tkinter as tk\n",
    "from tkinter.ttk import *\n",
    "from tkinter import BooleanVar, messagebox, scrolledtext"
   ]
  },
  {
   "cell_type": "code",
   "execution_count": 64,
   "id": "3f46ef74-51fb-4224-a90e-befff0af0d0c",
   "metadata": {},
   "outputs": [],
   "source": [
    "import tkinter as tk\n",
    "from tkinter import ttk\n",
    "\n",
    "top = tk.Tk()\n",
    "\n",
    "top.title('My Application')\n",
    "top.geometry('700x500')\n",
    "\n",
    "b1 = tk.Button(top, text='Click Me!!!', bg='Pink').place(x=100, y=150)\n",
    "e1 = tk.Entry(top).place(x=100, y=100)\n",
    "t1 = tk.Text(top).place(x=100, y=200)\n",
    "\n",
    "combo = ttk.Combobox(top)\n",
    "combo['values'] = [1, 2, 3, 4, 5, 6, 7, 8, 9, 'Next']\n",
    "combo.current(2)\n",
    "combo.place(x=20, y=50)\n",
    "\n",
    "top.mainloop()"
   ]
  },
  {
   "cell_type": "markdown",
   "id": "900cc16b-b8f4-404b-9166-9ce3ba6ec2f1",
   "metadata": {},
   "source": [
    "# Cheak Button"
   ]
  },
  {
   "cell_type": "code",
   "execution_count": 68,
   "id": "fb625823-abae-427f-94b2-2afa88dcf295",
   "metadata": {},
   "outputs": [],
   "source": [
    "import tkinter as tk\n",
    "from tkinter import ttk\n",
    "\n",
    "top = tk.Tk()\n",
    "\n",
    "top.title('My Application')\n",
    "top.geometry('700x500')\n",
    "\n",
    "b1 = tk.Button(top, text='Click Mee !!!', bg='Pink').place(x=100, y=150)\n",
    "e1 = tk.Entry(top).place(x=100, y=100)\n",
    "t1 = tk.Text(top).place(x=100, y=200)\n",
    "\n",
    "combo = ttk.Combobox(top)\n",
    "combo['values'] = [1, 2, 3, 4, 5, 6, 7, 8, 9, 'Next']\n",
    "combo.current(2)\n",
    "combo.place(x=20, y=50)\n",
    "\n",
    "ch = tk.BooleanVar()\n",
    "ch.set(True)\n",
    "cb = tk.Checkbutton(top, text='DONE', variable=ch).grid(column=3, row=3)\n",
    "\n",
    "top.mainloop()\n"
   ]
  },
  {
   "cell_type": "code",
   "execution_count": 70,
   "id": "53addac6-a12f-4097-afc6-69e3f9eb78df",
   "metadata": {},
   "outputs": [],
   "source": [
    "import tkinter as tk\n",
    "from tkinter import ttk\n",
    "\n",
    "top = tk.Tk()\n",
    "\n",
    "top.title('My Application')\n",
    "top.geometry('700x500')\n",
    "\n",
    "b1 = tk.Button(top, text='Click Mee !!!', bg='Pink').place(x=100, y=150)\n",
    "e1 = tk.Entry(top).place(x=100, y=100)\n",
    "t1 = tk.Text(top).place(x=100, y=200)\n",
    "\n",
    "combo = ttk.Combobox(top)\n",
    "combo['values'] = [1, 2, 3, 4, 5, 6, 7, 8, 9, 'Next']\n",
    "combo.current(2)\n",
    "combo.place(x=20, y=50)\n",
    "\n",
    "ch = tk.BooleanVar()\n",
    "ch.set(True)\n",
    "cb = tk.Checkbutton(top, text='DONE',var = ch, font = ('Arial bold',20)).grid(column=3,row=3)\n",
    "\n",
    "top.mainloop()\n"
   ]
  },
  {
   "cell_type": "code",
   "execution_count": 79,
   "id": "201387b5-aba6-4130-b379-c3188a2b68a3",
   "metadata": {},
   "outputs": [],
   "source": [
    "import tkinter as tk\n",
    "from tkinter import ttk\n",
    "\n",
    "top = tk.Tk()\n",
    "\n",
    "top.title('My Application')\n",
    "top.geometry('700x500')\n",
    "\n",
    "b1 = tk.Button(top, text='Click Mee !!!', bg='Pink').place(x=100, y=150)\n",
    "e1 = tk.Entry(top).place(x=100, y=100)\n",
    "t1 = tk.Text(top).place(x=100, y=200)\n",
    "\n",
    "combo = ttk.Combobox(top)\n",
    "combo['values'] = [1, 2, 3, 4, 5, 6, 7, 8, 9, 'Next']\n",
    "combo.current(2)\n",
    "combo.place(x=20, y=50)\n",
    "\n",
    "ch = tk.BooleanVar()\n",
    "ch.set(True)\n",
    "cb = tk.Checkbutton(top, text='DONE', variable=ch, font=('Arial bold', 20), cursor='hand2').grid(column=3, row=3)\n",
    "\n",
    "top.mainloop()"
   ]
  },
  {
   "cell_type": "markdown",
   "id": "520e034e-8767-4cec-8039-aece7f6c9168",
   "metadata": {},
   "source": [
    "#Scrolled Text"
   ]
  },
  {
   "cell_type": "code",
   "execution_count": 82,
   "id": "b731e7f3-1437-4a25-97f2-2ae958b3d48d",
   "metadata": {},
   "outputs": [],
   "source": [
    "import tkinter as tk\n",
    "from tkinter import ttk\n",
    "from tkinter import scrolledtext\n",
    "\n",
    "top = tk.Tk()\n",
    "\n",
    "top.title('My Application')\n",
    "top.geometry('700x500')\n",
    "\n",
    "b1 = tk.Button(top, text='Click Mee !!!', bg='Pink').place(x=100, y=150)\n",
    "e1 = tk.Entry(top).place(x=100, y=100)\n",
    "t1 = tk.Text(top).place(x=100, y=200)\n",
    "\n",
    "combo = ttk.Combobox(top)\n",
    "combo['values'] = [1, 2, 3, 4, 5, 6, 7, 8, 9, 'Next']\n",
    "combo.current(2)\n",
    "combo.place(x=20, y=50)\n",
    "\n",
    "ch = tk.BooleanVar()\n",
    "ch.set(True)\n",
    "cb = tk.Checkbutton(top, text='DONE', var=ch, font=('Arial bold', 20)).grid(column=3, row=3)\n",
    "\n",
    "txt = scrolledtext.ScrolledText(top, width=30, height=30).grid(column=2, row=2)\n",
    "\n",
    "top.mainloop()"
   ]
  },
  {
   "cell_type": "markdown",
   "id": "69193bea-f9d8-4ec7-8667-45b995904eed",
   "metadata": {},
   "source": [
    "#Lable"
   ]
  },
  {
   "cell_type": "code",
   "execution_count": 84,
   "id": "179b3e1c-0c74-4b9b-8a46-ac2be1ef9ae7",
   "metadata": {},
   "outputs": [],
   "source": [
    "import tkinter as tk\n",
    "from tkinter import ttk\n",
    "from tkinter import scrolledtext\n",
    "\n",
    "top = tk.Tk()\n",
    "\n",
    "top.title('My Application')\n",
    "top.geometry('700x500')\n",
    "\n",
    "def dis():\n",
    "    lab = tk.Label(top, text='Oops!!').place(x=200, y=200)\n",
    "\n",
    "b1 = tk.Button(top, text='Click Mee !!!', bg='Pink', command=dis).place(x=100, y=150)\n",
    "e1 = tk.Entry(top).place(x=100, y=100)\n",
    "t1 = tk.Text(top).place(x=100, y=200)\n",
    "\n",
    "combo = ttk.Combobox(top)\n",
    "combo['values'] = [1, 2, 3, 4, 5, 6, 7, 8, 9, 'Next']\n",
    "combo.current(2)\n",
    "combo.place(x=20, y=50)\n",
    "\n",
    "ch = tk.BooleanVar()\n",
    "ch.set(True)\n",
    "cb = tk.Checkbutton(top, text='DONE', var=ch, font=('Arial bold', 20)).grid(column=3, row=3)\n",
    "\n",
    "txt = scrolledtext.ScrolledText(top, width=30, height=30).grid(column=2, row=2)\n",
    "\n",
    "top.mainloop()"
   ]
  },
  {
   "cell_type": "code",
   "execution_count": 96,
   "id": "b4bf4615-5084-44a0-b891-44dc622ce337",
   "metadata": {},
   "outputs": [],
   "source": [
    "top = tk.Tk()\n",
    "\n",
    "top.title('Square of number')\n",
    "top.geometry('700x500')\n",
    "\n",
    "top.mainloop()"
   ]
  },
  {
   "cell_type": "code",
   "execution_count": 97,
   "id": "4ec606a7-e41d-4f87-8ac3-503b4e21c1f3",
   "metadata": {},
   "outputs": [],
   "source": [
    "top = tk.Tk()\n",
    "\n",
    "top.title('Square of number')\n",
    "top.geometry('700x500')\n",
    "\n",
    "l1 = tk.Label(top, text= 'Input').place( x = 50, y = 50)\n",
    "e1 = tk.Entry(top).place( x = 100, y = 50)\n",
    "b1 = tk.Button(top, text= 'Square', font = ('Bold',14), bg = 'purple', fg = 'yellow').place( x = 120, y = 100)\n",
    "\n",
    "top.mainloop()"
   ]
  },
  {
   "cell_type": "code",
   "execution_count": 99,
   "id": "86debb08-9ecd-434a-aa3f-edfe9381dadf",
   "metadata": {},
   "outputs": [],
   "source": [
    "import tkinter as tk\n",
    "\n",
    "from tkinter import messagebox\n",
    "\n",
    "top = tk.Tk()\n",
    "\n",
    "top.title('Square of number')\n",
    "top.geometry('700x500')\n",
    "\n",
    "data = tk. IntVar()\n",
    "\n",
    "def square():\n",
    "    num = data.get()\n",
    "    result = num * num\n",
    "    messagebox.showinfo('Message','Square is %i' %result)\n",
    "\n",
    "l1 = tk.Label(top, text= 'Input').place( x = 50, y = 50)\n",
    "e1 = tk.Entry(top, textvariable = data).place( x = 100, y = 50)\n",
    "b1 = tk.Button(top, text= 'Square', command = square, font = ('Bold',14), bg = 'purple', fg = 'yellow').place( x = 120, y = 100)\n",
    "\n",
    "top.mainloop()"
   ]
  },
  {
   "cell_type": "code",
   "execution_count": 32,
   "id": "e75dad6f-e915-4abf-8c04-b4384d27bd93",
   "metadata": {},
   "outputs": [],
   "source": [
    "# Take 2 no's add,sub,mul,divide"
   ]
  },
  {
   "cell_type": "code",
   "execution_count": 100,
   "id": "723cea43-4af6-4a58-a6df-e6ddb1a38382",
   "metadata": {},
   "outputs": [],
   "source": [
    "import tkinter as tk\n",
    "from tkinter import messagebox\n",
    "\n",
    "top = tk.Tk()\n",
    "\n",
    "top.title('Arithmetic Operations')\n",
    "top.geometry('700x500')\n",
    "\n",
    "data1 = tk. IntVar()\n",
    "data2 = tk. IntVar()\n",
    "\n",
    "def add():\n",
    "    num1 = data1.get()\n",
    "    num2 = data2.get()\n",
    "    result = num1 + num2\n",
    "    messagebox.showinfo('Message','Addition is %i' %result)\n",
    "\n",
    "def sub():\n",
    "    num1 = data1.get()\n",
    "    num2 = data2.get()\n",
    "    result = num1 - num2\n",
    "    messagebox.showinfo('Message','Substraction is %i' %result)\n",
    "\n",
    "def mul():\n",
    "    num1 = data1.get()\n",
    "    num2 = data2.get()\n",
    "    result = num1 * num2\n",
    "    messagebox.showinfo('Message','Multiplication is %i' %result)\n",
    "\n",
    "def div():\n",
    "    num1 = data1.get()\n",
    "    num2 = data2.get()\n",
    "    result = num1 / num2\n",
    "    messagebox.showinfo('Message','Division is %i' %result)\n",
    "\n",
    "l1 = tk.Label(top, text= 'No 1').place( x = 50, y = 50)\n",
    "l2 = tk.Label(top, text= 'No 2').place( x = 50, y = 100)\n",
    "e1 = tk.Entry(top, textvariable = data1).place( x = 100, y = 50)\n",
    "e2 = tk.Entry(top, textvariable = data2).place( x = 100, y = 100)\n",
    "\n",
    "b1 = tk.Button(top, text= 'Add', command = add, font = ('Bold',14), bg = 'purple', fg = 'yellow').place( x = 50, y = 200)\n",
    "b2 = tk.Button(top, text= 'Sub', command = sub, font = ('Bold',14), bg = 'purple', fg = 'yellow').place( x = 150, y = 200)\n",
    "b3 = tk.Button(top, text= 'Mult', command = mul, font = ('Bold',14), bg = 'purple', fg = 'yellow').place( x = 250, y = 200)\n",
    "b4 = tk.Button(top, text= 'Div', command = div, font = ('Bold',14), bg = 'purple', fg = 'yellow').place( x = 350, y = 200)\n",
    "\n",
    "\n",
    "top.mainloop()"
   ]
  },
  {
   "cell_type": "code",
   "execution_count": null,
   "id": "6118b5f1-987f-46b3-833d-640dfaeed144",
   "metadata": {},
   "outputs": [],
   "source": [
    "# Calculater"
   ]
  }
 ],
 "metadata": {
  "kernelspec": {
   "display_name": "Python 3 (ipykernel)",
   "language": "python",
   "name": "python3"
  },
  "language_info": {
   "codemirror_mode": {
    "name": "ipython",
    "version": 3
   },
   "file_extension": ".py",
   "mimetype": "text/x-python",
   "name": "python",
   "nbconvert_exporter": "python",
   "pygments_lexer": "ipython3",
   "version": "3.11.7"
  }
 },
 "nbformat": 4,
 "nbformat_minor": 5
}
