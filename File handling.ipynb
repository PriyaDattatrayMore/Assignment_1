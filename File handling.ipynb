{
 "cells": [
  {
   "cell_type": "code",
   "execution_count": 10,
   "id": "fcb563ff-7e90-4502-8de9-52b42687f400",
   "metadata": {},
   "outputs": [
    {
     "data": {
      "text/plain": [
       "\"India has been a federal republic since 1950, governed through a democratic parliamentary system. It is a pluralistic, multilingual and multi-ethnic society. India's population grew from 361 million in 1951 to almost 1.4 billion in 2022.[61] During the same time, its nominal per capita income increased from US$64 annually to US$2,601, and its literacy rate from 16.6% to 74%. From being a comparatively destitute country in 1951,[62] India has become a fast-growing major economy and a hub for information technology services, with an expanding middle class.[63] India has a space programme with several planned or completed extraterrestrial missions. Indian movies, music, and spiritual teachings play an increasing role in global culture.[64] India has substantially reduced its rate of poverty, though at the cost of increasing economic inequality.[65] India is a nuclear-weapon state, which ranks high in military expenditure. It has disputes over Kashmir with its neighbours, Pakistan and China, unresolved since the mid-20th century.[66] Among the socio-economic challenges India faces are gender inequality, child malnutrition,[67] and rising levels of air pollution.[68] India's land is megadiverse, with four biodiversity hotspots.[69] Its forest cover comprises 21.7% of its area.[70] India's wildlife, which has traditionally been viewed with tolerance in India's culture,[71] is supported among these forests, and elsewhere, in protected habitats.\""
      ]
     },
     "execution_count": 10,
     "metadata": {},
     "output_type": "execute_result"
    }
   ],
   "source": [
    "f = open('india1.txt','r')\n",
    "f.read()"
   ]
  },
  {
   "cell_type": "code",
   "execution_count": 11,
   "id": "711fbd83-4c92-432e-a288-8cd70ee50008",
   "metadata": {},
   "outputs": [
    {
     "name": "stdout",
     "output_type": "stream",
     "text": [
      "india1.txt\n"
     ]
    }
   ],
   "source": [
    "print(f.name)"
   ]
  },
  {
   "cell_type": "code",
   "execution_count": 12,
   "id": "6c3dda63-e68b-46c9-abb2-caa5a78aab42",
   "metadata": {},
   "outputs": [
    {
     "name": "stdout",
     "output_type": "stream",
     "text": [
      "r\n"
     ]
    }
   ],
   "source": [
    "print(f.mode)"
   ]
  },
  {
   "cell_type": "code",
   "execution_count": 13,
   "id": "3b694e6f-4458-4b51-81eb-58f8c3018780",
   "metadata": {},
   "outputs": [
    {
     "name": "stdout",
     "output_type": "stream",
     "text": [
      "False\n"
     ]
    }
   ],
   "source": [
    "print(f.closed)"
   ]
  },
  {
   "cell_type": "code",
   "execution_count": 14,
   "id": "e81884d3-5f03-47bd-b02f-f0065d5de449",
   "metadata": {},
   "outputs": [],
   "source": [
    "f.close()"
   ]
  },
  {
   "cell_type": "code",
   "execution_count": 15,
   "id": "26b676e5-6fb6-4a26-8a11-5f5a3f7cee56",
   "metadata": {},
   "outputs": [
    {
     "name": "stdout",
     "output_type": "stream",
     "text": [
      "True\n"
     ]
    }
   ],
   "source": [
    "print(f.closed)"
   ]
  },
  {
   "cell_type": "code",
   "execution_count": 16,
   "id": "0519b6c6-9461-4059-b8e5-66895888a704",
   "metadata": {},
   "outputs": [
    {
     "data": {
      "text/plain": [
       "<_io.TextIOWrapper name='india1.txt' mode='r' encoding='cp1252'>"
      ]
     },
     "execution_count": 16,
     "metadata": {},
     "output_type": "execute_result"
    }
   ],
   "source": [
    "f"
   ]
  },
  {
   "cell_type": "code",
   "execution_count": 17,
   "id": "912ba242-8e8c-4829-a6e0-395202a1baa4",
   "metadata": {},
   "outputs": [],
   "source": [
    "with open('india1.txt','r') as f:\n",
    "    pass"
   ]
  },
  {
   "cell_type": "code",
   "execution_count": 18,
   "id": "408b193b-8be7-40e2-8747-ef2d289a30d3",
   "metadata": {},
   "outputs": [
    {
     "name": "stdout",
     "output_type": "stream",
     "text": [
      "True\n"
     ]
    }
   ],
   "source": [
    "print(f.closed)"
   ]
  },
  {
   "cell_type": "code",
   "execution_count": 20,
   "id": "b893cc3e-a331-49f7-b63d-05e5373e39d4",
   "metadata": {},
   "outputs": [
    {
     "name": "stdout",
     "output_type": "stream",
     "text": [
      "India has been a federal republic since 1950, governed through a democratic parliamentary system. It is a pluralistic, multilingual and multi-ethnic society. India's population grew from 361 million in 1951 to almost 1.4 billion in 2022.[61] During the same time, its nominal per capita income increased from US$64 annually to US$2,601, and its literacy rate from 16.6% to 74%. From being a comparatively destitute country in 1951,[62] India has become a fast-growing major economy and a hub for information technology services, with an expanding middle class.[63] India has a space programme with several planned or completed extraterrestrial missions. Indian movies, music, and spiritual teachings play an increasing role in global culture.[64] India has substantially reduced its rate of poverty, though at the cost of increasing economic inequality.[65] India is a nuclear-weapon state, which ranks high in military expenditure. It has disputes over Kashmir with its neighbours, Pakistan and China, unresolved since the mid-20th century.[66] Among the socio-economic challenges India faces are gender inequality, child malnutrition,[67] and rising levels of air pollution.[68] India's land is megadiverse, with four biodiversity hotspots.[69] Its forest cover comprises 21.7% of its area.[70] India's wildlife, which has traditionally been viewed with tolerance in India's culture,[71] is supported among these forests, and elsewhere, in protected habitats.\n"
     ]
    }
   ],
   "source": [
    "with open('india1.txt','r') as f:\n",
    "    content = f. read()\n",
    "    print(content)"
   ]
  },
  {
   "cell_type": "code",
   "execution_count": 21,
   "id": "bba442fd-0bd1-4934-8356-53e81d2fc3e0",
   "metadata": {},
   "outputs": [
    {
     "name": "stdout",
     "output_type": "stream",
     "text": [
      "India has been a federal republic since 1950, governed through a democratic parliamentary system. It is a pluralistic, multilingual and multi-ethnic society. India's population grew from 361 million in 1951 to almost 1.4 billion in 2022.[61] During the same time, its nominal per capita income increased from US$64 annually to US$2,601, and its literacy rate from 16.6% to 74%. From being a comparatively destitute country in 1951,[62] India has become a fast-growing major economy and a hub for information technology services, with an expanding middle class.[63] India has a space programme with several planned or completed extraterrestrial missions. Indian movies, music, and spiritual teachings play an increasing role in global culture.[64] India has substantially reduced its rate of poverty, though at the cost of increasing economic inequality.[65] India is a nuclear-weapon state, which ranks high in military expenditure. It has disputes over Kashmir with its neighbours, Pakistan and China, unresolved since the mid-20th century.[66] Among the socio-economic challenges India faces are gender inequality, child malnutrition,[67] and rising levels of air pollution.[68] India's land is megadiverse, with four biodiversity hotspots.[69] Its forest cover comprises 21.7% of its area.[70] India's wildlife, which has traditionally been viewed with tolerance in India's culture,[71] is supported among these forests, and elsewhere, in protected habitats.\n"
     ]
    }
   ],
   "source": [
    "with open('india1.txt','r') as f:\n",
    "    content = f. readline()\n",
    "    print(content)"
   ]
  },
  {
   "cell_type": "code",
   "execution_count": 21,
   "id": "d3f92fc7-a233-438e-bef5-254283531562",
   "metadata": {},
   "outputs": [
    {
     "name": "stdout",
     "output_type": "stream",
     "text": [
      "['This is 1st line\\n', 'This is 2nd line\\n', 'This is 3rd line\\n', 'This is 4th line']\n"
     ]
    }
   ],
   "source": [
    "with open('test1.txt','r') as f:\n",
    "    content = f. readlines()\n",
    "    print(content)"
   ]
  },
  {
   "cell_type": "code",
   "execution_count": 23,
   "id": "14a0a3ac-a1a8-4647-801f-c2a2fbf04f4c",
   "metadata": {},
   "outputs": [
    {
     "name": "stdout",
     "output_type": "stream",
     "text": [
      "This is 1st line\n",
      "\n"
     ]
    }
   ],
   "source": [
    "with open('test1.txt','r') as f:\n",
    "    content = f. readline()\n",
    "    print(content)"
   ]
  },
  {
   "cell_type": "code",
   "execution_count": 24,
   "id": "a5ca916f-7514-4aec-81e5-472cac78793d",
   "metadata": {},
   "outputs": [
    {
     "name": "stdout",
     "output_type": "stream",
     "text": [
      "This is 1st line\n",
      "\n",
      "This is 2nd line\n",
      "\n"
     ]
    }
   ],
   "source": [
    "with open('test1.txt','r') as f:\n",
    "    content = f. readline()\n",
    "    print(content)\n",
    "    content = f. readline()\n",
    "    print(content)"
   ]
  },
  {
   "cell_type": "code",
   "execution_count": 29,
   "id": "d254c309-b899-4282-bbda-36bb91e944b3",
   "metadata": {},
   "outputs": [
    {
     "name": "stdout",
     "output_type": "stream",
     "text": [
      "This is 1st line\n",
      "This is 2nd line\n"
     ]
    }
   ],
   "source": [
    "with open('test1.txt','r') as f:\n",
    "    content = f. readline()\n",
    "    print(content, end = '')\n",
    "    content = f. readline()\n",
    "    print(content, end = '')"
   ]
  },
  {
   "cell_type": "markdown",
   "id": "beaedadc-c962-44e3-9150-804cc95d1db5",
   "metadata": {},
   "source": [
    "#USE LOOP"
   ]
  },
  {
   "cell_type": "code",
   "execution_count": 28,
   "id": "2cc3510b-b50e-4be5-9925-6c01c5a8b463",
   "metadata": {},
   "outputs": [
    {
     "name": "stdout",
     "output_type": "stream",
     "text": [
      "This is 1st line\n",
      "This is 2nd line\n",
      "This is 3rd line\n",
      "This is 4th line"
     ]
    }
   ],
   "source": [
    "with open ('test1.txt','r') as f:\n",
    "    for line in f:\n",
    "        print(line, end ='')"
   ]
  },
  {
   "cell_type": "code",
   "execution_count": 31,
   "id": "62a09674-16cc-45b3-a2c4-27ef6d2852cb",
   "metadata": {},
   "outputs": [
    {
     "name": "stdout",
     "output_type": "stream",
     "text": [
      "This \n"
     ]
    }
   ],
   "source": [
    "with open('test1.txt','r') as f:\n",
    "    content = f.read(5)\n",
    "    print(content)"
   ]
  },
  {
   "cell_type": "code",
   "execution_count": 37,
   "id": "220adc53-67d9-4d42-93c7-3a47ce1b08fe",
   "metadata": {},
   "outputs": [
    {
     "name": "stdout",
     "output_type": "stream",
     "text": [
      "This \n",
      "is 1s\n"
     ]
    }
   ],
   "source": [
    "with open('test1.txt','r') as f:\n",
    "    content = f.read(5)\n",
    "    print(content)\n",
    "    content = f.read(5)\n",
    "    print(content)"
   ]
  },
  {
   "cell_type": "markdown",
   "id": "66b4f72a-a502-4548-b409-83fc24498bc8",
   "metadata": {},
   "source": [
    "#USE WHILE LOOP"
   ]
  },
  {
   "cell_type": "code",
   "execution_count": 43,
   "id": "7f43a524-0d93-4f08-baf7-59575edac7e9",
   "metadata": {},
   "outputs": [
    {
     "name": "stdout",
     "output_type": "stream",
     "text": [
      "This is 1st line\n",
      "This is 2nd line\n",
      "This is 3rd line\n",
      "This is 4th line"
     ]
    }
   ],
   "source": [
    "with open ('test1.txt','r') as f:\n",
    "    size = 5\n",
    "    content = f.read(size)\n",
    "    while len(content) > 0:\n",
    "        print(content, end = '')\n",
    "        content = f.read(size)"
   ]
  },
  {
   "cell_type": "code",
   "execution_count": 44,
   "id": "187ad542-8873-4da8-8a14-ca2cc66378ad",
   "metadata": {},
   "outputs": [
    {
     "name": "stdout",
     "output_type": "stream",
     "text": [
      "This \n",
      "This \n"
     ]
    }
   ],
   "source": [
    "with open('test1.txt','r') as f:\n",
    "    content = f.read(5)\n",
    "    print(content)\n",
    "    f.seek(0)\n",
    "    content = f.read(5)\n",
    "    print(content)"
   ]
  },
  {
   "cell_type": "code",
   "execution_count": 45,
   "id": "9c59b7db-8c8a-4443-9bee-6ca926cd4c73",
   "metadata": {},
   "outputs": [
    {
     "name": "stdout",
     "output_type": "stream",
     "text": [
      "This \n",
      "line\n",
      "\n"
     ]
    }
   ],
   "source": [
    "with open('test1.txt','r') as f:\n",
    "    content = f.read(5)\n",
    "    print(content)\n",
    "    f.seek(12)\n",
    "    content = f.read(5)\n",
    "    print(content)"
   ]
  },
  {
   "cell_type": "markdown",
   "id": "cbbde0df-38da-4859-974d-a13a065f346a",
   "metadata": {},
   "source": [
    "### Write"
   ]
  },
  {
   "cell_type": "code",
   "execution_count": 46,
   "id": "22603ffc-5639-41a5-b8a4-933d06e94bbe",
   "metadata": {},
   "outputs": [],
   "source": [
    "with open('test2.txt','w') as w:\n",
    "    pass"
   ]
  },
  {
   "cell_type": "code",
   "execution_count": 47,
   "id": "074875d3-84da-4aea-9097-16a6d1011469",
   "metadata": {},
   "outputs": [],
   "source": [
    "with open('test2.txt','w') as w:\n",
    "    w.write('I like python')"
   ]
  },
  {
   "cell_type": "code",
   "execution_count": 51,
   "id": "a706a8db-4eae-4c1a-9071-24ead3768228",
   "metadata": {},
   "outputs": [],
   "source": [
    "with open('test2.txt','w') as w:\n",
    "    w.write('chinuu')\n",
    "    w.write('sinuu')"
   ]
  },
  {
   "cell_type": "code",
   "execution_count": 52,
   "id": "5d7ae3eb-2ac2-4e3d-b34f-e9703940e5f5",
   "metadata": {},
   "outputs": [],
   "source": [
    "with open('test2.txt','w') as w:\n",
    "    w.write('chinuu')\n",
    "    w.seek(0)\n",
    "    w.write('sinuu')"
   ]
  },
  {
   "cell_type": "code",
   "execution_count": 53,
   "id": "59094928-a8f6-4d90-bd84-2e8423fd1bc3",
   "metadata": {},
   "outputs": [],
   "source": [
    "with open('test1.txt','r') as rf:\n",
    "   with open('test1_copy.txt','w') as w:\n",
    "      for line in rf:\n",
    "          w.write(line)"
   ]
  },
  {
   "cell_type": "code",
   "execution_count": 54,
   "id": "bf89294c-f9e5-43c8-a76d-181449960eaa",
   "metadata": {},
   "outputs": [],
   "source": [
    "with open('test2_copy.txt','w') as w:\n",
    "   with open('test1.txt','r') as rf:\n",
    "      for line in rf:\n",
    "          w.write(line)"
   ]
  },
  {
   "cell_type": "code",
   "execution_count": null,
   "id": "55e79ef2-6793-46c8-9b10-73a7abf21882",
   "metadata": {},
   "outputs": [],
   "source": [
    "# image\n",
    "\n",
    "with open('wallpaper.jpg','rb') as rf:\n",
    "   with open('wall_copy.jpg','wb') as wf:"
   ]
  }
 ],
 "metadata": {
  "kernelspec": {
   "display_name": "Python 3 (ipykernel)",
   "language": "python",
   "name": "python3"
  },
  "language_info": {
   "codemirror_mode": {
    "name": "ipython",
    "version": 3
   },
   "file_extension": ".py",
   "mimetype": "text/x-python",
   "name": "python",
   "nbconvert_exporter": "python",
   "pygments_lexer": "ipython3",
   "version": "3.11.7"
  }
 },
 "nbformat": 4,
 "nbformat_minor": 5
}
